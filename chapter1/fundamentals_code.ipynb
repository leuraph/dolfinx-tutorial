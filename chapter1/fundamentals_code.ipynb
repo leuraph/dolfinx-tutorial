{
 "cells": [
  {
   "cell_type": "markdown",
   "id": "a94a1454",
   "metadata": {},
   "source": [
    "# Implementation\n",
    "\n",
    "Author: Jørgen Schartum Dokken\n",
    "\n",
    "This implementation is an adaptation of the work in {cite}`FenicsTutorial` to DOLFINx.\n",
    "\n",
    "In this section, you will learn:\n",
    "- How to use the built-in meshes in DOLFINx\n",
    "- How to create a spatially varying Dirichlet boundary conditions on the whole domain boundary\n",
    "- How to define a weak formulation of your PDE\n",
    "- How to solve the resulting system of linear equations\n",
    "- How to visualize the solution using a variety of tools\n",
    "- How to compute the $L^2(\\Omega)$ error and the error at mesh vertices\n",
    "\n",
    "## Interactive tutorials\n",
    "```{admonition} Run the tutorial as Jupyter notebook in browser\n",
    "As this book has been published as a Jupyter Book, each code can be run in your browser as a Jupyter notebook. To start such a notebook click the rocket symbol in the top right corner of the relevant tutorial.\n",
    "```\n",
    "\n",
    "The Poisson problem has so far featured a general domain $\\Omega$ and general functions $u_D$ for the boundary conditions and $f$ for the right hand side.\n",
    "Therefore, we need to make specific choices of $\\Omega, u_D$ and $f$. A wise choice is to construct a problem  with a known analytical solution, so that we can check that the computed solution is correct. The primary candidates are lower-order polynomials. The continuous Galerkin finite element spaces of degree $r$ will exactly reproduce polynomials of degree $r$. \n",
    "<!-- Particularly, piecewise linear continuous Galerkin finite elements are able to exactly reproduce a quadratic polynomial on \n",
    "a uniformly partitioned mesh. -->\n",
    " We use this fact to construct a quadratic function in $2D$. In particular we choose\n",
    "\\begin{align}\n",
    " u_e(x,y)=1+x^2+2y^2\n",
    " \\end{align}\n",
    "\n",
    "Inserting $u_e$ in the original boundary problem, we find that  \n",
    "\\begin{align}\n",
    "    f(x,y)= -6,\\qquad u_d(x,y)=u_e(x,y)=1+x^2+2y^2,\n",
    "\\end{align}\n",
    "regardless of the shape of the domain as long as we prescribe \n",
    "$u_e$ on the boundary.\n",
    "\n",
    "For simplicity, we choose the domain to be a unit square $\\Omega=[0,1]\\times [0,1]$\n",
    "\n",
    "This simple but very powerful method for constructing test problems is called _the method of manufactured solutions_. \n",
    "First pick a simple expression for the exact solution, plug into\n",
    "the equation to obtain the right-hand side (source term $f$). Then solve the equation with this right hand side, and using the exact solution as boundary condition. Finally, we create a program that tries to reproduce the exact solution.\n",
    "\n",
    "Note that in many cases, it can be hard to determine if the program works if it produces an error of size $10^{-5}$ on a\n",
    "$20 \\times 20$ grid. However, since we are using Sobolev spaces,\n",
    "we usually know about the numerical errors _asymptotic properties_. For instance that it is proportional to $h^2$ if $h$ is the size of a cell in the mesh. We can then compare the error on meshes with different $h$-values to see if the asymptotic behavior is correct. This technique will be explained in detail in the chapter [Improving your fenics code](./../chapter4/convergence).\n",
    "\n",
    "However, in cases where we have a solution we know that should have no approximation error, we know that the solution should\n",
    "be produced to machine precision by the program."
   ]
  },
  {
   "cell_type": "markdown",
   "id": "fd55d822",
   "metadata": {},
   "source": [
    "A major difference between a traditional FEniCS code and a FEniCSx code, is that one is not advised to use the wildcard import. We will see this throughout this first example.\n",
    "## Generating  simple meshes\n",
    "The next step is to define the discrete domain, _the mesh_. We do this by importing one of the built-in mesh generators. We will build a unit square mesh, i.e. a mesh spanning $[0,1]\\times[0,1]$. It can consist of either triangles or quadrilaterals."
   ]
  },
  {
   "cell_type": "code",
   "execution_count": 1,
   "id": "06a440f7",
   "metadata": {
    "vscode": {
     "languageId": "python"
    }
   },
   "outputs": [],
   "source": [
    "from mpi4py import MPI\n",
    "from dolfinx import mesh\n",
    "domain = mesh.create_unit_square(MPI.COMM_WORLD, 8, 8, mesh.CellType.quadrilateral)"
   ]
  },
  {
   "cell_type": "markdown",
   "id": "67879238",
   "metadata": {},
   "source": [
    "Note that in addition to give how many elements we would like to have in each direction. \n",
    "We also have to supply the _MPI-communicator_. \n",
    "This is to specify how we would like the program to behave in parallel. \n",
    "If we supply `MPI.COMM_WORLD` we create a single mesh, whose data is distributed over the number of processors we \n",
    "would like to use. We can for instance run the program in  parallel on two processors by using `mpirun`, as: \n",
    "``` bash\n",
    " mpirun -n 2 python3 t1.py\n",
    "```\n",
    "However, if we would like to create a separate mesh on each processor, we can use `MPI.COMM_SELF`.\n",
    "This is for instance  useful if we run a small problem, and would like to run it with multiple parameters.\n",
    "\n",
    "## Defining the finite element function space\n",
    " Once the mesh has been created, we can create the finite element function space $V$.\n",
    " We import the function space initializer from the `dolfinx.fem` module."
   ]
  },
  {
   "cell_type": "code",
   "execution_count": 2,
   "id": "59226325",
   "metadata": {
    "vscode": {
     "languageId": "python"
    }
   },
   "outputs": [],
   "source": [
    "from dolfinx.fem import FunctionSpace\n",
    "V = FunctionSpace(domain, (\"Lagrange\", 1))"
   ]
  },
  {
   "cell_type": "code",
   "execution_count": 3,
   "id": "747a0efe",
   "metadata": {
    "vscode": {
     "languageId": "python"
    }
   },
   "outputs": [],
   "source": [
    "from dolfinx import fem\n",
    "uD = fem.Function(V)\n",
    "uD.interpolate(lambda x: 1 + x[0]**2 + 2 * x[1]**2)"
   ]
  },
  {
   "cell_type": "markdown",
   "id": "d59d2900",
   "metadata": {},
   "source": [
    "We now have the boundary data (and in this case the solution of \n",
    "the finite element problem) represented in the discrete function space.\n",
    "Next we would like to apply the boundary values to all degrees of freedom that are on the boundary of the discrete domain. We start by identifying the facets (line-segments) representing the outer boundary, using `dolfinx.mesh.exterior_facet_indices`."
   ]
  },
  {
   "cell_type": "code",
   "execution_count": 4,
   "id": "672ed830",
   "metadata": {
    "vscode": {
     "languageId": "python"
    }
   },
   "outputs": [],
   "source": [
    "import numpy\n",
    "# Create facet to cell connectivity required to determine boundary facets\n",
    "tdim = domain.topology.dim\n",
    "fdim = tdim - 1\n",
    "domain.topology.create_connectivity(fdim, tdim)\n",
    "boundary_facets = mesh.exterior_facet_indices(domain.topology)"
   ]
  },
  {
   "cell_type": "markdown",
   "id": "8d4def17",
   "metadata": {},
   "source": [
    "For the current problem, as we are using the \"Lagrange\" 1 function space, the degrees of freedom are located at the vertices of each cell, thus each facet contains two degrees of freedom. \n",
    "\n",
    "To find the local indices of these degrees of freedom, we use `dolfinx.fem.locate_dofs_topological`, which takes in the function space, the dimension of entities in the mesh we would like to identify and the local entities. \n",
    "```{admonition} Local ordering of degrees of freedom and mesh vertices\n",
    "Many people expect there to be a 1-1 correspondence between the mesh coordinates and the coordinates of the degrees of freedom. \n",
    "However, this is only true in the case of `Lagrange` 1 elements on a first order mesh. Therefore, in DOLFINx we use separate local numbering for the mesh coordinates and the dof coordinates. To obtain the local dof coordinates we can use `V.tabulate_dof_coordinates()`, while the ordering of the local vertices can be obtained by `mesh.geometry.x`.\n",
    "```\n",
    "With this data at hand, we can create the Dirichlet boundary condition"
   ]
  },
  {
   "cell_type": "code",
   "execution_count": 5,
   "id": "ecc5b62e",
   "metadata": {
    "vscode": {
     "languageId": "python"
    }
   },
   "outputs": [],
   "source": [
    "boundary_dofs = fem.locate_dofs_topological(V, fdim, boundary_facets)\n",
    "bc = fem.dirichletbc(uD, boundary_dofs)"
   ]
  },
  {
   "cell_type": "markdown",
   "id": "d9d0e90d",
   "metadata": {},
   "source": [
    "## Defining the trial and test function\n",
    "\n",
    "In mathematics, we distinguish between trial and test spaces $V$ and $\\hat{V}$. The only difference in the present problem is the boundary conditions.\n",
    "In FEniCSx, we do not specify boundary conditions as part of the function space, so it is sufficient to use a common space for the trial and test function.\n",
    "\n",
    "We use the [Unified Form Language](https://github.com/FEniCS/ufl/) (UFL) to specify the varitional formulations. See {cite}`ufl2014` for more details."
   ]
  },
  {
   "cell_type": "code",
   "execution_count": 6,
   "id": "f7328520",
   "metadata": {
    "vscode": {
     "languageId": "python"
    }
   },
   "outputs": [],
   "source": [
    "import ufl\n",
    "u = ufl.TrialFunction(V)\n",
    "v = ufl.TestFunction(V)"
   ]
  },
  {
   "cell_type": "markdown",
   "id": "57058121",
   "metadata": {},
   "source": [
    "## Defining the source term\n",
    "As the source term is constant over the domain, we use `dolfinx.fem.Constant`"
   ]
  },
  {
   "cell_type": "code",
   "execution_count": 7,
   "id": "f652b517",
   "metadata": {
    "vscode": {
     "languageId": "python"
    }
   },
   "outputs": [],
   "source": [
    "from dolfinx import default_scalar_type\n",
    "f = fem.Constant(domain, default_scalar_type(-6))"
   ]
  },
  {
   "cell_type": "markdown",
   "id": "59ab99ad",
   "metadata": {},
   "source": [
    "```{admonition} Compilation speed-up\n",
    "Instead of wrapping $-6$ in a `dolfinx.fem.Constant`, we could simply define $f$ as `f=-6`.\n",
    "However, if we would like to change this parameter later in the simulation, we would have to redefine our variational formulation. The `dolfinx.fem.Constant` allows us to update the value in $f$ by using `f.value=5`. Additionally, by indicating that $f$ is a constant, we speed of compilation of the variational formulations required for the created linear system. \n",
    "```\n",
    "## Defining the variational problem\n",
    "As we now have defined all variables used to describe our variational problem, we can create the weak formulation"
   ]
  },
  {
   "cell_type": "code",
   "execution_count": 8,
   "id": "85bbfa51",
   "metadata": {
    "vscode": {
     "languageId": "python"
    }
   },
   "outputs": [],
   "source": [
    "a = ufl.dot(ufl.grad(u), ufl.grad(v)) * ufl.dx\n",
    "L = f * v * ufl.dx"
   ]
  },
  {
   "cell_type": "markdown",
   "id": "f9bb1beb",
   "metadata": {},
   "source": [
    "Note that there is a very close correspondence between the Python syntax and the mathematical syntax\n",
    "$\\int_{\\Omega} \\nabla u \\cdot \\nabla v ~\\mathrm{d} x$ and $\\int_{\\Omega}fv~\\mathrm{d} x$. \n",
    "The integration over the domain $\\Omega$ is defined by using `ufl.dx`, an integration measure over all cells of the mesh.\n",
    "\n",
    "This is the key strength of FEniCSx: the formulas in the variational formulation translate directly to very similar Python code, a feature that makes it easy to specify and solve complicated PDE problems.\n",
    "\n",
    "## Expressing inner products\n",
    "The inner product $\\int_\\Omega \\nabla u \\cdot \\nabla v ~\\mathrm{d} x$ can be expressed in various ways in UFL. We have used the notation `ufl.dot(ufl.grad(u), ufl.grad(v))*ufl.dx`. The dot product in UFL computes the sum (contraction) over the last index of the first factor and first index of the second factor. In this case, both factors are tensors of rank one (vectors) and so the sum is just over the single index of both $\\nabla u$ and $\\nabla v$. To compute an inner product of matrices (with two indices), one must instead of `ufl.dot` use the function `ufl.inner`. For vectors, `ufl.dot` and `ufl.inner` are equivalent.\n",
    "\n",
    "```{admonition} Complex numbers\n",
    "In DOLFINx, one can solve complex number problems by using an installation of PETSc using complex numbers.\n",
    "For variational formulations with complex numbers, one cannot use `ufl.dot` to compute inner products.\n",
    "One has to use `ufl.inner`, with the test-function as the second input argument for `ufl.inner`.\n",
    "See [Running DOLFINx in complex mode](./complex_mode) for more information.\n",
    "```\n",
    "\n",
    "\n",
    "## Forming and solving the linear system\n",
    "\n",
    "Having defined the finite element variational problem and boundary condition, we can create our `dolfinx.fem.petsc.LinearProblem`, as class for solving \n",
    "the variational problem: Find $u_h\\in V$ such that $a(u_h, v)==L(v) \\quad \\forall v \\in \\hat{V}$. We will use PETSc as our linear algebra backend, using a direct solver (LU-factorization).\n",
    "See the [PETSc-documentation](https://petsc.org/main/docs/manual/ksp/?highlight=ksp#ksp-linear-system-solvers) of the method for more information.\n",
    "PETSc is not a required dependency of DOLFINx, and therefore we explicitly import the DOLFINx wrapper for interfacing with PETSc."
   ]
  },
  {
   "cell_type": "code",
   "execution_count": 9,
   "id": "b22d6ab7",
   "metadata": {
    "vscode": {
     "languageId": "python"
    }
   },
   "outputs": [],
   "source": [
    "from dolfinx.fem.petsc import LinearProblem\n",
    "problem = LinearProblem(a, L, bcs=[bc], petsc_options={\"ksp_type\": \"preonly\", \"pc_type\": \"lu\"})\n",
    "uh = problem.solve()"
   ]
  },
  {
   "cell_type": "markdown",
   "id": "bea38a7e",
   "metadata": {},
   "source": [
    "Using `problem.solve()` we solve the linear system of equations and return a `dolfinx.fem.Function` containing the solution.\n",
    "## Computing the error\n",
    "Finally, we want to compute the error to check the accuracy of the solution. We do this by comparing the finite element solution `u` with the exact solution. We do this by interpolating the exact solution into the the $P_2$-function space."
   ]
  },
  {
   "cell_type": "code",
   "execution_count": 10,
   "id": "6069eb12",
   "metadata": {
    "vscode": {
     "languageId": "python"
    }
   },
   "outputs": [],
   "source": [
    "V2 = fem.FunctionSpace(domain, (\"Lagrange\", 2))\n",
    "uex = fem.Function(V2)\n",
    "uex.interpolate(lambda x: 1 + x[0]**2 + 2 * x[1]**2)"
   ]
  },
  {
   "cell_type": "markdown",
   "id": "1a2c3f62",
   "metadata": {},
   "source": [
    "We compute the error in two different ways. First, we compute the $L^2$-norm of the error, defined by $E=\\sqrt{\\int_\\Omega (u_D-u_h)^2\\mathrm{d} x}$. We use UFL to express the $L^2$-error, and use `dolfinx.fem.assemble_scalar` to compute the scalar value. In DOLFINx, `assemble_scalar` only assembles over the cells on the local process. This means that if we use 2 processes to solve our problem, we need to gather the solution to one (or all the processes.\n",
    "We can do this with the `MPI.allreduce` function."
   ]
  },
  {
   "cell_type": "code",
   "execution_count": 11,
   "id": "39a7e446",
   "metadata": {
    "vscode": {
     "languageId": "python"
    }
   },
   "outputs": [],
   "source": [
    "L2_error = fem.form(ufl.inner(uh - uex, uh - uex) * ufl.dx)\n",
    "error_local = fem.assemble_scalar(L2_error)\n",
    "error_L2 = numpy.sqrt(domain.comm.allreduce(error_local, op=MPI.SUM))"
   ]
  },
  {
   "cell_type": "markdown",
   "id": "27faebee",
   "metadata": {},
   "source": [
    "Secondly, we compute the maximum error at any degree of freedom.\n",
    "As the finite element function $u$ can be expressed as a linear combination of basis functions $\\phi_j$, spanning the space $V$:\n",
    "$ u = \\sum_{j=1}^N U_j\\phi_j.$\n",
    "By writing `problem.solve()` we compute all the coefficients $U_1,\\dots, U_N$. These values are known as the _degrees of freedom_ (dofs). We can access the degrees of freedom by accessing the underlying vector in `uh`.\n",
    "However, as a second order function space has more dofs than a linear function space, we cannot compare these arrays directly.\n",
    "As we allready have interpolated the exact solution into the first order space when creating the boundary condition, we can compare the maximum values at any degree of freedom of the approximation space."
   ]
  },
  {
   "cell_type": "code",
   "execution_count": 12,
   "id": "91b7ba24",
   "metadata": {
    "vscode": {
     "languageId": "python"
    }
   },
   "outputs": [
    {
     "name": "stdout",
     "output_type": "stream",
     "text": [
      "Error_L2 : 8.24e-03\n",
      "Error_max : 4.00e-15\n"
     ]
    }
   ],
   "source": [
    "error_max = numpy.max(numpy.abs(uD.x.array-uh.x.array))\n",
    "# Only print the error on one process\n",
    "if domain.comm.rank == 0:\n",
    "    print(f\"Error_L2 : {error_L2:.2e}\")\n",
    "    print(f\"Error_max : {error_max:.2e}\")"
   ]
  },
  {
   "cell_type": "markdown",
   "id": "d86769b9",
   "metadata": {},
   "source": [
    "## Plotting the mesh using pyvista\n",
    "We will visualizing the mesh using [pyvista](https://docs.pyvista.org/), an interface to the VTK toolkit.\n",
    "We start by converting the mesh to a format that can be used with `pyvista`.\n",
    "To do this we use the function `dolfinx.plot.vtk_mesh`. The first step is to create an unstructured grid that can be used by `pyvista`.\n",
    "We need to start a virtual framebuffer for plotting through docker containers. You can print the current backend and change it with `pyvista.set_jupyter_backend(backend)`"
   ]
  },
  {
   "cell_type": "code",
   "execution_count": 13,
   "id": "3cf06abe-1f8d-40f0-b01d-3bad6faf5221",
   "metadata": {},
   "outputs": [
    {
     "name": "stdout",
     "output_type": "stream",
     "text": [
      "panel\n"
     ]
    }
   ],
   "source": [
    "import pyvista\n",
    "print(pyvista.global_theme.jupyter_backend)"
   ]
  },
  {
   "cell_type": "code",
   "execution_count": 14,
   "id": "bf546f16",
   "metadata": {
    "vscode": {
     "languageId": "python"
    }
   },
   "outputs": [],
   "source": [
    "from dolfinx import plot\n",
    "pyvista.start_xvfb()\n",
    "topology, cell_types, geometry = plot.vtk_mesh(domain, tdim)\n",
    "grid = pyvista.UnstructuredGrid(topology, cell_types, geometry)"
   ]
  },
  {
   "cell_type": "markdown",
   "id": "29d6b101",
   "metadata": {},
   "source": [
    "There are several backends that can be used with pyvista, and they have different benefits and drawbacks. See the [pyvista documentation](https://docs.pyvista.org/user-guide/jupyter/index.html#state-of-3d-interactive-jupyterlab-plotting) for more information and installation details. In this example and the rest of the tutorial we will use [panel](https://github.com/holoviz/panel)."
   ]
  },
  {
   "cell_type": "markdown",
   "id": "ad068777",
   "metadata": {},
   "source": [
    "We can now use the `pyvista.Plotter` to visualize the mesh. We visualize it by showing it in 2D and warped in 3D.\n",
    "In the jupyter notebook environment, we use the default setting of `pyvista.OFF_SCREEN=False`, which will render plots directly in the notebook."
   ]
  },
  {
   "cell_type": "code",
   "execution_count": 15,
   "id": "04b01d42",
   "metadata": {
    "vscode": {
     "languageId": "python"
    }
   },
   "outputs": [
    {
     "data": {
      "application/javascript": [
       "(function(root) {\n",
       "  function now() {\n",
       "    return new Date();\n",
       "  }\n",
       "\n",
       "  var force = true;\n",
       "  var py_version = '3.2.1'.replace('rc', '-rc.').replace('.dev', '-dev.');\n",
       "  var is_dev = py_version.indexOf(\"+\") !== -1 || py_version.indexOf(\"-\") !== -1;\n",
       "  var reloading = false;\n",
       "  var Bokeh = root.Bokeh;\n",
       "  var bokeh_loaded = Bokeh != null && (Bokeh.version === py_version || (Bokeh.versions !== undefined && Bokeh.versions.has(py_version)));\n",
       "\n",
       "  if (typeof (root._bokeh_timeout) === \"undefined\" || force) {\n",
       "    root._bokeh_timeout = Date.now() + 5000;\n",
       "    root._bokeh_failed_load = false;\n",
       "  }\n",
       "\n",
       "  function run_callbacks() {\n",
       "    try {\n",
       "      root._bokeh_onload_callbacks.forEach(function(callback) {\n",
       "        if (callback != null)\n",
       "          callback();\n",
       "      });\n",
       "    } finally {\n",
       "      delete root._bokeh_onload_callbacks;\n",
       "    }\n",
       "    console.debug(\"Bokeh: all callbacks have finished\");\n",
       "  }\n",
       "\n",
       "  function load_libs(css_urls, js_urls, js_modules, js_exports, callback) {\n",
       "    if (css_urls == null) css_urls = [];\n",
       "    if (js_urls == null) js_urls = [];\n",
       "    if (js_modules == null) js_modules = [];\n",
       "    if (js_exports == null) js_exports = {};\n",
       "\n",
       "    root._bokeh_onload_callbacks.push(callback);\n",
       "\n",
       "    if (root._bokeh_is_loading > 0) {\n",
       "      console.debug(\"Bokeh: BokehJS is being loaded, scheduling callback at\", now());\n",
       "      return null;\n",
       "    }\n",
       "    if (js_urls.length === 0 && js_modules.length === 0 && Object.keys(js_exports).length === 0) {\n",
       "      run_callbacks();\n",
       "      return null;\n",
       "    }\n",
       "    if (!reloading) {\n",
       "      console.debug(\"Bokeh: BokehJS not loaded, scheduling load and callback at\", now());\n",
       "    }\n",
       "\n",
       "    function on_load() {\n",
       "      root._bokeh_is_loading--;\n",
       "      if (root._bokeh_is_loading === 0) {\n",
       "        console.debug(\"Bokeh: all BokehJS libraries/stylesheets loaded\");\n",
       "        run_callbacks()\n",
       "      }\n",
       "    }\n",
       "    window._bokeh_on_load = on_load\n",
       "\n",
       "    function on_error() {\n",
       "      console.error(\"failed to load \" + url);\n",
       "    }\n",
       "\n",
       "    var skip = [];\n",
       "    if (window.requirejs) {\n",
       "      window.requirejs.config({'packages': {}, 'paths': {'vtk': 'https://cdn.jsdelivr.net/npm/vtk.js@20.0.1/vtk', 'jspanel': 'https://cdn.jsdelivr.net/npm/jspanel4@4.12.0/dist/jspanel', 'jspanel-modal': 'https://cdn.jsdelivr.net/npm/jspanel4@4.12.0/dist/extensions/modal/jspanel.modal', 'jspanel-tooltip': 'https://cdn.jsdelivr.net/npm/jspanel4@4.12.0/dist/extensions/tooltip/jspanel.tooltip', 'jspanel-hint': 'https://cdn.jsdelivr.net/npm/jspanel4@4.12.0/dist/extensions/hint/jspanel.hint', 'jspanel-layout': 'https://cdn.jsdelivr.net/npm/jspanel4@4.12.0/dist/extensions/layout/jspanel.layout', 'jspanel-contextmenu': 'https://cdn.jsdelivr.net/npm/jspanel4@4.12.0/dist/extensions/contextmenu/jspanel.contextmenu', 'jspanel-dock': 'https://cdn.jsdelivr.net/npm/jspanel4@4.12.0/dist/extensions/dock/jspanel.dock', 'gridstack': 'https://cdn.jsdelivr.net/npm/gridstack@7.2.3/dist/gridstack-all', 'notyf': 'https://cdn.jsdelivr.net/npm/notyf@3/notyf.min'}, 'shim': {'vtk': {'exports': 'vtk'}, 'jspanel': {'exports': 'jsPanel'}, 'gridstack': {'exports': 'GridStack'}}});\n",
       "      require([\"vtk\"], function() {\n",
       "\ton_load()\n",
       "      })\n",
       "      require([\"jspanel\"], function(jsPanel) {\n",
       "\twindow.jsPanel = jsPanel\n",
       "\ton_load()\n",
       "      })\n",
       "      require([\"jspanel-modal\"], function() {\n",
       "\ton_load()\n",
       "      })\n",
       "      require([\"jspanel-tooltip\"], function() {\n",
       "\ton_load()\n",
       "      })\n",
       "      require([\"jspanel-hint\"], function() {\n",
       "\ton_load()\n",
       "      })\n",
       "      require([\"jspanel-layout\"], function() {\n",
       "\ton_load()\n",
       "      })\n",
       "      require([\"jspanel-contextmenu\"], function() {\n",
       "\ton_load()\n",
       "      })\n",
       "      require([\"jspanel-dock\"], function() {\n",
       "\ton_load()\n",
       "      })\n",
       "      require([\"gridstack\"], function(GridStack) {\n",
       "\twindow.GridStack = GridStack\n",
       "\ton_load()\n",
       "      })\n",
       "      require([\"notyf\"], function() {\n",
       "\ton_load()\n",
       "      })\n",
       "      root._bokeh_is_loading = css_urls.length + 10;\n",
       "    } else {\n",
       "      root._bokeh_is_loading = css_urls.length + js_urls.length + js_modules.length + Object.keys(js_exports).length;\n",
       "    }\n",
       "\n",
       "    var existing_stylesheets = []\n",
       "    var links = document.getElementsByTagName('link')\n",
       "    for (var i = 0; i < links.length; i++) {\n",
       "      var link = links[i]\n",
       "      if (link.href != null) {\n",
       "\texisting_stylesheets.push(link.href)\n",
       "      }\n",
       "    }\n",
       "    for (var i = 0; i < css_urls.length; i++) {\n",
       "      var url = css_urls[i];\n",
       "      if (existing_stylesheets.indexOf(url) !== -1) {\n",
       "\ton_load()\n",
       "\tcontinue;\n",
       "      }\n",
       "      const element = document.createElement(\"link\");\n",
       "      element.onload = on_load;\n",
       "      element.onerror = on_error;\n",
       "      element.rel = \"stylesheet\";\n",
       "      element.type = \"text/css\";\n",
       "      element.href = url;\n",
       "      console.debug(\"Bokeh: injecting link tag for BokehJS stylesheet: \", url);\n",
       "      document.body.appendChild(element);\n",
       "    }    if (((window['vtk'] !== undefined) && (!(window['vtk'] instanceof HTMLElement))) || window.requirejs) {\n",
       "      var urls = ['https://cdn.holoviz.org/panel/1.2.1/dist/bundled/abstractvtkplot/vtk.js@20.0.1/vtk.js'];\n",
       "      for (var i = 0; i < urls.length; i++) {\n",
       "        skip.push(urls[i])\n",
       "      }\n",
       "    }    if (((window['jsPanel'] !== undefined) && (!(window['jsPanel'] instanceof HTMLElement))) || window.requirejs) {\n",
       "      var urls = ['https://cdn.holoviz.org/panel/1.2.1/dist/bundled/floatpanel/jspanel4@4.12.0/dist/jspanel.js', 'https://cdn.holoviz.org/panel/1.2.1/dist/bundled/floatpanel/jspanel4@4.12.0/dist/extensions/modal/jspanel.modal.js', 'https://cdn.holoviz.org/panel/1.2.1/dist/bundled/floatpanel/jspanel4@4.12.0/dist/extensions/tooltip/jspanel.tooltip.js', 'https://cdn.holoviz.org/panel/1.2.1/dist/bundled/floatpanel/jspanel4@4.12.0/dist/extensions/hint/jspanel.hint.js', 'https://cdn.holoviz.org/panel/1.2.1/dist/bundled/floatpanel/jspanel4@4.12.0/dist/extensions/layout/jspanel.layout.js', 'https://cdn.holoviz.org/panel/1.2.1/dist/bundled/floatpanel/jspanel4@4.12.0/dist/extensions/contextmenu/jspanel.contextmenu.js', 'https://cdn.holoviz.org/panel/1.2.1/dist/bundled/floatpanel/jspanel4@4.12.0/dist/extensions/dock/jspanel.dock.js'];\n",
       "      for (var i = 0; i < urls.length; i++) {\n",
       "        skip.push(urls[i])\n",
       "      }\n",
       "    }    if (((window['GridStack'] !== undefined) && (!(window['GridStack'] instanceof HTMLElement))) || window.requirejs) {\n",
       "      var urls = ['https://cdn.holoviz.org/panel/1.2.1/dist/bundled/gridstack/gridstack@7.2.3/dist/gridstack-all.js'];\n",
       "      for (var i = 0; i < urls.length; i++) {\n",
       "        skip.push(urls[i])\n",
       "      }\n",
       "    }    if (((window['Notyf'] !== undefined) && (!(window['Notyf'] instanceof HTMLElement))) || window.requirejs) {\n",
       "      var urls = ['https://cdn.holoviz.org/panel/1.2.1/dist/bundled/notificationarea/notyf@3/notyf.min.js'];\n",
       "      for (var i = 0; i < urls.length; i++) {\n",
       "        skip.push(urls[i])\n",
       "      }\n",
       "    }    var existing_scripts = []\n",
       "    var scripts = document.getElementsByTagName('script')\n",
       "    for (var i = 0; i < scripts.length; i++) {\n",
       "      var script = scripts[i]\n",
       "      if (script.src != null) {\n",
       "\texisting_scripts.push(script.src)\n",
       "      }\n",
       "    }\n",
       "    for (var i = 0; i < js_urls.length; i++) {\n",
       "      var url = js_urls[i];\n",
       "      if (skip.indexOf(url) !== -1 || existing_scripts.indexOf(url) !== -1) {\n",
       "\tif (!window.requirejs) {\n",
       "\t  on_load();\n",
       "\t}\n",
       "\tcontinue;\n",
       "      }\n",
       "      var element = document.createElement('script');\n",
       "      element.onload = on_load;\n",
       "      element.onerror = on_error;\n",
       "      element.async = false;\n",
       "      element.src = url;\n",
       "      console.debug(\"Bokeh: injecting script tag for BokehJS library: \", url);\n",
       "      document.head.appendChild(element);\n",
       "    }\n",
       "    for (var i = 0; i < js_modules.length; i++) {\n",
       "      var url = js_modules[i];\n",
       "      if (skip.indexOf(url) !== -1 || existing_scripts.indexOf(url) !== -1) {\n",
       "\tif (!window.requirejs) {\n",
       "\t  on_load();\n",
       "\t}\n",
       "\tcontinue;\n",
       "      }\n",
       "      var element = document.createElement('script');\n",
       "      element.onload = on_load;\n",
       "      element.onerror = on_error;\n",
       "      element.async = false;\n",
       "      element.src = url;\n",
       "      element.type = \"module\";\n",
       "      console.debug(\"Bokeh: injecting script tag for BokehJS library: \", url);\n",
       "      document.head.appendChild(element);\n",
       "    }\n",
       "    for (const name in js_exports) {\n",
       "      var url = js_exports[name];\n",
       "      if (skip.indexOf(url) >= 0 || root[name] != null) {\n",
       "\tif (!window.requirejs) {\n",
       "\t  on_load();\n",
       "\t}\n",
       "\tcontinue;\n",
       "      }\n",
       "      var element = document.createElement('script');\n",
       "      element.onerror = on_error;\n",
       "      element.async = false;\n",
       "      element.type = \"module\";\n",
       "      console.debug(\"Bokeh: injecting script tag for BokehJS library: \", url);\n",
       "      element.textContent = `\n",
       "      import ${name} from \"${url}\"\n",
       "      window.${name} = ${name}\n",
       "      window._bokeh_on_load()\n",
       "      `\n",
       "      document.head.appendChild(element);\n",
       "    }\n",
       "    if (!js_urls.length && !js_modules.length) {\n",
       "      on_load()\n",
       "    }\n",
       "  };\n",
       "\n",
       "  function inject_raw_css(css) {\n",
       "    const element = document.createElement(\"style\");\n",
       "    element.appendChild(document.createTextNode(css));\n",
       "    document.body.appendChild(element);\n",
       "  }\n",
       "\n",
       "  var js_urls = [\"https://cdn.holoviz.org/panel/1.2.1/dist/bundled/abstractvtkplot/vtk.js@20.0.1/vtk.js\", \"https://cdn.bokeh.org/bokeh/release/bokeh-3.2.1.min.js\", \"https://cdn.bokeh.org/bokeh/release/bokeh-gl-3.2.1.min.js\", \"https://cdn.bokeh.org/bokeh/release/bokeh-widgets-3.2.1.min.js\", \"https://cdn.bokeh.org/bokeh/release/bokeh-tables-3.2.1.min.js\", \"https://cdn.holoviz.org/panel/1.2.1/dist/panel.min.js\"];\n",
       "  var js_modules = [];\n",
       "  var js_exports = {};\n",
       "  var css_urls = [];\n",
       "  var inline_js = [    function(Bokeh) {\n",
       "      Bokeh.set_log_level(\"info\");\n",
       "    },\n",
       "function(Bokeh) {} // ensure no trailing comma for IE\n",
       "  ];\n",
       "\n",
       "  function run_inline_js() {\n",
       "    if ((root.Bokeh !== undefined) || (force === true)) {\n",
       "      for (var i = 0; i < inline_js.length; i++) {\n",
       "        inline_js[i].call(root, root.Bokeh);\n",
       "      }\n",
       "      // Cache old bokeh versions\n",
       "      if (Bokeh != undefined && !reloading) {\n",
       "\tvar NewBokeh = root.Bokeh;\n",
       "\tif (Bokeh.versions === undefined) {\n",
       "\t  Bokeh.versions = new Map();\n",
       "\t}\n",
       "\tif (NewBokeh.version !== Bokeh.version) {\n",
       "\t  Bokeh.versions.set(NewBokeh.version, NewBokeh)\n",
       "\t}\n",
       "\troot.Bokeh = Bokeh;\n",
       "      }} else if (Date.now() < root._bokeh_timeout) {\n",
       "      setTimeout(run_inline_js, 100);\n",
       "    } else if (!root._bokeh_failed_load) {\n",
       "      console.log(\"Bokeh: BokehJS failed to load within specified timeout.\");\n",
       "      root._bokeh_failed_load = true;\n",
       "    }\n",
       "    root._bokeh_is_initializing = false\n",
       "  }\n",
       "\n",
       "  function load_or_wait() {\n",
       "    // Implement a backoff loop that tries to ensure we do not load multiple\n",
       "    // versions of Bokeh and its dependencies at the same time.\n",
       "    // In recent versions we use the root._bokeh_is_initializing flag\n",
       "    // to determine whether there is an ongoing attempt to initialize\n",
       "    // bokeh, however for backward compatibility we also try to ensure\n",
       "    // that we do not start loading a newer (Panel>=1.0 and Bokeh>3) version\n",
       "    // before older versions are fully initialized.\n",
       "    if (root._bokeh_is_initializing && Date.now() > root._bokeh_timeout) {\n",
       "      root._bokeh_is_initializing = false;\n",
       "      root._bokeh_onload_callbacks = undefined;\n",
       "      console.log(\"Bokeh: BokehJS was loaded multiple times but one version failed to initialize.\");\n",
       "      load_or_wait();\n",
       "    } else if (root._bokeh_is_initializing || (typeof root._bokeh_is_initializing === \"undefined\" && root._bokeh_onload_callbacks !== undefined)) {\n",
       "      setTimeout(load_or_wait, 100);\n",
       "    } else {\n",
       "      Bokeh = root.Bokeh;\n",
       "      bokeh_loaded = Bokeh != null && (Bokeh.version === py_version || (Bokeh.versions !== undefined && Bokeh.versions.has(py_version)));\n",
       "      root._bokeh_is_initializing = true\n",
       "      root._bokeh_onload_callbacks = []\n",
       "      if (!reloading && (!bokeh_loaded || is_dev)) {\n",
       "\troot.Bokeh = undefined;\n",
       "      }\n",
       "      load_libs(css_urls, js_urls, js_modules, js_exports, function() {\n",
       "\tconsole.debug(\"Bokeh: BokehJS plotting callback run at\", now());\n",
       "\trun_inline_js();\n",
       "      });\n",
       "    }\n",
       "  }\n",
       "  // Give older versions of the autoload script a head-start to ensure\n",
       "  // they initialize before we start loading newer version.\n",
       "  setTimeout(load_or_wait, 100)\n",
       "}(window));"
      ],
      "application/vnd.holoviews_load.v0+json": "(function(root) {\n  function now() {\n    return new Date();\n  }\n\n  var force = true;\n  var py_version = '3.2.1'.replace('rc', '-rc.').replace('.dev', '-dev.');\n  var is_dev = py_version.indexOf(\"+\") !== -1 || py_version.indexOf(\"-\") !== -1;\n  var reloading = false;\n  var Bokeh = root.Bokeh;\n  var bokeh_loaded = Bokeh != null && (Bokeh.version === py_version || (Bokeh.versions !== undefined && Bokeh.versions.has(py_version)));\n\n  if (typeof (root._bokeh_timeout) === \"undefined\" || force) {\n    root._bokeh_timeout = Date.now() + 5000;\n    root._bokeh_failed_load = false;\n  }\n\n  function run_callbacks() {\n    try {\n      root._bokeh_onload_callbacks.forEach(function(callback) {\n        if (callback != null)\n          callback();\n      });\n    } finally {\n      delete root._bokeh_onload_callbacks;\n    }\n    console.debug(\"Bokeh: all callbacks have finished\");\n  }\n\n  function load_libs(css_urls, js_urls, js_modules, js_exports, callback) {\n    if (css_urls == null) css_urls = [];\n    if (js_urls == null) js_urls = [];\n    if (js_modules == null) js_modules = [];\n    if (js_exports == null) js_exports = {};\n\n    root._bokeh_onload_callbacks.push(callback);\n\n    if (root._bokeh_is_loading > 0) {\n      console.debug(\"Bokeh: BokehJS is being loaded, scheduling callback at\", now());\n      return null;\n    }\n    if (js_urls.length === 0 && js_modules.length === 0 && Object.keys(js_exports).length === 0) {\n      run_callbacks();\n      return null;\n    }\n    if (!reloading) {\n      console.debug(\"Bokeh: BokehJS not loaded, scheduling load and callback at\", now());\n    }\n\n    function on_load() {\n      root._bokeh_is_loading--;\n      if (root._bokeh_is_loading === 0) {\n        console.debug(\"Bokeh: all BokehJS libraries/stylesheets loaded\");\n        run_callbacks()\n      }\n    }\n    window._bokeh_on_load = on_load\n\n    function on_error() {\n      console.error(\"failed to load \" + url);\n    }\n\n    var skip = [];\n    if (window.requirejs) {\n      window.requirejs.config({'packages': {}, 'paths': {'vtk': 'https://cdn.jsdelivr.net/npm/vtk.js@20.0.1/vtk', 'jspanel': 'https://cdn.jsdelivr.net/npm/jspanel4@4.12.0/dist/jspanel', 'jspanel-modal': 'https://cdn.jsdelivr.net/npm/jspanel4@4.12.0/dist/extensions/modal/jspanel.modal', 'jspanel-tooltip': 'https://cdn.jsdelivr.net/npm/jspanel4@4.12.0/dist/extensions/tooltip/jspanel.tooltip', 'jspanel-hint': 'https://cdn.jsdelivr.net/npm/jspanel4@4.12.0/dist/extensions/hint/jspanel.hint', 'jspanel-layout': 'https://cdn.jsdelivr.net/npm/jspanel4@4.12.0/dist/extensions/layout/jspanel.layout', 'jspanel-contextmenu': 'https://cdn.jsdelivr.net/npm/jspanel4@4.12.0/dist/extensions/contextmenu/jspanel.contextmenu', 'jspanel-dock': 'https://cdn.jsdelivr.net/npm/jspanel4@4.12.0/dist/extensions/dock/jspanel.dock', 'gridstack': 'https://cdn.jsdelivr.net/npm/gridstack@7.2.3/dist/gridstack-all', 'notyf': 'https://cdn.jsdelivr.net/npm/notyf@3/notyf.min'}, 'shim': {'vtk': {'exports': 'vtk'}, 'jspanel': {'exports': 'jsPanel'}, 'gridstack': {'exports': 'GridStack'}}});\n      require([\"vtk\"], function() {\n\ton_load()\n      })\n      require([\"jspanel\"], function(jsPanel) {\n\twindow.jsPanel = jsPanel\n\ton_load()\n      })\n      require([\"jspanel-modal\"], function() {\n\ton_load()\n      })\n      require([\"jspanel-tooltip\"], function() {\n\ton_load()\n      })\n      require([\"jspanel-hint\"], function() {\n\ton_load()\n      })\n      require([\"jspanel-layout\"], function() {\n\ton_load()\n      })\n      require([\"jspanel-contextmenu\"], function() {\n\ton_load()\n      })\n      require([\"jspanel-dock\"], function() {\n\ton_load()\n      })\n      require([\"gridstack\"], function(GridStack) {\n\twindow.GridStack = GridStack\n\ton_load()\n      })\n      require([\"notyf\"], function() {\n\ton_load()\n      })\n      root._bokeh_is_loading = css_urls.length + 10;\n    } else {\n      root._bokeh_is_loading = css_urls.length + js_urls.length + js_modules.length + Object.keys(js_exports).length;\n    }\n\n    var existing_stylesheets = []\n    var links = document.getElementsByTagName('link')\n    for (var i = 0; i < links.length; i++) {\n      var link = links[i]\n      if (link.href != null) {\n\texisting_stylesheets.push(link.href)\n      }\n    }\n    for (var i = 0; i < css_urls.length; i++) {\n      var url = css_urls[i];\n      if (existing_stylesheets.indexOf(url) !== -1) {\n\ton_load()\n\tcontinue;\n      }\n      const element = document.createElement(\"link\");\n      element.onload = on_load;\n      element.onerror = on_error;\n      element.rel = \"stylesheet\";\n      element.type = \"text/css\";\n      element.href = url;\n      console.debug(\"Bokeh: injecting link tag for BokehJS stylesheet: \", url);\n      document.body.appendChild(element);\n    }    if (((window['vtk'] !== undefined) && (!(window['vtk'] instanceof HTMLElement))) || window.requirejs) {\n      var urls = ['https://cdn.holoviz.org/panel/1.2.1/dist/bundled/abstractvtkplot/vtk.js@20.0.1/vtk.js'];\n      for (var i = 0; i < urls.length; i++) {\n        skip.push(urls[i])\n      }\n    }    if (((window['jsPanel'] !== undefined) && (!(window['jsPanel'] instanceof HTMLElement))) || window.requirejs) {\n      var urls = ['https://cdn.holoviz.org/panel/1.2.1/dist/bundled/floatpanel/jspanel4@4.12.0/dist/jspanel.js', 'https://cdn.holoviz.org/panel/1.2.1/dist/bundled/floatpanel/jspanel4@4.12.0/dist/extensions/modal/jspanel.modal.js', 'https://cdn.holoviz.org/panel/1.2.1/dist/bundled/floatpanel/jspanel4@4.12.0/dist/extensions/tooltip/jspanel.tooltip.js', 'https://cdn.holoviz.org/panel/1.2.1/dist/bundled/floatpanel/jspanel4@4.12.0/dist/extensions/hint/jspanel.hint.js', 'https://cdn.holoviz.org/panel/1.2.1/dist/bundled/floatpanel/jspanel4@4.12.0/dist/extensions/layout/jspanel.layout.js', 'https://cdn.holoviz.org/panel/1.2.1/dist/bundled/floatpanel/jspanel4@4.12.0/dist/extensions/contextmenu/jspanel.contextmenu.js', 'https://cdn.holoviz.org/panel/1.2.1/dist/bundled/floatpanel/jspanel4@4.12.0/dist/extensions/dock/jspanel.dock.js'];\n      for (var i = 0; i < urls.length; i++) {\n        skip.push(urls[i])\n      }\n    }    if (((window['GridStack'] !== undefined) && (!(window['GridStack'] instanceof HTMLElement))) || window.requirejs) {\n      var urls = ['https://cdn.holoviz.org/panel/1.2.1/dist/bundled/gridstack/gridstack@7.2.3/dist/gridstack-all.js'];\n      for (var i = 0; i < urls.length; i++) {\n        skip.push(urls[i])\n      }\n    }    if (((window['Notyf'] !== undefined) && (!(window['Notyf'] instanceof HTMLElement))) || window.requirejs) {\n      var urls = ['https://cdn.holoviz.org/panel/1.2.1/dist/bundled/notificationarea/notyf@3/notyf.min.js'];\n      for (var i = 0; i < urls.length; i++) {\n        skip.push(urls[i])\n      }\n    }    var existing_scripts = []\n    var scripts = document.getElementsByTagName('script')\n    for (var i = 0; i < scripts.length; i++) {\n      var script = scripts[i]\n      if (script.src != null) {\n\texisting_scripts.push(script.src)\n      }\n    }\n    for (var i = 0; i < js_urls.length; i++) {\n      var url = js_urls[i];\n      if (skip.indexOf(url) !== -1 || existing_scripts.indexOf(url) !== -1) {\n\tif (!window.requirejs) {\n\t  on_load();\n\t}\n\tcontinue;\n      }\n      var element = document.createElement('script');\n      element.onload = on_load;\n      element.onerror = on_error;\n      element.async = false;\n      element.src = url;\n      console.debug(\"Bokeh: injecting script tag for BokehJS library: \", url);\n      document.head.appendChild(element);\n    }\n    for (var i = 0; i < js_modules.length; i++) {\n      var url = js_modules[i];\n      if (skip.indexOf(url) !== -1 || existing_scripts.indexOf(url) !== -1) {\n\tif (!window.requirejs) {\n\t  on_load();\n\t}\n\tcontinue;\n      }\n      var element = document.createElement('script');\n      element.onload = on_load;\n      element.onerror = on_error;\n      element.async = false;\n      element.src = url;\n      element.type = \"module\";\n      console.debug(\"Bokeh: injecting script tag for BokehJS library: \", url);\n      document.head.appendChild(element);\n    }\n    for (const name in js_exports) {\n      var url = js_exports[name];\n      if (skip.indexOf(url) >= 0 || root[name] != null) {\n\tif (!window.requirejs) {\n\t  on_load();\n\t}\n\tcontinue;\n      }\n      var element = document.createElement('script');\n      element.onerror = on_error;\n      element.async = false;\n      element.type = \"module\";\n      console.debug(\"Bokeh: injecting script tag for BokehJS library: \", url);\n      element.textContent = `\n      import ${name} from \"${url}\"\n      window.${name} = ${name}\n      window._bokeh_on_load()\n      `\n      document.head.appendChild(element);\n    }\n    if (!js_urls.length && !js_modules.length) {\n      on_load()\n    }\n  };\n\n  function inject_raw_css(css) {\n    const element = document.createElement(\"style\");\n    element.appendChild(document.createTextNode(css));\n    document.body.appendChild(element);\n  }\n\n  var js_urls = [\"https://cdn.holoviz.org/panel/1.2.1/dist/bundled/abstractvtkplot/vtk.js@20.0.1/vtk.js\", \"https://cdn.bokeh.org/bokeh/release/bokeh-3.2.1.min.js\", \"https://cdn.bokeh.org/bokeh/release/bokeh-gl-3.2.1.min.js\", \"https://cdn.bokeh.org/bokeh/release/bokeh-widgets-3.2.1.min.js\", \"https://cdn.bokeh.org/bokeh/release/bokeh-tables-3.2.1.min.js\", \"https://cdn.holoviz.org/panel/1.2.1/dist/panel.min.js\"];\n  var js_modules = [];\n  var js_exports = {};\n  var css_urls = [];\n  var inline_js = [    function(Bokeh) {\n      Bokeh.set_log_level(\"info\");\n    },\nfunction(Bokeh) {} // ensure no trailing comma for IE\n  ];\n\n  function run_inline_js() {\n    if ((root.Bokeh !== undefined) || (force === true)) {\n      for (var i = 0; i < inline_js.length; i++) {\n        inline_js[i].call(root, root.Bokeh);\n      }\n      // Cache old bokeh versions\n      if (Bokeh != undefined && !reloading) {\n\tvar NewBokeh = root.Bokeh;\n\tif (Bokeh.versions === undefined) {\n\t  Bokeh.versions = new Map();\n\t}\n\tif (NewBokeh.version !== Bokeh.version) {\n\t  Bokeh.versions.set(NewBokeh.version, NewBokeh)\n\t}\n\troot.Bokeh = Bokeh;\n      }} else if (Date.now() < root._bokeh_timeout) {\n      setTimeout(run_inline_js, 100);\n    } else if (!root._bokeh_failed_load) {\n      console.log(\"Bokeh: BokehJS failed to load within specified timeout.\");\n      root._bokeh_failed_load = true;\n    }\n    root._bokeh_is_initializing = false\n  }\n\n  function load_or_wait() {\n    // Implement a backoff loop that tries to ensure we do not load multiple\n    // versions of Bokeh and its dependencies at the same time.\n    // In recent versions we use the root._bokeh_is_initializing flag\n    // to determine whether there is an ongoing attempt to initialize\n    // bokeh, however for backward compatibility we also try to ensure\n    // that we do not start loading a newer (Panel>=1.0 and Bokeh>3) version\n    // before older versions are fully initialized.\n    if (root._bokeh_is_initializing && Date.now() > root._bokeh_timeout) {\n      root._bokeh_is_initializing = false;\n      root._bokeh_onload_callbacks = undefined;\n      console.log(\"Bokeh: BokehJS was loaded multiple times but one version failed to initialize.\");\n      load_or_wait();\n    } else if (root._bokeh_is_initializing || (typeof root._bokeh_is_initializing === \"undefined\" && root._bokeh_onload_callbacks !== undefined)) {\n      setTimeout(load_or_wait, 100);\n    } else {\n      Bokeh = root.Bokeh;\n      bokeh_loaded = Bokeh != null && (Bokeh.version === py_version || (Bokeh.versions !== undefined && Bokeh.versions.has(py_version)));\n      root._bokeh_is_initializing = true\n      root._bokeh_onload_callbacks = []\n      if (!reloading && (!bokeh_loaded || is_dev)) {\n\troot.Bokeh = undefined;\n      }\n      load_libs(css_urls, js_urls, js_modules, js_exports, function() {\n\tconsole.debug(\"Bokeh: BokehJS plotting callback run at\", now());\n\trun_inline_js();\n      });\n    }\n  }\n  // Give older versions of the autoload script a head-start to ensure\n  // they initialize before we start loading newer version.\n  setTimeout(load_or_wait, 100)\n}(window));"
     },
     "metadata": {},
     "output_type": "display_data"
    },
    {
     "data": {
      "application/javascript": [
       "\n",
       "if ((window.PyViz === undefined) || (window.PyViz instanceof HTMLElement)) {\n",
       "  window.PyViz = {comms: {}, comm_status:{}, kernels:{}, receivers: {}, plot_index: []}\n",
       "}\n",
       "\n",
       "\n",
       "    function JupyterCommManager() {\n",
       "    }\n",
       "\n",
       "    JupyterCommManager.prototype.register_target = function(plot_id, comm_id, msg_handler) {\n",
       "      if (window.comm_manager || ((window.Jupyter !== undefined) && (Jupyter.notebook.kernel != null))) {\n",
       "        var comm_manager = window.comm_manager || Jupyter.notebook.kernel.comm_manager;\n",
       "        comm_manager.register_target(comm_id, function(comm) {\n",
       "          comm.on_msg(msg_handler);\n",
       "        });\n",
       "      } else if ((plot_id in window.PyViz.kernels) && (window.PyViz.kernels[plot_id])) {\n",
       "        window.PyViz.kernels[plot_id].registerCommTarget(comm_id, function(comm) {\n",
       "          comm.onMsg = msg_handler;\n",
       "        });\n",
       "      } else if (typeof google != 'undefined' && google.colab.kernel != null) {\n",
       "        google.colab.kernel.comms.registerTarget(comm_id, (comm) => {\n",
       "          var messages = comm.messages[Symbol.asyncIterator]();\n",
       "          function processIteratorResult(result) {\n",
       "            var message = result.value;\n",
       "            console.log(message)\n",
       "            var content = {data: message.data, comm_id};\n",
       "            var buffers = []\n",
       "            for (var buffer of message.buffers || []) {\n",
       "              buffers.push(new DataView(buffer))\n",
       "            }\n",
       "            var metadata = message.metadata || {};\n",
       "            var msg = {content, buffers, metadata}\n",
       "            msg_handler(msg);\n",
       "            return messages.next().then(processIteratorResult);\n",
       "          }\n",
       "          return messages.next().then(processIteratorResult);\n",
       "        })\n",
       "      }\n",
       "    }\n",
       "\n",
       "    JupyterCommManager.prototype.get_client_comm = function(plot_id, comm_id, msg_handler) {\n",
       "      if (comm_id in window.PyViz.comms) {\n",
       "        return window.PyViz.comms[comm_id];\n",
       "      } else if (window.comm_manager || ((window.Jupyter !== undefined) && (Jupyter.notebook.kernel != null))) {\n",
       "        var comm_manager = window.comm_manager || Jupyter.notebook.kernel.comm_manager;\n",
       "        var comm = comm_manager.new_comm(comm_id, {}, {}, {}, comm_id);\n",
       "        if (msg_handler) {\n",
       "          comm.on_msg(msg_handler);\n",
       "        }\n",
       "      } else if ((plot_id in window.PyViz.kernels) && (window.PyViz.kernels[plot_id])) {\n",
       "        var comm = window.PyViz.kernels[plot_id].connectToComm(comm_id);\n",
       "        comm.open();\n",
       "        if (msg_handler) {\n",
       "          comm.onMsg = msg_handler;\n",
       "        }\n",
       "      } else if (typeof google != 'undefined' && google.colab.kernel != null) {\n",
       "        var comm_promise = google.colab.kernel.comms.open(comm_id)\n",
       "        comm_promise.then((comm) => {\n",
       "          window.PyViz.comms[comm_id] = comm;\n",
       "          if (msg_handler) {\n",
       "            var messages = comm.messages[Symbol.asyncIterator]();\n",
       "            function processIteratorResult(result) {\n",
       "              var message = result.value;\n",
       "              var content = {data: message.data};\n",
       "              var metadata = message.metadata || {comm_id};\n",
       "              var msg = {content, metadata}\n",
       "              msg_handler(msg);\n",
       "              return messages.next().then(processIteratorResult);\n",
       "            }\n",
       "            return messages.next().then(processIteratorResult);\n",
       "          }\n",
       "        }) \n",
       "        var sendClosure = (data, metadata, buffers, disposeOnDone) => {\n",
       "          return comm_promise.then((comm) => {\n",
       "            comm.send(data, metadata, buffers, disposeOnDone);\n",
       "          });\n",
       "        };\n",
       "        var comm = {\n",
       "          send: sendClosure\n",
       "        };\n",
       "      }\n",
       "      window.PyViz.comms[comm_id] = comm;\n",
       "      return comm;\n",
       "    }\n",
       "    window.PyViz.comm_manager = new JupyterCommManager();\n",
       "    \n",
       "\n",
       "\n",
       "var JS_MIME_TYPE = 'application/javascript';\n",
       "var HTML_MIME_TYPE = 'text/html';\n",
       "var EXEC_MIME_TYPE = 'application/vnd.holoviews_exec.v0+json';\n",
       "var CLASS_NAME = 'output';\n",
       "\n",
       "/**\n",
       " * Render data to the DOM node\n",
       " */\n",
       "function render(props, node) {\n",
       "  var div = document.createElement(\"div\");\n",
       "  var script = document.createElement(\"script\");\n",
       "  node.appendChild(div);\n",
       "  node.appendChild(script);\n",
       "}\n",
       "\n",
       "/**\n",
       " * Handle when a new output is added\n",
       " */\n",
       "function handle_add_output(event, handle) {\n",
       "  var output_area = handle.output_area;\n",
       "  var output = handle.output;\n",
       "  if ((output.data == undefined) || (!output.data.hasOwnProperty(EXEC_MIME_TYPE))) {\n",
       "    return\n",
       "  }\n",
       "  var id = output.metadata[EXEC_MIME_TYPE][\"id\"];\n",
       "  var toinsert = output_area.element.find(\".\" + CLASS_NAME.split(' ')[0]);\n",
       "  if (id !== undefined) {\n",
       "    var nchildren = toinsert.length;\n",
       "    var html_node = toinsert[nchildren-1].children[0];\n",
       "    html_node.innerHTML = output.data[HTML_MIME_TYPE];\n",
       "    var scripts = [];\n",
       "    var nodelist = html_node.querySelectorAll(\"script\");\n",
       "    for (var i in nodelist) {\n",
       "      if (nodelist.hasOwnProperty(i)) {\n",
       "        scripts.push(nodelist[i])\n",
       "      }\n",
       "    }\n",
       "\n",
       "    scripts.forEach( function (oldScript) {\n",
       "      var newScript = document.createElement(\"script\");\n",
       "      var attrs = [];\n",
       "      var nodemap = oldScript.attributes;\n",
       "      for (var j in nodemap) {\n",
       "        if (nodemap.hasOwnProperty(j)) {\n",
       "          attrs.push(nodemap[j])\n",
       "        }\n",
       "      }\n",
       "      attrs.forEach(function(attr) { newScript.setAttribute(attr.name, attr.value) });\n",
       "      newScript.appendChild(document.createTextNode(oldScript.innerHTML));\n",
       "      oldScript.parentNode.replaceChild(newScript, oldScript);\n",
       "    });\n",
       "    if (JS_MIME_TYPE in output.data) {\n",
       "      toinsert[nchildren-1].children[1].textContent = output.data[JS_MIME_TYPE];\n",
       "    }\n",
       "    output_area._hv_plot_id = id;\n",
       "    if ((window.Bokeh !== undefined) && (id in Bokeh.index)) {\n",
       "      window.PyViz.plot_index[id] = Bokeh.index[id];\n",
       "    } else {\n",
       "      window.PyViz.plot_index[id] = null;\n",
       "    }\n",
       "  } else if (output.metadata[EXEC_MIME_TYPE][\"server_id\"] !== undefined) {\n",
       "    var bk_div = document.createElement(\"div\");\n",
       "    bk_div.innerHTML = output.data[HTML_MIME_TYPE];\n",
       "    var script_attrs = bk_div.children[0].attributes;\n",
       "    for (var i = 0; i < script_attrs.length; i++) {\n",
       "      toinsert[toinsert.length - 1].childNodes[1].setAttribute(script_attrs[i].name, script_attrs[i].value);\n",
       "    }\n",
       "    // store reference to server id on output_area\n",
       "    output_area._bokeh_server_id = output.metadata[EXEC_MIME_TYPE][\"server_id\"];\n",
       "  }\n",
       "}\n",
       "\n",
       "/**\n",
       " * Handle when an output is cleared or removed\n",
       " */\n",
       "function handle_clear_output(event, handle) {\n",
       "  var id = handle.cell.output_area._hv_plot_id;\n",
       "  var server_id = handle.cell.output_area._bokeh_server_id;\n",
       "  if (((id === undefined) || !(id in PyViz.plot_index)) && (server_id !== undefined)) { return; }\n",
       "  var comm = window.PyViz.comm_manager.get_client_comm(\"hv-extension-comm\", \"hv-extension-comm\", function () {});\n",
       "  if (server_id !== null) {\n",
       "    comm.send({event_type: 'server_delete', 'id': server_id});\n",
       "    return;\n",
       "  } else if (comm !== null) {\n",
       "    comm.send({event_type: 'delete', 'id': id});\n",
       "  }\n",
       "  delete PyViz.plot_index[id];\n",
       "  if ((window.Bokeh !== undefined) & (id in window.Bokeh.index)) {\n",
       "    var doc = window.Bokeh.index[id].model.document\n",
       "    doc.clear();\n",
       "    const i = window.Bokeh.documents.indexOf(doc);\n",
       "    if (i > -1) {\n",
       "      window.Bokeh.documents.splice(i, 1);\n",
       "    }\n",
       "  }\n",
       "}\n",
       "\n",
       "/**\n",
       " * Handle kernel restart event\n",
       " */\n",
       "function handle_kernel_cleanup(event, handle) {\n",
       "  delete PyViz.comms[\"hv-extension-comm\"];\n",
       "  window.PyViz.plot_index = {}\n",
       "}\n",
       "\n",
       "/**\n",
       " * Handle update_display_data messages\n",
       " */\n",
       "function handle_update_output(event, handle) {\n",
       "  handle_clear_output(event, {cell: {output_area: handle.output_area}})\n",
       "  handle_add_output(event, handle)\n",
       "}\n",
       "\n",
       "function register_renderer(events, OutputArea) {\n",
       "  function append_mime(data, metadata, element) {\n",
       "    // create a DOM node to render to\n",
       "    var toinsert = this.create_output_subarea(\n",
       "    metadata,\n",
       "    CLASS_NAME,\n",
       "    EXEC_MIME_TYPE\n",
       "    );\n",
       "    this.keyboard_manager.register_events(toinsert);\n",
       "    // Render to node\n",
       "    var props = {data: data, metadata: metadata[EXEC_MIME_TYPE]};\n",
       "    render(props, toinsert[0]);\n",
       "    element.append(toinsert);\n",
       "    return toinsert\n",
       "  }\n",
       "\n",
       "  events.on('output_added.OutputArea', handle_add_output);\n",
       "  events.on('output_updated.OutputArea', handle_update_output);\n",
       "  events.on('clear_output.CodeCell', handle_clear_output);\n",
       "  events.on('delete.Cell', handle_clear_output);\n",
       "  events.on('kernel_ready.Kernel', handle_kernel_cleanup);\n",
       "\n",
       "  OutputArea.prototype.register_mime_type(EXEC_MIME_TYPE, append_mime, {\n",
       "    safe: true,\n",
       "    index: 0\n",
       "  });\n",
       "}\n",
       "\n",
       "if (window.Jupyter !== undefined) {\n",
       "  try {\n",
       "    var events = require('base/js/events');\n",
       "    var OutputArea = require('notebook/js/outputarea').OutputArea;\n",
       "    if (OutputArea.prototype.mime_types().indexOf(EXEC_MIME_TYPE) == -1) {\n",
       "      register_renderer(events, OutputArea);\n",
       "    }\n",
       "  } catch(err) {\n",
       "  }\n",
       "}\n"
      ],
      "application/vnd.holoviews_load.v0+json": "\nif ((window.PyViz === undefined) || (window.PyViz instanceof HTMLElement)) {\n  window.PyViz = {comms: {}, comm_status:{}, kernels:{}, receivers: {}, plot_index: []}\n}\n\n\n    function JupyterCommManager() {\n    }\n\n    JupyterCommManager.prototype.register_target = function(plot_id, comm_id, msg_handler) {\n      if (window.comm_manager || ((window.Jupyter !== undefined) && (Jupyter.notebook.kernel != null))) {\n        var comm_manager = window.comm_manager || Jupyter.notebook.kernel.comm_manager;\n        comm_manager.register_target(comm_id, function(comm) {\n          comm.on_msg(msg_handler);\n        });\n      } else if ((plot_id in window.PyViz.kernels) && (window.PyViz.kernels[plot_id])) {\n        window.PyViz.kernels[plot_id].registerCommTarget(comm_id, function(comm) {\n          comm.onMsg = msg_handler;\n        });\n      } else if (typeof google != 'undefined' && google.colab.kernel != null) {\n        google.colab.kernel.comms.registerTarget(comm_id, (comm) => {\n          var messages = comm.messages[Symbol.asyncIterator]();\n          function processIteratorResult(result) {\n            var message = result.value;\n            console.log(message)\n            var content = {data: message.data, comm_id};\n            var buffers = []\n            for (var buffer of message.buffers || []) {\n              buffers.push(new DataView(buffer))\n            }\n            var metadata = message.metadata || {};\n            var msg = {content, buffers, metadata}\n            msg_handler(msg);\n            return messages.next().then(processIteratorResult);\n          }\n          return messages.next().then(processIteratorResult);\n        })\n      }\n    }\n\n    JupyterCommManager.prototype.get_client_comm = function(plot_id, comm_id, msg_handler) {\n      if (comm_id in window.PyViz.comms) {\n        return window.PyViz.comms[comm_id];\n      } else if (window.comm_manager || ((window.Jupyter !== undefined) && (Jupyter.notebook.kernel != null))) {\n        var comm_manager = window.comm_manager || Jupyter.notebook.kernel.comm_manager;\n        var comm = comm_manager.new_comm(comm_id, {}, {}, {}, comm_id);\n        if (msg_handler) {\n          comm.on_msg(msg_handler);\n        }\n      } else if ((plot_id in window.PyViz.kernels) && (window.PyViz.kernels[plot_id])) {\n        var comm = window.PyViz.kernels[plot_id].connectToComm(comm_id);\n        comm.open();\n        if (msg_handler) {\n          comm.onMsg = msg_handler;\n        }\n      } else if (typeof google != 'undefined' && google.colab.kernel != null) {\n        var comm_promise = google.colab.kernel.comms.open(comm_id)\n        comm_promise.then((comm) => {\n          window.PyViz.comms[comm_id] = comm;\n          if (msg_handler) {\n            var messages = comm.messages[Symbol.asyncIterator]();\n            function processIteratorResult(result) {\n              var message = result.value;\n              var content = {data: message.data};\n              var metadata = message.metadata || {comm_id};\n              var msg = {content, metadata}\n              msg_handler(msg);\n              return messages.next().then(processIteratorResult);\n            }\n            return messages.next().then(processIteratorResult);\n          }\n        }) \n        var sendClosure = (data, metadata, buffers, disposeOnDone) => {\n          return comm_promise.then((comm) => {\n            comm.send(data, metadata, buffers, disposeOnDone);\n          });\n        };\n        var comm = {\n          send: sendClosure\n        };\n      }\n      window.PyViz.comms[comm_id] = comm;\n      return comm;\n    }\n    window.PyViz.comm_manager = new JupyterCommManager();\n    \n\n\nvar JS_MIME_TYPE = 'application/javascript';\nvar HTML_MIME_TYPE = 'text/html';\nvar EXEC_MIME_TYPE = 'application/vnd.holoviews_exec.v0+json';\nvar CLASS_NAME = 'output';\n\n/**\n * Render data to the DOM node\n */\nfunction render(props, node) {\n  var div = document.createElement(\"div\");\n  var script = document.createElement(\"script\");\n  node.appendChild(div);\n  node.appendChild(script);\n}\n\n/**\n * Handle when a new output is added\n */\nfunction handle_add_output(event, handle) {\n  var output_area = handle.output_area;\n  var output = handle.output;\n  if ((output.data == undefined) || (!output.data.hasOwnProperty(EXEC_MIME_TYPE))) {\n    return\n  }\n  var id = output.metadata[EXEC_MIME_TYPE][\"id\"];\n  var toinsert = output_area.element.find(\".\" + CLASS_NAME.split(' ')[0]);\n  if (id !== undefined) {\n    var nchildren = toinsert.length;\n    var html_node = toinsert[nchildren-1].children[0];\n    html_node.innerHTML = output.data[HTML_MIME_TYPE];\n    var scripts = [];\n    var nodelist = html_node.querySelectorAll(\"script\");\n    for (var i in nodelist) {\n      if (nodelist.hasOwnProperty(i)) {\n        scripts.push(nodelist[i])\n      }\n    }\n\n    scripts.forEach( function (oldScript) {\n      var newScript = document.createElement(\"script\");\n      var attrs = [];\n      var nodemap = oldScript.attributes;\n      for (var j in nodemap) {\n        if (nodemap.hasOwnProperty(j)) {\n          attrs.push(nodemap[j])\n        }\n      }\n      attrs.forEach(function(attr) { newScript.setAttribute(attr.name, attr.value) });\n      newScript.appendChild(document.createTextNode(oldScript.innerHTML));\n      oldScript.parentNode.replaceChild(newScript, oldScript);\n    });\n    if (JS_MIME_TYPE in output.data) {\n      toinsert[nchildren-1].children[1].textContent = output.data[JS_MIME_TYPE];\n    }\n    output_area._hv_plot_id = id;\n    if ((window.Bokeh !== undefined) && (id in Bokeh.index)) {\n      window.PyViz.plot_index[id] = Bokeh.index[id];\n    } else {\n      window.PyViz.plot_index[id] = null;\n    }\n  } else if (output.metadata[EXEC_MIME_TYPE][\"server_id\"] !== undefined) {\n    var bk_div = document.createElement(\"div\");\n    bk_div.innerHTML = output.data[HTML_MIME_TYPE];\n    var script_attrs = bk_div.children[0].attributes;\n    for (var i = 0; i < script_attrs.length; i++) {\n      toinsert[toinsert.length - 1].childNodes[1].setAttribute(script_attrs[i].name, script_attrs[i].value);\n    }\n    // store reference to server id on output_area\n    output_area._bokeh_server_id = output.metadata[EXEC_MIME_TYPE][\"server_id\"];\n  }\n}\n\n/**\n * Handle when an output is cleared or removed\n */\nfunction handle_clear_output(event, handle) {\n  var id = handle.cell.output_area._hv_plot_id;\n  var server_id = handle.cell.output_area._bokeh_server_id;\n  if (((id === undefined) || !(id in PyViz.plot_index)) && (server_id !== undefined)) { return; }\n  var comm = window.PyViz.comm_manager.get_client_comm(\"hv-extension-comm\", \"hv-extension-comm\", function () {});\n  if (server_id !== null) {\n    comm.send({event_type: 'server_delete', 'id': server_id});\n    return;\n  } else if (comm !== null) {\n    comm.send({event_type: 'delete', 'id': id});\n  }\n  delete PyViz.plot_index[id];\n  if ((window.Bokeh !== undefined) & (id in window.Bokeh.index)) {\n    var doc = window.Bokeh.index[id].model.document\n    doc.clear();\n    const i = window.Bokeh.documents.indexOf(doc);\n    if (i > -1) {\n      window.Bokeh.documents.splice(i, 1);\n    }\n  }\n}\n\n/**\n * Handle kernel restart event\n */\nfunction handle_kernel_cleanup(event, handle) {\n  delete PyViz.comms[\"hv-extension-comm\"];\n  window.PyViz.plot_index = {}\n}\n\n/**\n * Handle update_display_data messages\n */\nfunction handle_update_output(event, handle) {\n  handle_clear_output(event, {cell: {output_area: handle.output_area}})\n  handle_add_output(event, handle)\n}\n\nfunction register_renderer(events, OutputArea) {\n  function append_mime(data, metadata, element) {\n    // create a DOM node to render to\n    var toinsert = this.create_output_subarea(\n    metadata,\n    CLASS_NAME,\n    EXEC_MIME_TYPE\n    );\n    this.keyboard_manager.register_events(toinsert);\n    // Render to node\n    var props = {data: data, metadata: metadata[EXEC_MIME_TYPE]};\n    render(props, toinsert[0]);\n    element.append(toinsert);\n    return toinsert\n  }\n\n  events.on('output_added.OutputArea', handle_add_output);\n  events.on('output_updated.OutputArea', handle_update_output);\n  events.on('clear_output.CodeCell', handle_clear_output);\n  events.on('delete.Cell', handle_clear_output);\n  events.on('kernel_ready.Kernel', handle_kernel_cleanup);\n\n  OutputArea.prototype.register_mime_type(EXEC_MIME_TYPE, append_mime, {\n    safe: true,\n    index: 0\n  });\n}\n\nif (window.Jupyter !== undefined) {\n  try {\n    var events = require('base/js/events');\n    var OutputArea = require('notebook/js/outputarea').OutputArea;\n    if (OutputArea.prototype.mime_types().indexOf(EXEC_MIME_TYPE) == -1) {\n      register_renderer(events, OutputArea);\n    }\n  } catch(err) {\n  }\n}\n"
     },
     "metadata": {},
     "output_type": "display_data"
    },
    {
     "data": {
      "text/html": [
       "<style>*[data-root-id],\n",
       "*[data-root-id] > * {\n",
       "  box-sizing: border-box;\n",
       "  font-family: var(--jp-ui-font-family);\n",
       "  font-size: var(--jp-ui-font-size1);\n",
       "  color: var(--vscode-editor-foreground, var(--jp-ui-font-color1));\n",
       "}\n",
       "\n",
       "/* Override VSCode background color */\n",
       ".cell-output-ipywidget-background:has(\n",
       "    > .cell-output-ipywidget-background > .lm-Widget > *[data-root-id]\n",
       "  ),\n",
       ".cell-output-ipywidget-background:has(> .lm-Widget > *[data-root-id]) {\n",
       "  background-color: transparent !important;\n",
       "}\n",
       "</style>"
      ]
     },
     "metadata": {},
     "output_type": "display_data"
    },
    {
     "data": {
      "application/vnd.holoviews_exec.v0+json": "",
      "text/html": [
       "<div id='b09ed2ab-a97d-4273-bf39-9cc9b4b9ef5c'>\n",
       "  <div id=\"f563b9f3-0026-4781-ac78-7fb057ed3c85\" data-root-id=\"b09ed2ab-a97d-4273-bf39-9cc9b4b9ef5c\" style=\"display: contents;\"></div>\n",
       "</div>\n",
       "<script type=\"application/javascript\">(function(root) {\n",
       "  var docs_json = {\"1fca76d5-62b9-4053-9535-1aeaee1438cc\":{\"version\":\"3.2.1\",\"title\":\"Bokeh Application\",\"roots\":[{\"type\":\"object\",\"name\":\"panel.models.browser.BrowserInfo\",\"id\":\"b09ed2ab-a97d-4273-bf39-9cc9b4b9ef5c\"},{\"type\":\"object\",\"name\":\"panel.models.comm_manager.CommManager\",\"id\":\"2ef27b81-9ab0-4328-8b57-540c0f368d99\",\"attributes\":{\"plot_id\":\"b09ed2ab-a97d-4273-bf39-9cc9b4b9ef5c\",\"comm_id\":\"beeaa37e5f8b4b9583782e017f144c62\",\"client_comm_id\":\"51c8c93db1b54d1faf97ba4cf4c61654\"}}],\"defs\":[{\"type\":\"model\",\"name\":\"ReactiveHTML1\"},{\"type\":\"model\",\"name\":\"FlexBox1\",\"properties\":[{\"name\":\"align_content\",\"kind\":\"Any\",\"default\":\"flex-start\"},{\"name\":\"align_items\",\"kind\":\"Any\",\"default\":\"flex-start\"},{\"name\":\"flex_direction\",\"kind\":\"Any\",\"default\":\"row\"},{\"name\":\"flex_wrap\",\"kind\":\"Any\",\"default\":\"wrap\"},{\"name\":\"justify_content\",\"kind\":\"Any\",\"default\":\"flex-start\"}]},{\"type\":\"model\",\"name\":\"FloatPanel1\",\"properties\":[{\"name\":\"config\",\"kind\":\"Any\",\"default\":{\"type\":\"map\"}},{\"name\":\"contained\",\"kind\":\"Any\",\"default\":true},{\"name\":\"position\",\"kind\":\"Any\",\"default\":\"right-top\"},{\"name\":\"offsetx\",\"kind\":\"Any\",\"default\":null},{\"name\":\"offsety\",\"kind\":\"Any\",\"default\":null},{\"name\":\"theme\",\"kind\":\"Any\",\"default\":\"primary\"},{\"name\":\"status\",\"kind\":\"Any\",\"default\":\"normalized\"}]},{\"type\":\"model\",\"name\":\"GridStack1\",\"properties\":[{\"name\":\"mode\",\"kind\":\"Any\",\"default\":\"warn\"},{\"name\":\"ncols\",\"kind\":\"Any\",\"default\":null},{\"name\":\"nrows\",\"kind\":\"Any\",\"default\":null},{\"name\":\"allow_resize\",\"kind\":\"Any\",\"default\":true},{\"name\":\"allow_drag\",\"kind\":\"Any\",\"default\":true},{\"name\":\"state\",\"kind\":\"Any\",\"default\":[]}]},{\"type\":\"model\",\"name\":\"drag1\",\"properties\":[{\"name\":\"slider_width\",\"kind\":\"Any\",\"default\":5},{\"name\":\"slider_color\",\"kind\":\"Any\",\"default\":\"black\"},{\"name\":\"value\",\"kind\":\"Any\",\"default\":50}]},{\"type\":\"model\",\"name\":\"click1\",\"properties\":[{\"name\":\"terminal_output\",\"kind\":\"Any\",\"default\":\"\"},{\"name\":\"debug_name\",\"kind\":\"Any\",\"default\":\"\"},{\"name\":\"clears\",\"kind\":\"Any\",\"default\":0}]},{\"type\":\"model\",\"name\":\"FastWrapper1\",\"properties\":[{\"name\":\"object\",\"kind\":\"Any\",\"default\":null},{\"name\":\"style\",\"kind\":\"Any\",\"default\":null}]},{\"type\":\"model\",\"name\":\"NotificationAreaBase1\",\"properties\":[{\"name\":\"js_events\",\"kind\":\"Any\",\"default\":{\"type\":\"map\"}},{\"name\":\"position\",\"kind\":\"Any\",\"default\":\"bottom-right\"},{\"name\":\"_clear\",\"kind\":\"Any\",\"default\":0}]},{\"type\":\"model\",\"name\":\"NotificationArea1\",\"properties\":[{\"name\":\"js_events\",\"kind\":\"Any\",\"default\":{\"type\":\"map\"}},{\"name\":\"notifications\",\"kind\":\"Any\",\"default\":[]},{\"name\":\"position\",\"kind\":\"Any\",\"default\":\"bottom-right\"},{\"name\":\"_clear\",\"kind\":\"Any\",\"default\":0},{\"name\":\"types\",\"kind\":\"Any\",\"default\":[{\"type\":\"map\",\"entries\":[[\"type\",\"warning\"],[\"background\",\"#ffc107\"],[\"icon\",{\"type\":\"map\",\"entries\":[[\"className\",\"fas fa-exclamation-triangle\"],[\"tagName\",\"i\"],[\"color\",\"white\"]]}]]},{\"type\":\"map\",\"entries\":[[\"type\",\"info\"],[\"background\",\"#007bff\"],[\"icon\",{\"type\":\"map\",\"entries\":[[\"className\",\"fas fa-info-circle\"],[\"tagName\",\"i\"],[\"color\",\"white\"]]}]]}]}]},{\"type\":\"model\",\"name\":\"Notification\",\"properties\":[{\"name\":\"background\",\"kind\":\"Any\",\"default\":null},{\"name\":\"duration\",\"kind\":\"Any\",\"default\":3000},{\"name\":\"icon\",\"kind\":\"Any\",\"default\":null},{\"name\":\"message\",\"kind\":\"Any\",\"default\":\"\"},{\"name\":\"notification_type\",\"kind\":\"Any\",\"default\":null},{\"name\":\"_destroyed\",\"kind\":\"Any\",\"default\":false}]},{\"type\":\"model\",\"name\":\"TemplateActions1\",\"properties\":[{\"name\":\"open_modal\",\"kind\":\"Any\",\"default\":0},{\"name\":\"close_modal\",\"kind\":\"Any\",\"default\":0}]},{\"type\":\"model\",\"name\":\"BootstrapTemplateActions1\",\"properties\":[{\"name\":\"open_modal\",\"kind\":\"Any\",\"default\":0},{\"name\":\"close_modal\",\"kind\":\"Any\",\"default\":0}]},{\"type\":\"model\",\"name\":\"MaterialTemplateActions1\",\"properties\":[{\"name\":\"open_modal\",\"kind\":\"Any\",\"default\":0},{\"name\":\"close_modal\",\"kind\":\"Any\",\"default\":0}]}]}};\n",
       "  var render_items = [{\"docid\":\"1fca76d5-62b9-4053-9535-1aeaee1438cc\",\"roots\":{\"b09ed2ab-a97d-4273-bf39-9cc9b4b9ef5c\":\"f563b9f3-0026-4781-ac78-7fb057ed3c85\"},\"root_ids\":[\"b09ed2ab-a97d-4273-bf39-9cc9b4b9ef5c\"]}];\n",
       "  var docs = Object.values(docs_json)\n",
       "  if (!docs) {\n",
       "    return\n",
       "  }\n",
       "  const py_version = docs[0].version.replace('rc', '-rc.').replace('.dev', '-dev.')\n",
       "  const is_dev = py_version.indexOf(\"+\") !== -1 || py_version.indexOf(\"-\") !== -1\n",
       "  function embed_document(root) {\n",
       "    var Bokeh = get_bokeh(root)\n",
       "    Bokeh.embed.embed_items_notebook(docs_json, render_items);\n",
       "    for (const render_item of render_items) {\n",
       "      for (const root_id of render_item.root_ids) {\n",
       "\tconst id_el = document.getElementById(root_id)\n",
       "\tif (id_el.children.length && (id_el.children[0].className === 'bk-root')) {\n",
       "\t  const root_el = id_el.children[0]\n",
       "\t  root_el.id = root_el.id + '-rendered'\n",
       "\t}\n",
       "      }\n",
       "    }\n",
       "  }\n",
       "  function get_bokeh(root) {\n",
       "    if (root.Bokeh === undefined) {\n",
       "      return null\n",
       "    } else if (root.Bokeh.version !== py_version && !is_dev) {\n",
       "      if (root.Bokeh.versions === undefined || !root.Bokeh.versions.has(py_version)) {\n",
       "\treturn null\n",
       "      }\n",
       "      return root.Bokeh.versions.get(py_version);\n",
       "    } else if (root.Bokeh.version === py_version) {\n",
       "      return root.Bokeh\n",
       "    }\n",
       "    return null\n",
       "  }\n",
       "  function is_loaded(root) {\n",
       "    var Bokeh = get_bokeh(root)\n",
       "    return (Bokeh != null && Bokeh.Panel !== undefined && ( root['vtk'] !== undefined) && ( root['vtk'] !== undefined))\n",
       "  }\n",
       "  if (is_loaded(root)) {\n",
       "    embed_document(root);\n",
       "  } else {\n",
       "    var attempts = 0;\n",
       "    var timer = setInterval(function(root) {\n",
       "      if (is_loaded(root)) {\n",
       "        clearInterval(timer);\n",
       "        embed_document(root);\n",
       "      } else if (document.readyState == \"complete\") {\n",
       "        attempts++;\n",
       "        if (attempts > 200) {\n",
       "          clearInterval(timer);\n",
       "\t  var Bokeh = get_bokeh(root)\n",
       "\t  if (Bokeh == null || Bokeh.Panel == null) {\n",
       "            console.warn(\"Panel: ERROR: Unable to run Panel code because Bokeh or Panel library is missing\");\n",
       "\t  } else {\n",
       "\t    console.warn(\"Panel: WARNING: Attempting to render but not all required libraries could be resolved.\")\n",
       "\t    embed_document(root)\n",
       "\t  }\n",
       "        }\n",
       "      }\n",
       "    }, 25, root)\n",
       "  }\n",
       "})(window);</script>"
      ]
     },
     "metadata": {
      "application/vnd.holoviews_exec.v0+json": {
       "id": "b09ed2ab-a97d-4273-bf39-9cc9b4b9ef5c"
      }
     },
     "output_type": "display_data"
    },
    {
     "data": {},
     "metadata": {},
     "output_type": "display_data"
    },
    {
     "data": {
      "application/vnd.holoviews_exec.v0+json": "",
      "text/html": [
       "<div id='7e1e372c-9088-4e7c-b185-2bb4aab49a8c'>\n",
       "  <div id=\"b5fa2bd6-d275-4f01-9979-5ee29db7ddfe\" data-root-id=\"7e1e372c-9088-4e7c-b185-2bb4aab49a8c\" style=\"display: contents;\"></div>\n",
       "</div>\n",
       "<script type=\"application/javascript\">(function(root) {\n",
       "  var docs_json = {\"795330c2-a625-4022-b459-ad649b092d66\":{\"version\":\"3.2.1\",\"title\":\"Bokeh Application\",\"roots\":[{\"type\":\"object\",\"name\":\"panel.models.vtk.VTKSynchronizedPlot\",\"id\":\"7e1e372c-9088-4e7c-b185-2bb4aab49a8c\",\"attributes\":{\"stylesheets\":[\"\\n:host(.pn-loading.pn-arc):before, .pn-loading.pn-arc:before {\\n  background-image: url(\\\"data:image/svg+xml;base64,PHN2ZyB4bWxucz0iaHR0cDovL3d3dy53My5vcmcvMjAwMC9zdmciIHN0eWxlPSJtYXJnaW46IGF1dG87IGJhY2tncm91bmQ6IG5vbmU7IGRpc3BsYXk6IGJsb2NrOyBzaGFwZS1yZW5kZXJpbmc6IGF1dG87IiB2aWV3Qm94PSIwIDAgMTAwIDEwMCIgcHJlc2VydmVBc3BlY3RSYXRpbz0ieE1pZFlNaWQiPiAgPGNpcmNsZSBjeD0iNTAiIGN5PSI1MCIgZmlsbD0ibm9uZSIgc3Ryb2tlPSIjYzNjM2MzIiBzdHJva2Utd2lkdGg9IjEwIiByPSIzNSIgc3Ryb2tlLWRhc2hhcnJheT0iMTY0LjkzMzYxNDMxMzQ2NDE1IDU2Ljk3Nzg3MTQzNzgyMTM4Ij4gICAgPGFuaW1hdGVUcmFuc2Zvcm0gYXR0cmlidXRlTmFtZT0idHJhbnNmb3JtIiB0eXBlPSJyb3RhdGUiIHJlcGVhdENvdW50PSJpbmRlZmluaXRlIiBkdXI9IjFzIiB2YWx1ZXM9IjAgNTAgNTA7MzYwIDUwIDUwIiBrZXlUaW1lcz0iMDsxIj48L2FuaW1hdGVUcmFuc2Zvcm0+ICA8L2NpcmNsZT48L3N2Zz4=\\\");\\n  background-size: auto calc(min(50%, 400px));\\n}\",{\"type\":\"object\",\"name\":\"ImportedStyleSheet\",\"id\":\"52bd1be7-e032-4bf8-979f-9e94162e5dad\",\"attributes\":{\"url\":\"https://cdn.holoviz.org/panel/1.2.1/dist/css/loading.css\"}},{\"type\":\"object\",\"name\":\"ImportedStyleSheet\",\"id\":\"a0cd9cf2-3612-4ee8-95c8-2bb0f0c51890\",\"attributes\":{\"url\":\"https://cdn.holoviz.org/panel/1.2.1/dist/bundled/theme/default.css\"}},{\"type\":\"object\",\"name\":\"ImportedStyleSheet\",\"id\":\"bf2da156-2cd6-446b-b589-b0badc004913\",\"attributes\":{\"url\":\"https://cdn.holoviz.org/panel/1.2.1/dist/bundled/theme/native.css\"}}],\"margin\":[5,10],\"sizing_mode\":\"stretch_width\",\"align\":\"start\",\"axes\":{\"type\":\"object\",\"name\":\"panel.models.vtk.VTKAxes\",\"id\":\"af7ffe76-d705-436d-bc5b-42aeb5363d32\"},\"arrays\":{\"type\":\"map\",\"entries\":[[\"37208c065c5e15b9f57c9e5b816e1e5d\",{\"type\":\"bytes\",\"data\":\"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\"}],[\"6e1996ab456e3fd81a231d475bd9e9a2\",{\"type\":\"bytes\",\"data\":\"BAAAAAAAAAABAAAAAwAAAAIAAAAEAAAAAQAAAAQAAAAFAAAAAwAAAAQAAAACAAAAAwAAAAcAAAAGAAAABAAAAAQAAAAIAAAACQAAAAUAAAAEAAAAAwAAAAUAAAAKAAAABwAAAAQAAAAGAAAABwAAAAwAAAALAAAABAAAAAgAAAANAAAADgAAAAkAAAAEAAAABQAAAAkAAAAPAAAACgAAAAQAAAAHAAAACgAAABAAAAAMAAAABAAAAAsAAAAMAAAAEgAAABEAAAAEAAAADQAAABMAAAAUAAAADgAAAAQAAAAJAAAADgAAABUAAAAPAAAABAAAAAoAAAAPAAAAFgAAABAAAAAEAAAADAAAABAAAAAXAAAAEgAAAAQAAAARAAAAEgAAABkAAAAYAAAABAAAABMAAAAaAAAAGwAAABQAAAAEAAAADgAAABQAAAAcAAAAFQAAAAQAAAAPAAAAFQAAAB0AAAAWAAAABAAAABAAAAAWAAAAHgAAABcAAAAEAAAAEgAAABcAAAAfAAAAGQAAAAQAAAAYAAAAGQAAACEAAAAgAAAABAAAABoAAAAiAAAAIwAAABsAAAAEAAAAFAAAABsAAAAkAAAAHAAAAAQAAAAVAAAAHAAAACUAAAAdAAAABAAAABYAAAAdAAAAJgAAAB4AAAAEAAAAFwAAAB4AAAAnAAAAHwAAAAQAAAAZAAAAHwAAACgAAAAhAAAABAAAACAAAAAhAAAAKgAAACkAAAAEAAAAIgAAACsAAAAsAAAAIwAAAAQAAAAbAAAAIwAAAC0AAAAkAAAABAAAABwAAAAkAAAALgAAACUAAAAEAAAAHQAAACUAAAAvAAAAJgAAAAQAAAAeAAAAJgAAADAAAAAnAAAABAAAAB8AAAAnAAAAMQAAACgAAAAEAAAAIQAAACgAAAAyAAAAKgAAAAQAAAApAAAAKgAAADQAAAAzAAAABAAAACMAAAAsAAAANQAAAC0AAAAEAAAAJAAAAC0AAAA2AAAALgAAAAQAAAAlAAAALgAAADcAAAAvAAAABAAAACYAAAAvAAAAOAAAADAAAAAEAAAAJwAAADAAAAA5AAAAMQAAAAQAAAAoAAAAMQAAADoAAAAyAAAABAAAACoAAAAyAAAAOwAAADQAAAAEAAAALQAAADUAAAA8AAAANgAAAAQAAAAuAAAANgAAAD0AAAA3AAAABAAAAC8AAAA3AAAAPgAAADgAAAAEAAAAMAAAADgAAAA/AAAAOQAAAAQAAAAxAAAAOQAAAEAAAAA6AAAABAAAADIAAAA6AAAAQQAAADsAAAAEAAAANgAAADwAAABCAAAAPQAAAAQAAAA3AAAAPQAAAEMAAAA+AAAABAAAADgAAAA+AAAARAAAAD8AAAAEAAAAOQAAAD8AAABFAAAAQAAAAAQAAAA6AAAAQAAAAEYAAABBAAAABAAAAD0AAABCAAAARwAAAEMAAAAEAAAAPgAAAEMAAABIAAAARAAAAAQAAAA/AAAARAAAAEkAAABFAAAABAAAAEAAAABFAAAASgAAAEYAAAAEAAAAQwAAAEcAAABLAAAASAAAAAQAAABEAAAASAAAAEwAAABJAAAABAAAAEUAAABJAAAATQAAAEoAAAAEAAAASAAAAEsAAABOAAAATAAAAAQAAABJAAAATAAAAE8AAABNAAAABAAAAEwAAABOAAAAUAAAAE8AAAA=\"}],[\"2ebda7d3c6c3627ba233a85b7027cd58\",{\"type\":\"bytes\",\"data\":\"/wAA//8AAP//AAD//wEA//8CAP//AwD//wUA//8HAP//CQD//wwA//8PAP//EgD//xUA//8ZAP//HQD//yEA//8lAP//KgD//y4A//8zAP//OQD//z4A//9DAP//SQD//08A//9VAP//WwD//2EA//9nAP//bQD//3MA//96AP//gAD//4YA//+MAP//kwD//5kA//+fAP//pQD//6sA//+xAP//tgD//7wA///BAP//xwD//8wA///RAP//1QD//9oA///eAP//4gD//+YA///qAP//7QD///AA///zAP//9QD///gA///5AP//+wD///wA///9AP///gD///4A//7/AP/+/wD//v8A//3/AP/8/wD/+v8A//j/AP/2/wD/9P8A//H/AP/v/wD/6/8A/+j/AP/k/wD/4P8A/9z/AP/Y/wD/0/8A/87/AP/J/wD/xP8A/7//AP+5/wD/tP8A/67/AP+o/wD/ov8A/5z/AP+W/wD/j/8A/4n/AP+D/wD/ff8A/3b/AP9w/wD/av8A/2T/AP9e/wD/WP8A/1L/AP9M/wD/Rv8A/0H/AP87/wD/Nv8A/zH/AP8s/wD/J/8A/yP/AP8f/wD/G/8A/xf/AP8T/wD/EP8A/w3/AP8L/wD/CP8A/wb/AP8E/wD/A/8A/wH/AP8A/wD/AP8A/wD/AP8A/wD/AP8A/wD/AP8A/wH/AP8D/wD/BP8A/wb/AP8I/wD/C/8A/w3/AP8Q/wD/E/8A/xf/AP8b/wD/H/8A/yP/AP8n/wD/LP8A/zH/AP82/wD/O/8A/0H/AP9G/wD/TP8A/1L/AP9Y/wD/Xv8A/2T/AP9q/wD/cP8A/3b/AP99/wD/g/8A/4n/AP+P/wD/lv8A/5z/AP+i/wD/qP8A/67/AP+0/wD/uf8A/7//AP/E/wD/yf8A/87/AP/T/wD/2P8A/9z/AP/g/wD/5P8A/+j/AP/r/wD/7/8A//H/AP/0/wD/9v8A//n/AP/6/wD//P8A//3/AP/+/wD//v8A//7/AP7//wD+//8A/f//APz//wD7//8A+f//APj//wD1//8A8///APD//wDt//8A6v//AOb//wDi//8A3v//ANr//wDV//8A0f//AMz//wDH//8Awf//ALz//wC2//8Asf//AKv//wCl//8An///AJn//wCT//8AjP//AIb//wCA//8Aef//AHP//wBt//8AZ///AGH//wBb//8AVf//AE///wBJ//8AQ///AD7//wA5//8AM///AC7//wAq//8AJf//ACH//wAd//8AGf//ABX//wAS//8AD///AAz//wAJ//8AB///AAX//wAD//8AAv//AAH//wAA//8AAP//AAD//w==\"}]]},\"scene\":{\"type\":\"map\",\"entries\":[[\"parent\",\"ab857f92-4786-41d7-9f92-1573d682f7880x0\"],[\"id\",\"ab857f92-4786-41d7-9f92-1573d682f7880000557b377d4630\"],[\"type\",\"vtkXOpenGLRenderWindow\"],[\"properties\",{\"type\":\"map\",\"entries\":[[\"numberOfLayers\",2]]}],[\"dependencies\",[{\"type\":\"map\",\"entries\":[[\"parent\",\"ab857f92-4786-41d7-9f92-1573d682f7880000557b377d4630\"],[\"id\",\"ab857f92-4786-41d7-9f92-1573d682f7880000557b37e936a0\"],[\"type\",\"vtkOpenGLRenderer\"],[\"properties\",{\"type\":\"map\",\"entries\":[[\"background\",[1.0,1.0,1.0]],[\"background2\",[0.2,0.2,0.2]],[\"viewport\",[0.0,0.0,1.0,1.0]],[\"twoSidedLighting\",1],[\"lightFollowCamera\",1],[\"layer\",0],[\"preserveColorBuffer\",0],[\"preserveDepthBuffer\",0],[\"nearClippingPlaneTolerance\",0.001],[\"clippingRangeExpansion\",0.5],[\"useShadows\",0],[\"useDepthPeeling\",0],[\"occlusionRatio\",0.0],[\"maximumNumberOfPeels\",4],[\"interactive\",1]]}],[\"dependencies\",[{\"type\":\"map\",\"entries\":[[\"parent\",\"ab857f92-4786-41d7-9f92-1573d682f7880000557b37e936a0\"],[\"id\",\"0000557b3779a600\"],[\"type\",\"vtkOpenGLCamera\"],[\"properties\",{\"type\":\"map\",\"entries\":[[\"focalPoint\",[0.5,0.5,0.0]],[\"position\",[0.5,0.5,2.7320508075688776]],[\"viewUp\",[0.0,1.0,0.0]],[\"clippingRange\",[2.5590521887869815,2.956410296978415]]]}]]},{\"type\":\"map\",\"entries\":[[\"parent\",\"ab857f92-4786-41d7-9f92-1573d682f7880000557b37e936a0\"],[\"id\",\"ab857f92-4786-41d7-9f92-1573d682f7880000557b37da2160\"],[\"type\",\"vtkOpenGLActor\"],[\"properties\",{\"type\":\"map\",\"entries\":[[\"visibility\",1],[\"pickable\",1],[\"dragable\",1],[\"useBounds\",true],[\"origin\",[0.0,0.0,0.0]],[\"position\",[0.0,0.0,0.0]],[\"scale\",[1.0,1.0,1.0]],[\"orientation\",[0.0,-0.0,0.0]],[\"forceOpaque\",false],[\"forceTranslucent\",false]]}],[\"calls\",[[\"setMapper\",[\"instance:${ab857f92-4786-41d7-9f92-1573d682f7880000557b373112e0}\"]],[\"setProperty\",[\"instance:${ab857f92-4786-41d7-9f92-1573d682f7880000557b3801e540}\"]]]],[\"dependencies\",[{\"type\":\"map\",\"entries\":[[\"parent\",\"ab857f92-4786-41d7-9f92-1573d682f7880000557b37da2160\"],[\"id\",\"ab857f92-4786-41d7-9f92-1573d682f7880000557b373112e0\"],[\"properties\",{\"type\":\"map\",\"entries\":[[\"resolveCoincidentTopology\",0],[\"renderTime\",0.0],[\"arrayAccessMode\",1],[\"scalarRange\",[0.0,1.0]],[\"useLookupTableScalarRange\",0],[\"scalarVisibility\",0],[\"colorByArrayName\",null],[\"colorMode\",0],[\"scalarMode\",0],[\"interpolateScalarsBeforeMapping\",1]]}],[\"calls\",[[\"setInputData\",[\"instance:${ab857f92-4786-41d7-9f92-1573d682f7880000557b373112e0-dataset-0}\",0]],[\"setLookupTable\",[\"instance:${ab857f92-4786-41d7-9f92-1573d682f7880000557b374c4740}\"]]]],[\"dependencies\",[{\"type\":\"map\",\"entries\":[[\"parent\",\"ab857f92-4786-41d7-9f92-1573d682f7880000557b373112e0\"],[\"id\",\"ab857f92-4786-41d7-9f92-1573d682f7880000557b373112e0-dataset-0\"],[\"type\",\"vtkPolyData\"],[\"properties\",{\"type\":\"map\",\"entries\":[[\"points\",{\"type\":\"map\",\"entries\":[[\"hash\",\"37208c065c5e15b9f57c9e5b816e1e5d\"],[\"vtkClass\",\"vtkPoints\"],[\"name\",\"Points\"],[\"dataType\",\"Float64Array\"],[\"numberOfComponents\",3],[\"size\",243],[\"ranges\",[{\"type\":\"map\",\"entries\":[[\"min\",0.0],[\"max\",1.0],[\"component\",null]]},{\"type\":\"map\",\"entries\":[[\"min\",0.0],[\"max\",1.0],[\"component\",null]]},{\"type\":\"map\",\"entries\":[[\"min\",0.0],[\"max\",0.0],[\"component\",null]]},{\"type\":\"map\",\"entries\":[[\"min\",0.0],[\"max\",1.4142135623730951],[\"component\",null]]}]]]}],[\"polys\",{\"type\":\"map\",\"entries\":[[\"hash\",\"6e1996ab456e3fd81a231d475bd9e9a2\"],[\"vtkClass\",\"vtkCellArray\"],[\"name\",null],[\"dataType\",\"Uint32Array\"],[\"numberOfComponents\",1],[\"size\",320],[\"ranges\",[{\"type\":\"map\",\"entries\":[[\"min\",0.0],[\"max\",80.0],[\"component\",null]]}]]]}],[\"fields\",[]]]}]]},{\"type\":\"map\",\"entries\":[[\"parent\",\"ab857f92-4786-41d7-9f92-1573d682f7880000557b373112e0\"],[\"id\",\"ab857f92-4786-41d7-9f92-1573d682f7880000557b374c4740\"],[\"type\",\"vtkLookupTable\"],[\"properties\",{\"type\":\"map\",\"entries\":[[\"numberOfColors\",256],[\"valueRange\",[0.0,1.0]],[\"range\",[0.0,1.0]],[\"hueRange\",[0.5,0]],[\"saturationRange\",[1.0,1.0]],[\"nanColor\",[0.5,0.0,0.0,1.0]],[\"belowRangeColor\",[0.0,0.0,0.0,1.0]],[\"aboveRangeColor\",[1.0,1.0,1.0,1.0]],[\"useAboveRangeColor\",false],[\"useBelowRangeColor\",false],[\"alpha\",1.0],[\"vectorSize\",-1],[\"vectorComponent\",0],[\"vectorMode\",1],[\"indexedLookup\",0]]}],[\"arrays\",[{\"type\":\"map\",\"entries\":[[\"hash\",\"2ebda7d3c6c3627ba233a85b7027cd58\"],[\"vtkClass\",\"vtkDataArray\"],[\"name\",null],[\"dataType\",\"Uint8Array\"],[\"numberOfComponents\",4],[\"size\",1024],[\"ranges\",[{\"type\":\"map\",\"entries\":[[\"min\",0.0],[\"max\",255.0],[\"component\",null]]},{\"type\":\"map\",\"entries\":[[\"min\",0.0],[\"max\",255.0],[\"component\",null]]},{\"type\":\"map\",\"entries\":[[\"min\",0.0],[\"max\",255.0],[\"component\",null]]},{\"type\":\"map\",\"entries\":[[\"min\",255.0],[\"max\",255.0],[\"component\",null]]},{\"type\":\"map\",\"entries\":[[\"min\",360.62445840513925],[\"max\",441.0963613542964],[\"component\",null]]}]],[\"registration\",\"setTable\"]]}]]]}]],[\"type\",\"vtkDataSetMapper\"]]},{\"type\":\"map\",\"entries\":[[\"parent\",\"ab857f92-4786-41d7-9f92-1573d682f7880000557b37da2160\"],[\"id\",\"ab857f92-4786-41d7-9f92-1573d682f7880000557b3801e540\"],[\"type\",\"vtkOpenGLProperty\"],[\"properties\",{\"type\":\"map\",\"entries\":[[\"representation\",2],[\"diffuseColor\",[0.6784313725490196,0.8470588235294118,0.9019607843137255]],[\"color\",[0.6784313725490196,0.8470588235294118,0.9019607843137255]],[\"ambientColor\",[0.6784313725490196,0.8470588235294118,0.9019607843137255]],[\"specularColor\",[0.6784313725490196,0.8470588235294118,0.9019607843137255]],[\"edgeColor\",[0.0,0.0,0.0]],[\"ambient\",0.0],[\"diffuse\",1.0],[\"specular\",0.0],[\"specularPower\",100.0],[\"opacity\",1.0],[\"interpolation\",0],[\"edgeVisibility\",1],[\"backfaceCulling\",0],[\"frontfaceCulling\",0],[\"pointSize\",5.0],[\"lineWidth\",1.0],[\"lighting\",1]]}]]}]]]}]],[\"calls\",[[\"setActiveCamera\",[\"instance:${0000557b3779a600}\"]],[\"addViewProp\",[\"instance:${ab857f92-4786-41d7-9f92-1573d682f7880000557b37da2160}\"]]]]]},{\"type\":\"map\",\"entries\":[[\"parent\",\"ab857f92-4786-41d7-9f92-1573d682f7880000557b377d4630\"],[\"id\",\"ab857f92-4786-41d7-9f92-1573d682f7880000557b37ed2910\"],[\"type\",\"vtkOpenGLRenderer\"],[\"properties\",{\"type\":\"map\",\"entries\":[[\"background\",[1.0,1.0,1.0]],[\"background2\",[0.2,0.2,0.2]],[\"viewport\",[0.0,0.0,1.0,1.0]],[\"twoSidedLighting\",1],[\"lightFollowCamera\",1],[\"layer\",1],[\"preserveColorBuffer\",1],[\"preserveDepthBuffer\",0],[\"nearClippingPlaneTolerance\",0.0],[\"clippingRangeExpansion\",0.5],[\"useShadows\",0],[\"useDepthPeeling\",0],[\"occlusionRatio\",0.0],[\"maximumNumberOfPeels\",4],[\"interactive\",0]]}],[\"dependencies\",[{\"type\":\"map\",\"entries\":[[\"parent\",\"ab857f92-4786-41d7-9f92-1573d682f7880000557b37ed2910\"],[\"id\",\"0000557b37ec4570\"],[\"type\",\"vtkOpenGLCamera\"],[\"properties\",{\"type\":\"map\",\"entries\":[[\"focalPoint\",[0.0,0.0,0.0]],[\"position\",[0.0,0.0,1.0]],[\"viewUp\",[0.0,1.0,0.0]],[\"clippingRange\",[0.01,1000.01]]]}]]}]],[\"calls\",[[\"setActiveCamera\",[\"instance:${0000557b37ec4570}\"]]]]]}]],[\"calls\",[[\"addRenderer\",[\"instance:${ab857f92-4786-41d7-9f92-1573d682f7880000557b37e936a0}\"]],[\"addRenderer\",[\"instance:${ab857f92-4786-41d7-9f92-1573d682f7880000557b37ed2910}\"]]]],[\"mtime\",3409]]}}},{\"type\":\"object\",\"name\":\"panel.models.comm_manager.CommManager\",\"id\":\"0b6a0b8f-feec-48fc-bd0a-67e5990579a5\",\"attributes\":{\"plot_id\":\"7e1e372c-9088-4e7c-b185-2bb4aab49a8c\",\"comm_id\":\"34717082967545d6a7c75465a3f8bc02\",\"client_comm_id\":\"0128b3612218417988d0edc69a7ba698\"}}],\"defs\":[{\"type\":\"model\",\"name\":\"ReactiveHTML1\"},{\"type\":\"model\",\"name\":\"FlexBox1\",\"properties\":[{\"name\":\"align_content\",\"kind\":\"Any\",\"default\":\"flex-start\"},{\"name\":\"align_items\",\"kind\":\"Any\",\"default\":\"flex-start\"},{\"name\":\"flex_direction\",\"kind\":\"Any\",\"default\":\"row\"},{\"name\":\"flex_wrap\",\"kind\":\"Any\",\"default\":\"wrap\"},{\"name\":\"justify_content\",\"kind\":\"Any\",\"default\":\"flex-start\"}]},{\"type\":\"model\",\"name\":\"FloatPanel1\",\"properties\":[{\"name\":\"config\",\"kind\":\"Any\",\"default\":{\"type\":\"map\"}},{\"name\":\"contained\",\"kind\":\"Any\",\"default\":true},{\"name\":\"position\",\"kind\":\"Any\",\"default\":\"right-top\"},{\"name\":\"offsetx\",\"kind\":\"Any\",\"default\":null},{\"name\":\"offsety\",\"kind\":\"Any\",\"default\":null},{\"name\":\"theme\",\"kind\":\"Any\",\"default\":\"primary\"},{\"name\":\"status\",\"kind\":\"Any\",\"default\":\"normalized\"}]},{\"type\":\"model\",\"name\":\"GridStack1\",\"properties\":[{\"name\":\"mode\",\"kind\":\"Any\",\"default\":\"warn\"},{\"name\":\"ncols\",\"kind\":\"Any\",\"default\":null},{\"name\":\"nrows\",\"kind\":\"Any\",\"default\":null},{\"name\":\"allow_resize\",\"kind\":\"Any\",\"default\":true},{\"name\":\"allow_drag\",\"kind\":\"Any\",\"default\":true},{\"name\":\"state\",\"kind\":\"Any\",\"default\":[]}]},{\"type\":\"model\",\"name\":\"drag1\",\"properties\":[{\"name\":\"slider_width\",\"kind\":\"Any\",\"default\":5},{\"name\":\"slider_color\",\"kind\":\"Any\",\"default\":\"black\"},{\"name\":\"value\",\"kind\":\"Any\",\"default\":50}]},{\"type\":\"model\",\"name\":\"click1\",\"properties\":[{\"name\":\"terminal_output\",\"kind\":\"Any\",\"default\":\"\"},{\"name\":\"debug_name\",\"kind\":\"Any\",\"default\":\"\"},{\"name\":\"clears\",\"kind\":\"Any\",\"default\":0}]},{\"type\":\"model\",\"name\":\"FastWrapper1\",\"properties\":[{\"name\":\"object\",\"kind\":\"Any\",\"default\":null},{\"name\":\"style\",\"kind\":\"Any\",\"default\":null}]},{\"type\":\"model\",\"name\":\"NotificationAreaBase1\",\"properties\":[{\"name\":\"js_events\",\"kind\":\"Any\",\"default\":{\"type\":\"map\"}},{\"name\":\"position\",\"kind\":\"Any\",\"default\":\"bottom-right\"},{\"name\":\"_clear\",\"kind\":\"Any\",\"default\":0}]},{\"type\":\"model\",\"name\":\"NotificationArea1\",\"properties\":[{\"name\":\"js_events\",\"kind\":\"Any\",\"default\":{\"type\":\"map\"}},{\"name\":\"notifications\",\"kind\":\"Any\",\"default\":[]},{\"name\":\"position\",\"kind\":\"Any\",\"default\":\"bottom-right\"},{\"name\":\"_clear\",\"kind\":\"Any\",\"default\":0},{\"name\":\"types\",\"kind\":\"Any\",\"default\":[{\"type\":\"map\",\"entries\":[[\"type\",\"warning\"],[\"background\",\"#ffc107\"],[\"icon\",{\"type\":\"map\",\"entries\":[[\"className\",\"fas fa-exclamation-triangle\"],[\"tagName\",\"i\"],[\"color\",\"white\"]]}]]},{\"type\":\"map\",\"entries\":[[\"type\",\"info\"],[\"background\",\"#007bff\"],[\"icon\",{\"type\":\"map\",\"entries\":[[\"className\",\"fas fa-info-circle\"],[\"tagName\",\"i\"],[\"color\",\"white\"]]}]]}]}]},{\"type\":\"model\",\"name\":\"Notification\",\"properties\":[{\"name\":\"background\",\"kind\":\"Any\",\"default\":null},{\"name\":\"duration\",\"kind\":\"Any\",\"default\":3000},{\"name\":\"icon\",\"kind\":\"Any\",\"default\":null},{\"name\":\"message\",\"kind\":\"Any\",\"default\":\"\"},{\"name\":\"notification_type\",\"kind\":\"Any\",\"default\":null},{\"name\":\"_destroyed\",\"kind\":\"Any\",\"default\":false}]},{\"type\":\"model\",\"name\":\"TemplateActions1\",\"properties\":[{\"name\":\"open_modal\",\"kind\":\"Any\",\"default\":0},{\"name\":\"close_modal\",\"kind\":\"Any\",\"default\":0}]},{\"type\":\"model\",\"name\":\"BootstrapTemplateActions1\",\"properties\":[{\"name\":\"open_modal\",\"kind\":\"Any\",\"default\":0},{\"name\":\"close_modal\",\"kind\":\"Any\",\"default\":0}]},{\"type\":\"model\",\"name\":\"MaterialTemplateActions1\",\"properties\":[{\"name\":\"open_modal\",\"kind\":\"Any\",\"default\":0},{\"name\":\"close_modal\",\"kind\":\"Any\",\"default\":0}]}]}};\n",
       "  var render_items = [{\"docid\":\"795330c2-a625-4022-b459-ad649b092d66\",\"roots\":{\"7e1e372c-9088-4e7c-b185-2bb4aab49a8c\":\"b5fa2bd6-d275-4f01-9979-5ee29db7ddfe\"},\"root_ids\":[\"7e1e372c-9088-4e7c-b185-2bb4aab49a8c\"]}];\n",
       "  var docs = Object.values(docs_json)\n",
       "  if (!docs) {\n",
       "    return\n",
       "  }\n",
       "  const py_version = docs[0].version.replace('rc', '-rc.').replace('.dev', '-dev.')\n",
       "  const is_dev = py_version.indexOf(\"+\") !== -1 || py_version.indexOf(\"-\") !== -1\n",
       "  function embed_document(root) {\n",
       "    var Bokeh = get_bokeh(root)\n",
       "    Bokeh.embed.embed_items_notebook(docs_json, render_items);\n",
       "    for (const render_item of render_items) {\n",
       "      for (const root_id of render_item.root_ids) {\n",
       "\tconst id_el = document.getElementById(root_id)\n",
       "\tif (id_el.children.length && (id_el.children[0].className === 'bk-root')) {\n",
       "\t  const root_el = id_el.children[0]\n",
       "\t  root_el.id = root_el.id + '-rendered'\n",
       "\t}\n",
       "      }\n",
       "    }\n",
       "  }\n",
       "  function get_bokeh(root) {\n",
       "    if (root.Bokeh === undefined) {\n",
       "      return null\n",
       "    } else if (root.Bokeh.version !== py_version && !is_dev) {\n",
       "      if (root.Bokeh.versions === undefined || !root.Bokeh.versions.has(py_version)) {\n",
       "\treturn null\n",
       "      }\n",
       "      return root.Bokeh.versions.get(py_version);\n",
       "    } else if (root.Bokeh.version === py_version) {\n",
       "      return root.Bokeh\n",
       "    }\n",
       "    return null\n",
       "  }\n",
       "  function is_loaded(root) {\n",
       "    var Bokeh = get_bokeh(root)\n",
       "    return (Bokeh != null && Bokeh.Panel !== undefined && ( root['vtk'] !== undefined) && ( root['vtk'] !== undefined))\n",
       "  }\n",
       "  if (is_loaded(root)) {\n",
       "    embed_document(root);\n",
       "  } else {\n",
       "    var attempts = 0;\n",
       "    var timer = setInterval(function(root) {\n",
       "      if (is_loaded(root)) {\n",
       "        clearInterval(timer);\n",
       "        embed_document(root);\n",
       "      } else if (document.readyState == \"complete\") {\n",
       "        attempts++;\n",
       "        if (attempts > 200) {\n",
       "          clearInterval(timer);\n",
       "\t  var Bokeh = get_bokeh(root)\n",
       "\t  if (Bokeh == null || Bokeh.Panel == null) {\n",
       "            console.warn(\"Panel: ERROR: Unable to run Panel code because Bokeh or Panel library is missing\");\n",
       "\t  } else {\n",
       "\t    console.warn(\"Panel: WARNING: Attempting to render but not all required libraries could be resolved.\")\n",
       "\t    embed_document(root)\n",
       "\t  }\n",
       "        }\n",
       "      }\n",
       "    }, 25, root)\n",
       "  }\n",
       "})(window);</script>"
      ],
      "text/plain": [
       "VTKRenderWindowSynchronized(vtkXOpenGLRenderWindow, sizing_mode='stretch_width')"
      ]
     },
     "metadata": {
      "application/vnd.holoviews_exec.v0+json": {
       "id": "7e1e372c-9088-4e7c-b185-2bb4aab49a8c"
      }
     },
     "output_type": "display_data"
    }
   ],
   "source": [
    "plotter = pyvista.Plotter()\n",
    "plotter.add_mesh(grid, show_edges=True)\n",
    "plotter.view_xy()\n",
    "if not pyvista.OFF_SCREEN:\n",
    "    plotter.show()\n",
    "else:\n",
    "    figure = plotter.screenshot(\"fundamentals_mesh.png\")"
   ]
  },
  {
   "cell_type": "markdown",
   "id": "1f6b0106",
   "metadata": {},
   "source": [
    "## Plotting a function using pyvista\n",
    "We want to plot the solution `uh`. As the function space used to defined the mesh is disconnected from the function space defining the mesh, we create a mesh based on the dof coordinates for the function space `V`. We use `dolfinx.plot.vtk_mesh` with the function space as input to create a mesh with mesh geometry based on the dof coordinates."
   ]
  },
  {
   "cell_type": "code",
   "execution_count": 16,
   "id": "539bf933",
   "metadata": {
    "vscode": {
     "languageId": "python"
    }
   },
   "outputs": [],
   "source": [
    "u_topology, u_cell_types, u_geometry = plot.vtk_mesh(V)"
   ]
  },
  {
   "cell_type": "markdown",
   "id": "2a16ae64",
   "metadata": {},
   "source": [
    "Next, we create the `pyvista.UnstructuredGrid` and add the dof-values to the mesh."
   ]
  },
  {
   "cell_type": "code",
   "execution_count": 17,
   "id": "d74eec74",
   "metadata": {
    "vscode": {
     "languageId": "python"
    }
   },
   "outputs": [
    {
     "data": {},
     "metadata": {},
     "output_type": "display_data"
    },
    {
     "data": {
      "application/vnd.holoviews_exec.v0+json": "",
      "text/html": [
       "<div id='9e7e3a1c-35aa-4a25-888b-f44910558403'>\n",
       "  <div id=\"d01e56c4-6ee0-4d41-bee3-cbb7ff81e543\" data-root-id=\"9e7e3a1c-35aa-4a25-888b-f44910558403\" style=\"display: contents;\"></div>\n",
       "</div>\n",
       "<script type=\"application/javascript\">(function(root) {\n",
       "  var docs_json = {\"698c329c-5128-4d34-9159-10803cfd258b\":{\"version\":\"3.2.1\",\"title\":\"Bokeh Application\",\"roots\":[{\"type\":\"object\",\"name\":\"panel.models.vtk.VTKSynchronizedPlot\",\"id\":\"9e7e3a1c-35aa-4a25-888b-f44910558403\",\"attributes\":{\"stylesheets\":[\"\\n:host(.pn-loading.pn-arc):before, .pn-loading.pn-arc:before {\\n  background-image: url(\\\"data:image/svg+xml;base64,PHN2ZyB4bWxucz0iaHR0cDovL3d3dy53My5vcmcvMjAwMC9zdmciIHN0eWxlPSJtYXJnaW46IGF1dG87IGJhY2tncm91bmQ6IG5vbmU7IGRpc3BsYXk6IGJsb2NrOyBzaGFwZS1yZW5kZXJpbmc6IGF1dG87IiB2aWV3Qm94PSIwIDAgMTAwIDEwMCIgcHJlc2VydmVBc3BlY3RSYXRpbz0ieE1pZFlNaWQiPiAgPGNpcmNsZSBjeD0iNTAiIGN5PSI1MCIgZmlsbD0ibm9uZSIgc3Ryb2tlPSIjYzNjM2MzIiBzdHJva2Utd2lkdGg9IjEwIiByPSIzNSIgc3Ryb2tlLWRhc2hhcnJheT0iMTY0LjkzMzYxNDMxMzQ2NDE1IDU2Ljk3Nzg3MTQzNzgyMTM4Ij4gICAgPGFuaW1hdGVUcmFuc2Zvcm0gYXR0cmlidXRlTmFtZT0idHJhbnNmb3JtIiB0eXBlPSJyb3RhdGUiIHJlcGVhdENvdW50PSJpbmRlZmluaXRlIiBkdXI9IjFzIiB2YWx1ZXM9IjAgNTAgNTA7MzYwIDUwIDUwIiBrZXlUaW1lcz0iMDsxIj48L2FuaW1hdGVUcmFuc2Zvcm0+ICA8L2NpcmNsZT48L3N2Zz4=\\\");\\n  background-size: auto calc(min(50%, 400px));\\n}\",{\"type\":\"object\",\"name\":\"ImportedStyleSheet\",\"id\":\"977886b4-c591-424b-9bc2-ffbbdef72c73\",\"attributes\":{\"url\":\"https://cdn.holoviz.org/panel/1.2.1/dist/css/loading.css\"}},{\"type\":\"object\",\"name\":\"ImportedStyleSheet\",\"id\":\"f798d733-554a-4acf-8a2e-b6e698fb89eb\",\"attributes\":{\"url\":\"https://cdn.holoviz.org/panel/1.2.1/dist/bundled/theme/default.css\"}},{\"type\":\"object\",\"name\":\"ImportedStyleSheet\",\"id\":\"56c94824-ff9d-4676-b6a6-f8df2e1cae46\",\"attributes\":{\"url\":\"https://cdn.holoviz.org/panel/1.2.1/dist/bundled/theme/native.css\"}}],\"margin\":[5,10],\"sizing_mode\":\"stretch_width\",\"align\":\"start\",\"axes\":{\"type\":\"object\",\"name\":\"panel.models.vtk.VTKAxes\",\"id\":\"c81f0de1-29c7-4a3f-9b29-4e716b1caee1\"},\"color_mappers\":[{\"type\":\"object\",\"name\":\"LinearColorMapper\",\"id\":\"715673dc-21cf-4f18-9855-dfc203108587\",\"attributes\":{\"name\":\"u\",\"palette\":[\"#440154\",\"#440255\",\"#440357\",\"#450558\",\"#45065a\",\"#45085b\",\"#46095c\",\"#460b5e\",\"#460c5f\",\"#460e61\",\"#470f62\",\"#471163\",\"#471265\",\"#471466\",\"#471567\",\"#471669\",\"#47186a\",\"#48196b\",\"#481a6c\",\"#481c6e\",\"#481d6f\",\"#481e70\",\"#482071\",\"#482172\",\"#482273\",\"#482374\",\"#472575\",\"#472676\",\"#472777\",\"#472878\",\"#472a79\",\"#472b7a\",\"#472c7b\",\"#462d7c\",\"#462f7c\",\"#46307d\",\"#46317e\",\"#45327f\",\"#45347f\",\"#453580\",\"#453681\",\"#443781\",\"#443982\",\"#433a83\",\"#433b83\",\"#433c84\",\"#423d84\",\"#423e85\",\"#424085\",\"#414186\",\"#414286\",\"#404387\",\"#404487\",\"#3f4587\",\"#3f4788\",\"#3e4888\",\"#3e4989\",\"#3d4a89\",\"#3d4b89\",\"#3d4c89\",\"#3c4d8a\",\"#3c4e8a\",\"#3b508a\",\"#3b518a\",\"#3a528b\",\"#3a538b\",\"#39548b\",\"#39558b\",\"#38568b\",\"#38578c\",\"#37588c\",\"#37598c\",\"#365a8c\",\"#365b8c\",\"#355c8c\",\"#355d8c\",\"#345e8d\",\"#345f8d\",\"#33608d\",\"#33618d\",\"#32628d\",\"#32638d\",\"#31648d\",\"#31658d\",\"#31668d\",\"#30678d\",\"#30688d\",\"#2f698d\",\"#2f6a8d\",\"#2e6b8e\",\"#2e6c8e\",\"#2e6d8e\",\"#2d6e8e\",\"#2d6f8e\",\"#2c708e\",\"#2c718e\",\"#2c728e\",\"#2b738e\",\"#2b748e\",\"#2a758e\",\"#2a768e\",\"#2a778e\",\"#29788e\",\"#29798e\",\"#287a8e\",\"#287a8e\",\"#287b8e\",\"#277c8e\",\"#277d8e\",\"#277e8e\",\"#267f8e\",\"#26808e\",\"#26818e\",\"#25828e\",\"#25838d\",\"#24848d\",\"#24858d\",\"#24868d\",\"#23878d\",\"#23888d\",\"#23898d\",\"#22898d\",\"#228a8d\",\"#228b8d\",\"#218c8d\",\"#218d8c\",\"#218e8c\",\"#208f8c\",\"#20908c\",\"#20918c\",\"#1f928c\",\"#1f938b\",\"#1f948b\",\"#1f958b\",\"#1f968b\",\"#1e978a\",\"#1e988a\",\"#1e998a\",\"#1e998a\",\"#1e9a89\",\"#1e9b89\",\"#1e9c89\",\"#1e9d88\",\"#1e9e88\",\"#1e9f88\",\"#1ea087\",\"#1fa187\",\"#1fa286\",\"#1fa386\",\"#20a485\",\"#20a585\",\"#21a685\",\"#21a784\",\"#22a784\",\"#23a883\",\"#23a982\",\"#24aa82\",\"#25ab81\",\"#26ac81\",\"#27ad80\",\"#28ae7f\",\"#29af7f\",\"#2ab07e\",\"#2bb17d\",\"#2cb17d\",\"#2eb27c\",\"#2fb37b\",\"#30b47a\",\"#32b57a\",\"#33b679\",\"#35b778\",\"#36b877\",\"#38b976\",\"#39b976\",\"#3bba75\",\"#3dbb74\",\"#3ebc73\",\"#40bd72\",\"#42be71\",\"#44be70\",\"#45bf6f\",\"#47c06e\",\"#49c16d\",\"#4bc26c\",\"#4dc26b\",\"#4fc369\",\"#51c468\",\"#53c567\",\"#55c666\",\"#57c665\",\"#59c764\",\"#5bc862\",\"#5ec961\",\"#60c960\",\"#62ca5f\",\"#64cb5d\",\"#67cc5c\",\"#69cc5b\",\"#6bcd59\",\"#6dce58\",\"#70ce56\",\"#72cf55\",\"#74d054\",\"#77d052\",\"#79d151\",\"#7cd24f\",\"#7ed24e\",\"#81d34c\",\"#83d34b\",\"#86d449\",\"#88d547\",\"#8bd546\",\"#8dd644\",\"#90d643\",\"#92d741\",\"#95d73f\",\"#97d83e\",\"#9ad83c\",\"#9dd93a\",\"#9fd938\",\"#a2da37\",\"#a5da35\",\"#a7db33\",\"#aadb32\",\"#addc30\",\"#afdc2e\",\"#b2dd2c\",\"#b5dd2b\",\"#b7dd29\",\"#bade27\",\"#bdde26\",\"#bfdf24\",\"#c2df22\",\"#c5df21\",\"#c7e01f\",\"#cae01e\",\"#cde01d\",\"#cfe11c\",\"#d2e11b\",\"#d4e11a\",\"#d7e219\",\"#dae218\",\"#dce218\",\"#dfe318\",\"#e1e318\",\"#e4e318\",\"#e7e419\",\"#e9e419\",\"#ece41a\",\"#eee51b\",\"#f1e51c\",\"#f3e51e\",\"#f6e61f\",\"#f8e621\",\"#fae622\",\"#fde724\"],\"low\":1.0,\"high\":4.0}}],\"arrays\":{\"type\":\"map\",\"entries\":[[\"2d5d5951ae71b2f1cbb0a16a91e47253\",{\"type\":\"bytes\",\"data\":\"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\"}],[\"6e1996ab456e3fd81a231d475bd9e9a2\",{\"type\":\"bytes\",\"data\":\"BAAAAAAAAAABAAAAAwAAAAIAAAAEAAAAAQAAAAQAAAAFAAAAAwAAAAQAAAACAAAAAwAAAAcAAAAGAAAABAAAAAQAAAAIAAAACQAAAAUAAAAEAAAAAwAAAAUAAAAKAAAABwAAAAQAAAAGAAAABwAAAAwAAAALAAAABAAAAAgAAAANAAAADgAAAAkAAAAEAAAABQAAAAkAAAAPAAAACgAAAAQAAAAHAAAACgAAABAAAAAMAAAABAAAAAsAAAAMAAAAEgAAABEAAAAEAAAADQAAABMAAAAUAAAADgAAAAQAAAAJAAAADgAAABUAAAAPAAAABAAAAAoAAAAPAAAAFgAAABAAAAAEAAAADAAAABAAAAAXAAAAEgAAAAQAAAARAAAAEgAAABkAAAAYAAAABAAAABMAAAAaAAAAGwAAABQAAAAEAAAADgAAABQAAAAcAAAAFQAAAAQAAAAPAAAAFQAAAB0AAAAWAAAABAAAABAAAAAWAAAAHgAAABcAAAAEAAAAEgAAABcAAAAfAAAAGQAAAAQAAAAYAAAAGQAAACEAAAAgAAAABAAAABoAAAAiAAAAIwAAABsAAAAEAAAAFAAAABsAAAAkAAAAHAAAAAQAAAAVAAAAHAAAACUAAAAdAAAABAAAABYAAAAdAAAAJgAAAB4AAAAEAAAAFwAAAB4AAAAnAAAAHwAAAAQAAAAZAAAAHwAAACgAAAAhAAAABAAAACAAAAAhAAAAKgAAACkAAAAEAAAAIgAAACsAAAAsAAAAIwAAAAQAAAAbAAAAIwAAAC0AAAAkAAAABAAAABwAAAAkAAAALgAAACUAAAAEAAAAHQAAACUAAAAvAAAAJgAAAAQAAAAeAAAAJgAAADAAAAAnAAAABAAAAB8AAAAnAAAAMQAAACgAAAAEAAAAIQAAACgAAAAyAAAAKgAAAAQAAAApAAAAKgAAADQAAAAzAAAABAAAACMAAAAsAAAANQAAAC0AAAAEAAAAJAAAAC0AAAA2AAAALgAAAAQAAAAlAAAALgAAADcAAAAvAAAABAAAACYAAAAvAAAAOAAAADAAAAAEAAAAJwAAADAAAAA5AAAAMQAAAAQAAAAoAAAAMQAAADoAAAAyAAAABAAAACoAAAAyAAAAOwAAADQAAAAEAAAALQAAADUAAAA8AAAANgAAAAQAAAAuAAAANgAAAD0AAAA3AAAABAAAAC8AAAA3AAAAPgAAADgAAAAEAAAAMAAAADgAAAA/AAAAOQAAAAQAAAAxAAAAOQAAAEAAAAA6AAAABAAAADIAAAA6AAAAQQAAADsAAAAEAAAANgAAADwAAABCAAAAPQAAAAQAAAA3AAAAPQAAAEMAAAA+AAAABAAAADgAAAA+AAAARAAAAD8AAAAEAAAAOQAAAD8AAABFAAAAQAAAAAQAAAA6AAAAQAAAAEYAAABBAAAABAAAAD0AAABCAAAARwAAAEMAAAAEAAAAPgAAAEMAAABIAAAARAAAAAQAAAA/AAAARAAAAEkAAABFAAAABAAAAEAAAABFAAAASgAAAEYAAAAEAAAAQwAAAEcAAABLAAAASAAAAAQAAABEAAAASAAAAEwAAABJAAAABAAAAEUAAABJAAAATQAAAEoAAAAEAAAASAAAAEsAAABOAAAATAAAAAQAAABJAAAATAAAAE8AAABNAAAABAAAAEwAAABOAAAAUAAAAE8AAAA=\"}],[\"522752588ec2495010ac7c649c66c0f0\",{\"type\":\"bytes\",\"data\":\"AAAAAAAA8D8AAAAAAIDwPwAAAAAAQPA///////+/8D8AAAAAAADyP/3/////P/I/AAAAAAAA8T/8/////3/xPwAAAAAAgPQ//P////+/9D/5///////yPwAAAAAAQPI/+/////+/8j8AAAAAAAD4P/7/////P/g/+P////9/9T/3/////z/0PwAAAAAAAPQ/+/////9/9D8AAAAAAID8P/7/////v/w/+P//////+D/4/////7/2P/b///////U/AAAAAABA9j/7/////7/2PwAAAAAAAAFAAQAAAAAgAUD8/////3/9P/b/////P/o/8/////9/+D/4/////z/4PwAAAAAAAPk//P////9/+T8AAAAAAEAEQAEAAAAAYARA/v////9/AUD1/////7/+P/P///////s/9f////+/+j/2///////6PwAAAAAAQPw//f////+//D8AAAAAAAAIQAAAAAAAIAhAAQAAAADABED9/////x8CQPf/////PwBA9P////8//j/1/////3/9P/3/////P/4/AAAAAAAAAEAAAAAAAEAAQAAAAAAAgAhA//////9fBUD6//////8CQPv/////XwFA+v////9/AED6/////18AQAAAAAAAAAFAAAAAAAAgCUD7/////z8GQPr/////HwRA+v////+/AkD9/////x8CQAAAAAAAQAJAAAAAAAAACkD9/////18HQP3/////fwVA/v////9fBEAAAAAAAAAEQAAAAAAAIAtA//////+/CED//////x8HQAAAAAAAQAZAAAAAAACADED//////18KQAAAAAAAAAlAAAAAAAAgDkAAAAAAAEAMQAAAAAAAABBA\"}],[\"ce52d598102e2756143cf4f27a0b5911\",{\"type\":\"bytes\",\"data\":\"RAFU/0QCVf9EA1f/RQVY/0UGWv9FCFv/Rglc/0YLXv9GDF//Rg5h/0cPYv9HEWP/RxJl/0cUZv9HFWf/RxZp/0cYav9IGWv/SBps/0gcbv9IHW//SB5w/0ggcf9IIXL/SCJz/0gjdP9HJXX/RyZ2/0cnd/9HKHj/Ryp5/0crev9HLHv/Ri18/0YvfP9GMH3/RjF+/0Uyf/9FNH//RTWA/0U2gf9EN4H/RDmC/0M6g/9DO4P/QzyE/0I9hP9CPoX/QkCF/0FBhv9BQob/QEOH/0BEh/8/RYf/P0eI/z5IiP8+SYn/PUqJ/z1Lif89TIn/PE2K/zxOiv87UIr/O1GK/zpSi/86U4v/OVSL/zlVi/84Vov/OFeM/zdYjP83WYz/NlqM/zZbjP81XIz/NV2M/zRejf80X43/M2CN/zNhjf8yYo3/MmON/zFkjf8xZY3/MWaN/zBnjf8waI3/L2mN/y9qjf8ua47/LmyO/y5tjv8tbo7/LW+O/yxwjv8scY7/LHKO/ytzjv8rdI7/KnWO/yp2jv8qd47/KXiO/yl5jv8oeo7/KHqO/yh7jv8nfI7/J32O/yd+jv8mf47/JoCO/yaBjv8lgo7/JYON/ySEjf8khY3/JIaN/yOHjf8jiI3/I4mN/yKJjf8iio3/IouN/yGMjf8hjYz/IY6M/yCPjP8gkIz/IJGM/x+SjP8fk4v/H5SL/x+Vi/8flov/HpeK/x6Yiv8emYr/HpmK/x6aif8em4n/HpyJ/x6diP8enoj/Hp+I/x6gh/8foYf/H6KG/x+jhv8gpIX/IKWF/yGmhf8hp4T/IqeE/yOog/8jqYL/JKqC/yWrgf8mrIH/J62A/yiuf/8pr3//KrB+/yuxff8ssX3/LrJ8/y+ze/8wtHr/MrV6/zO2ef81t3j/Nrh3/zi5dv85uXb/O7p1/z27dP8+vHP/QL1y/0K+cf9EvnD/Rb9v/0fAbv9JwW3/S8Js/03Ca/9Pw2n/UcRo/1PFZ/9Vxmb/V8Zl/1nHZP9byGL/Xslh/2DJYP9iyl//ZMtd/2fMXP9pzFv/a81Z/23OWP9wzlb/cs9V/3TQVP930FL/edFR/3zST/9+0k7/gdNM/4PTS/+G1En/iNVH/4vVRv+N1kT/kNZD/5LXQf+V1z//l9g+/5rYPP+d2Tr/n9k4/6LaN/+l2jX/p9sz/6rbMv+t3DD/r9wu/7LdLP+13Sv/t90p/7reJ/+93ib/v98k/8LfIv/F3yH/x+Af/8rgHv/N4B3/z+Ec/9LhG//U4Rr/1+IZ/9riGP/c4hj/3+MY/+HjGP/k4xj/5+QZ/+nkGf/s5Br/7uUb//HlHP/z5R7/9uYf//jmIf/65iL//eck/w==\"}]]},\"scene\":{\"type\":\"map\",\"entries\":[[\"parent\",\"8ce5b681-d880-494a-8106-431cca1f776a0x0\"],[\"id\",\"8ce5b681-d880-494a-8106-431cca1f776a0000557b39ee66c0\"],[\"type\",\"vtkXOpenGLRenderWindow\"],[\"properties\",{\"type\":\"map\",\"entries\":[[\"numberOfLayers\",2]]}],[\"dependencies\",[{\"type\":\"map\",\"entries\":[[\"parent\",\"8ce5b681-d880-494a-8106-431cca1f776a0000557b39ee66c0\"],[\"id\",\"8ce5b681-d880-494a-8106-431cca1f776a0000557b39e91f10\"],[\"type\",\"vtkOpenGLRenderer\"],[\"properties\",{\"type\":\"map\",\"entries\":[[\"background\",[1.0,1.0,1.0]],[\"background2\",[0.2,0.2,0.2]],[\"viewport\",[0.0,0.0,1.0,1.0]],[\"twoSidedLighting\",1],[\"lightFollowCamera\",1],[\"layer\",0],[\"preserveColorBuffer\",0],[\"preserveDepthBuffer\",0],[\"nearClippingPlaneTolerance\",0.001],[\"clippingRangeExpansion\",0.5],[\"useShadows\",0],[\"useDepthPeeling\",0],[\"occlusionRatio\",0.0],[\"maximumNumberOfPeels\",4],[\"interactive\",1]]}],[\"dependencies\",[{\"type\":\"map\",\"entries\":[[\"parent\",\"8ce5b681-d880-494a-8106-431cca1f776a0000557b39e91f10\"],[\"id\",\"0000557b38de25a0\"],[\"type\",\"vtkOpenGLCamera\"],[\"properties\",{\"type\":\"map\",\"entries\":[[\"focalPoint\",[0.5,0.5,0.0]],[\"position\",[0.5,0.5,2.7320508075688776]],[\"viewUp\",[0.0,1.0,0.0]],[\"clippingRange\",[2.5590521887869815,2.956410296978415]]]}]]},{\"type\":\"map\",\"entries\":[[\"parent\",\"8ce5b681-d880-494a-8106-431cca1f776a0000557b39e91f10\"],[\"id\",\"8ce5b681-d880-494a-8106-431cca1f776a0000557b39ece850\"],[\"type\",\"vtkOpenGLActor\"],[\"properties\",{\"type\":\"map\",\"entries\":[[\"visibility\",1],[\"pickable\",1],[\"dragable\",1],[\"useBounds\",true],[\"origin\",[0.0,0.0,0.0]],[\"position\",[0.0,0.0,0.0]],[\"scale\",[1.0,1.0,1.0]],[\"orientation\",[0.0,-0.0,0.0]],[\"forceOpaque\",false],[\"forceTranslucent\",false]]}],[\"calls\",[[\"setMapper\",[\"instance:${8ce5b681-d880-494a-8106-431cca1f776a0000557b3891f5f0}\"]],[\"setProperty\",[\"instance:${8ce5b681-d880-494a-8106-431cca1f776a0000557b39e698a0}\"]]]],[\"dependencies\",[{\"type\":\"map\",\"entries\":[[\"parent\",\"8ce5b681-d880-494a-8106-431cca1f776a0000557b39ece850\"],[\"id\",\"8ce5b681-d880-494a-8106-431cca1f776a0000557b3891f5f0\"],[\"properties\",{\"type\":\"map\",\"entries\":[[\"resolveCoincidentTopology\",0],[\"renderTime\",0.0],[\"arrayAccessMode\",1],[\"scalarRange\",[1.0,4.0]],[\"useLookupTableScalarRange\",0],[\"scalarVisibility\",1],[\"colorByArrayName\",null],[\"colorMode\",1],[\"scalarMode\",1],[\"interpolateScalarsBeforeMapping\",1]]}],[\"calls\",[[\"setInputData\",[\"instance:${8ce5b681-d880-494a-8106-431cca1f776a0000557b3891f5f0-dataset-0}\",0]],[\"setLookupTable\",[\"instance:${8ce5b681-d880-494a-8106-431cca1f776a0000557b39ef4240}\"]]]],[\"dependencies\",[{\"type\":\"map\",\"entries\":[[\"parent\",\"8ce5b681-d880-494a-8106-431cca1f776a0000557b3891f5f0\"],[\"id\",\"8ce5b681-d880-494a-8106-431cca1f776a0000557b3891f5f0-dataset-0\"],[\"type\",\"vtkPolyData\"],[\"properties\",{\"type\":\"map\",\"entries\":[[\"points\",{\"type\":\"map\",\"entries\":[[\"hash\",\"2d5d5951ae71b2f1cbb0a16a91e47253\"],[\"vtkClass\",\"vtkPoints\"],[\"name\",\"Points\"],[\"dataType\",\"Float64Array\"],[\"numberOfComponents\",3],[\"size\",243],[\"ranges\",[{\"type\":\"map\",\"entries\":[[\"min\",-6.938893903907228e-18],[\"max\",1.0],[\"component\",null]]},{\"type\":\"map\",\"entries\":[[\"min\",-6.938893903907228e-18],[\"max\",1.0],[\"component\",null]]},{\"type\":\"map\",\"entries\":[[\"min\",0.0],[\"max\",0.0],[\"component\",null]]},{\"type\":\"map\",\"entries\":[[\"min\",9.813077866773595e-18],[\"max\",1.4142135623730951],[\"component\",null]]}]]]}],[\"polys\",{\"type\":\"map\",\"entries\":[[\"hash\",\"6e1996ab456e3fd81a231d475bd9e9a2\"],[\"vtkClass\",\"vtkCellArray\"],[\"name\",null],[\"dataType\",\"Uint32Array\"],[\"numberOfComponents\",1],[\"size\",320],[\"ranges\",[{\"type\":\"map\",\"entries\":[[\"min\",0.0],[\"max\",80.0],[\"component\",null]]}]]]}],[\"fields\",[{\"type\":\"map\",\"entries\":[[\"hash\",\"522752588ec2495010ac7c649c66c0f0\"],[\"vtkClass\",\"vtkDataArray\"],[\"name\",\"u\"],[\"dataType\",\"Float64Array\"],[\"numberOfComponents\",1],[\"size\",81],[\"ranges\",[{\"type\":\"map\",\"entries\":[[\"min\",1.0],[\"max\",4.0],[\"component\",null]]}]],[\"location\",\"pointData\"],[\"registration\",\"setScalars\"]]}]]]}]]},{\"type\":\"map\",\"entries\":[[\"parent\",\"8ce5b681-d880-494a-8106-431cca1f776a0000557b3891f5f0\"],[\"id\",\"8ce5b681-d880-494a-8106-431cca1f776a0000557b39ef4240\"],[\"type\",\"vtkLookupTable\"],[\"properties\",{\"type\":\"map\",\"entries\":[[\"numberOfColors\",256],[\"valueRange\",[1.0,4.0]],[\"range\",[1.0,4.0]],[\"hueRange\",[0.5,0]],[\"saturationRange\",[1.0,1.0]],[\"nanColor\",[0.6627450980392157,0.6627450980392157,0.6627450980392157,1.0]],[\"belowRangeColor\",[0.0,0.0,0.0,1.0]],[\"aboveRangeColor\",[1.0,1.0,1.0,1.0]],[\"useAboveRangeColor\",false],[\"useBelowRangeColor\",false],[\"alpha\",1.0],[\"vectorSize\",-1],[\"vectorComponent\",0],[\"vectorMode\",1],[\"indexedLookup\",0]]}],[\"arrays\",[{\"type\":\"map\",\"entries\":[[\"hash\",\"ce52d598102e2756143cf4f27a0b5911\"],[\"vtkClass\",\"vtkDataArray\"],[\"name\",null],[\"dataType\",\"Uint8Array\"],[\"numberOfComponents\",4],[\"size\",1024],[\"ranges\",[{\"type\":\"map\",\"entries\":[[\"min\",30.0],[\"max\",253.0],[\"component\",null]]},{\"type\":\"map\",\"entries\":[[\"min\",1.0],[\"max\",231.0],[\"component\",null]]},{\"type\":\"map\",\"entries\":[[\"min\",24.0],[\"max\",142.0],[\"component\",null]]},{\"type\":\"map\",\"entries\":[[\"min\",255.0],[\"max\",255.0],[\"component\",null]]},{\"type\":\"map\",\"entries\":[[\"min\",276.95848064285735],[\"max\",428.5918804643877],[\"component\",null]]}]],[\"registration\",\"setTable\"]]}]]]}]],[\"type\",\"vtkDataSetMapper\"]]},{\"type\":\"map\",\"entries\":[[\"parent\",\"8ce5b681-d880-494a-8106-431cca1f776a0000557b39ece850\"],[\"id\",\"8ce5b681-d880-494a-8106-431cca1f776a0000557b39e698a0\"],[\"type\",\"vtkOpenGLProperty\"],[\"properties\",{\"type\":\"map\",\"entries\":[[\"representation\",2],[\"diffuseColor\",[0.6784313725490196,0.8470588235294118,0.9019607843137255]],[\"color\",[0.6784313725490196,0.8470588235294118,0.9019607843137255]],[\"ambientColor\",[0.6784313725490196,0.8470588235294118,0.9019607843137255]],[\"specularColor\",[0.6784313725490196,0.8470588235294118,0.9019607843137255]],[\"edgeColor\",[0.0,0.0,0.0]],[\"ambient\",0.0],[\"diffuse\",1.0],[\"specular\",0.0],[\"specularPower\",100.0],[\"opacity\",1.0],[\"interpolation\",0],[\"edgeVisibility\",1],[\"backfaceCulling\",0],[\"frontfaceCulling\",0],[\"pointSize\",5.0],[\"lineWidth\",1.0],[\"lighting\",1]]}]]}]]]}]],[\"calls\",[[\"setActiveCamera\",[\"instance:${0000557b38de25a0}\"]],[\"addViewProp\",[\"instance:${8ce5b681-d880-494a-8106-431cca1f776a0000557b39ece850}\"]]]]]},{\"type\":\"map\",\"entries\":[[\"parent\",\"8ce5b681-d880-494a-8106-431cca1f776a0000557b39ee66c0\"],[\"id\",\"8ce5b681-d880-494a-8106-431cca1f776a0000557b39e71e40\"],[\"type\",\"vtkOpenGLRenderer\"],[\"properties\",{\"type\":\"map\",\"entries\":[[\"background\",[1.0,1.0,1.0]],[\"background2\",[0.2,0.2,0.2]],[\"viewport\",[0.0,0.0,1.0,1.0]],[\"twoSidedLighting\",1],[\"lightFollowCamera\",1],[\"layer\",1],[\"preserveColorBuffer\",1],[\"preserveDepthBuffer\",0],[\"nearClippingPlaneTolerance\",0.0],[\"clippingRangeExpansion\",0.5],[\"useShadows\",0],[\"useDepthPeeling\",0],[\"occlusionRatio\",0.0],[\"maximumNumberOfPeels\",4],[\"interactive\",0]]}],[\"dependencies\",[{\"type\":\"map\",\"entries\":[[\"parent\",\"8ce5b681-d880-494a-8106-431cca1f776a0000557b39e71e40\"],[\"id\",\"0000557b39286d60\"],[\"type\",\"vtkOpenGLCamera\"],[\"properties\",{\"type\":\"map\",\"entries\":[[\"focalPoint\",[0.0,0.0,0.0]],[\"position\",[0.0,0.0,1.0]],[\"viewUp\",[0.0,1.0,0.0]],[\"clippingRange\",[0.01,1000.01]]]}]]}]],[\"calls\",[[\"setActiveCamera\",[\"instance:${0000557b39286d60}\"]]]]]}]],[\"calls\",[[\"addRenderer\",[\"instance:${8ce5b681-d880-494a-8106-431cca1f776a0000557b39e91f10}\"]],[\"addRenderer\",[\"instance:${8ce5b681-d880-494a-8106-431cca1f776a0000557b39e71e40}\"]]]],[\"mtime\",12279]]}}},{\"type\":\"object\",\"name\":\"panel.models.comm_manager.CommManager\",\"id\":\"7568aa74-0895-4abe-8f71-7949e3af0a79\",\"attributes\":{\"plot_id\":\"9e7e3a1c-35aa-4a25-888b-f44910558403\",\"comm_id\":\"c17e146123ec4983a6954fca62215894\",\"client_comm_id\":\"4b494de0faf3488d8b8c4831568f0848\"}}],\"defs\":[{\"type\":\"model\",\"name\":\"ReactiveHTML1\"},{\"type\":\"model\",\"name\":\"FlexBox1\",\"properties\":[{\"name\":\"align_content\",\"kind\":\"Any\",\"default\":\"flex-start\"},{\"name\":\"align_items\",\"kind\":\"Any\",\"default\":\"flex-start\"},{\"name\":\"flex_direction\",\"kind\":\"Any\",\"default\":\"row\"},{\"name\":\"flex_wrap\",\"kind\":\"Any\",\"default\":\"wrap\"},{\"name\":\"justify_content\",\"kind\":\"Any\",\"default\":\"flex-start\"}]},{\"type\":\"model\",\"name\":\"FloatPanel1\",\"properties\":[{\"name\":\"config\",\"kind\":\"Any\",\"default\":{\"type\":\"map\"}},{\"name\":\"contained\",\"kind\":\"Any\",\"default\":true},{\"name\":\"position\",\"kind\":\"Any\",\"default\":\"right-top\"},{\"name\":\"offsetx\",\"kind\":\"Any\",\"default\":null},{\"name\":\"offsety\",\"kind\":\"Any\",\"default\":null},{\"name\":\"theme\",\"kind\":\"Any\",\"default\":\"primary\"},{\"name\":\"status\",\"kind\":\"Any\",\"default\":\"normalized\"}]},{\"type\":\"model\",\"name\":\"GridStack1\",\"properties\":[{\"name\":\"mode\",\"kind\":\"Any\",\"default\":\"warn\"},{\"name\":\"ncols\",\"kind\":\"Any\",\"default\":null},{\"name\":\"nrows\",\"kind\":\"Any\",\"default\":null},{\"name\":\"allow_resize\",\"kind\":\"Any\",\"default\":true},{\"name\":\"allow_drag\",\"kind\":\"Any\",\"default\":true},{\"name\":\"state\",\"kind\":\"Any\",\"default\":[]}]},{\"type\":\"model\",\"name\":\"drag1\",\"properties\":[{\"name\":\"slider_width\",\"kind\":\"Any\",\"default\":5},{\"name\":\"slider_color\",\"kind\":\"Any\",\"default\":\"black\"},{\"name\":\"value\",\"kind\":\"Any\",\"default\":50}]},{\"type\":\"model\",\"name\":\"click1\",\"properties\":[{\"name\":\"terminal_output\",\"kind\":\"Any\",\"default\":\"\"},{\"name\":\"debug_name\",\"kind\":\"Any\",\"default\":\"\"},{\"name\":\"clears\",\"kind\":\"Any\",\"default\":0}]},{\"type\":\"model\",\"name\":\"FastWrapper1\",\"properties\":[{\"name\":\"object\",\"kind\":\"Any\",\"default\":null},{\"name\":\"style\",\"kind\":\"Any\",\"default\":null}]},{\"type\":\"model\",\"name\":\"NotificationAreaBase1\",\"properties\":[{\"name\":\"js_events\",\"kind\":\"Any\",\"default\":{\"type\":\"map\"}},{\"name\":\"position\",\"kind\":\"Any\",\"default\":\"bottom-right\"},{\"name\":\"_clear\",\"kind\":\"Any\",\"default\":0}]},{\"type\":\"model\",\"name\":\"NotificationArea1\",\"properties\":[{\"name\":\"js_events\",\"kind\":\"Any\",\"default\":{\"type\":\"map\"}},{\"name\":\"notifications\",\"kind\":\"Any\",\"default\":[]},{\"name\":\"position\",\"kind\":\"Any\",\"default\":\"bottom-right\"},{\"name\":\"_clear\",\"kind\":\"Any\",\"default\":0},{\"name\":\"types\",\"kind\":\"Any\",\"default\":[{\"type\":\"map\",\"entries\":[[\"type\",\"warning\"],[\"background\",\"#ffc107\"],[\"icon\",{\"type\":\"map\",\"entries\":[[\"className\",\"fas fa-exclamation-triangle\"],[\"tagName\",\"i\"],[\"color\",\"white\"]]}]]},{\"type\":\"map\",\"entries\":[[\"type\",\"info\"],[\"background\",\"#007bff\"],[\"icon\",{\"type\":\"map\",\"entries\":[[\"className\",\"fas fa-info-circle\"],[\"tagName\",\"i\"],[\"color\",\"white\"]]}]]}]}]},{\"type\":\"model\",\"name\":\"Notification\",\"properties\":[{\"name\":\"background\",\"kind\":\"Any\",\"default\":null},{\"name\":\"duration\",\"kind\":\"Any\",\"default\":3000},{\"name\":\"icon\",\"kind\":\"Any\",\"default\":null},{\"name\":\"message\",\"kind\":\"Any\",\"default\":\"\"},{\"name\":\"notification_type\",\"kind\":\"Any\",\"default\":null},{\"name\":\"_destroyed\",\"kind\":\"Any\",\"default\":false}]},{\"type\":\"model\",\"name\":\"TemplateActions1\",\"properties\":[{\"name\":\"open_modal\",\"kind\":\"Any\",\"default\":0},{\"name\":\"close_modal\",\"kind\":\"Any\",\"default\":0}]},{\"type\":\"model\",\"name\":\"BootstrapTemplateActions1\",\"properties\":[{\"name\":\"open_modal\",\"kind\":\"Any\",\"default\":0},{\"name\":\"close_modal\",\"kind\":\"Any\",\"default\":0}]},{\"type\":\"model\",\"name\":\"MaterialTemplateActions1\",\"properties\":[{\"name\":\"open_modal\",\"kind\":\"Any\",\"default\":0},{\"name\":\"close_modal\",\"kind\":\"Any\",\"default\":0}]}]}};\n",
       "  var render_items = [{\"docid\":\"698c329c-5128-4d34-9159-10803cfd258b\",\"roots\":{\"9e7e3a1c-35aa-4a25-888b-f44910558403\":\"d01e56c4-6ee0-4d41-bee3-cbb7ff81e543\"},\"root_ids\":[\"9e7e3a1c-35aa-4a25-888b-f44910558403\"]}];\n",
       "  var docs = Object.values(docs_json)\n",
       "  if (!docs) {\n",
       "    return\n",
       "  }\n",
       "  const py_version = docs[0].version.replace('rc', '-rc.').replace('.dev', '-dev.')\n",
       "  const is_dev = py_version.indexOf(\"+\") !== -1 || py_version.indexOf(\"-\") !== -1\n",
       "  function embed_document(root) {\n",
       "    var Bokeh = get_bokeh(root)\n",
       "    Bokeh.embed.embed_items_notebook(docs_json, render_items);\n",
       "    for (const render_item of render_items) {\n",
       "      for (const root_id of render_item.root_ids) {\n",
       "\tconst id_el = document.getElementById(root_id)\n",
       "\tif (id_el.children.length && (id_el.children[0].className === 'bk-root')) {\n",
       "\t  const root_el = id_el.children[0]\n",
       "\t  root_el.id = root_el.id + '-rendered'\n",
       "\t}\n",
       "      }\n",
       "    }\n",
       "  }\n",
       "  function get_bokeh(root) {\n",
       "    if (root.Bokeh === undefined) {\n",
       "      return null\n",
       "    } else if (root.Bokeh.version !== py_version && !is_dev) {\n",
       "      if (root.Bokeh.versions === undefined || !root.Bokeh.versions.has(py_version)) {\n",
       "\treturn null\n",
       "      }\n",
       "      return root.Bokeh.versions.get(py_version);\n",
       "    } else if (root.Bokeh.version === py_version) {\n",
       "      return root.Bokeh\n",
       "    }\n",
       "    return null\n",
       "  }\n",
       "  function is_loaded(root) {\n",
       "    var Bokeh = get_bokeh(root)\n",
       "    return (Bokeh != null && Bokeh.Panel !== undefined && ( root['vtk'] !== undefined) && ( root['vtk'] !== undefined))\n",
       "  }\n",
       "  if (is_loaded(root)) {\n",
       "    embed_document(root);\n",
       "  } else {\n",
       "    var attempts = 0;\n",
       "    var timer = setInterval(function(root) {\n",
       "      if (is_loaded(root)) {\n",
       "        clearInterval(timer);\n",
       "        embed_document(root);\n",
       "      } else if (document.readyState == \"complete\") {\n",
       "        attempts++;\n",
       "        if (attempts > 200) {\n",
       "          clearInterval(timer);\n",
       "\t  var Bokeh = get_bokeh(root)\n",
       "\t  if (Bokeh == null || Bokeh.Panel == null) {\n",
       "            console.warn(\"Panel: ERROR: Unable to run Panel code because Bokeh or Panel library is missing\");\n",
       "\t  } else {\n",
       "\t    console.warn(\"Panel: WARNING: Attempting to render but not all required libraries could be resolved.\")\n",
       "\t    embed_document(root)\n",
       "\t  }\n",
       "        }\n",
       "      }\n",
       "    }, 25, root)\n",
       "  }\n",
       "})(window);</script>"
      ],
      "text/plain": [
       "VTKRenderWindowSynchronized(vtkXOpenGLRenderWindow, color_mappers=[LinearColorMapper(id='715...], sizing_mode='stretch_width')"
      ]
     },
     "metadata": {
      "application/vnd.holoviews_exec.v0+json": {
       "id": "9e7e3a1c-35aa-4a25-888b-f44910558403"
      }
     },
     "output_type": "display_data"
    }
   ],
   "source": [
    "u_grid = pyvista.UnstructuredGrid(u_topology, u_cell_types, u_geometry)\n",
    "u_grid.point_data[\"u\"] = uh.x.array.real\n",
    "u_grid.set_active_scalars(\"u\")\n",
    "u_plotter = pyvista.Plotter()\n",
    "u_plotter.add_mesh(u_grid, show_edges=True)\n",
    "u_plotter.view_xy()\n",
    "if not pyvista.OFF_SCREEN:\n",
    "    u_plotter.show()"
   ]
  },
  {
   "cell_type": "markdown",
   "id": "81eb365a",
   "metadata": {},
   "source": [
    "We can also warp the mesh by scalar to make use of the 3D plotting."
   ]
  },
  {
   "cell_type": "code",
   "execution_count": 18,
   "id": "dd0cfafc",
   "metadata": {
    "vscode": {
     "languageId": "python"
    }
   },
   "outputs": [
    {
     "data": {},
     "metadata": {},
     "output_type": "display_data"
    },
    {
     "data": {
      "application/vnd.holoviews_exec.v0+json": "",
      "text/html": [
       "<div id='70f45786-9d4c-4c7c-b52a-3248466f45f2'>\n",
       "  <div id=\"af9cc345-ef78-404f-9eed-c964e18cadbf\" data-root-id=\"70f45786-9d4c-4c7c-b52a-3248466f45f2\" style=\"display: contents;\"></div>\n",
       "</div>\n",
       "<script type=\"application/javascript\">(function(root) {\n",
       "  var docs_json = {\"8b7e72af-c9e5-4e47-8879-eb8a216a2833\":{\"version\":\"3.2.1\",\"title\":\"Bokeh Application\",\"roots\":[{\"type\":\"object\",\"name\":\"panel.models.vtk.VTKSynchronizedPlot\",\"id\":\"70f45786-9d4c-4c7c-b52a-3248466f45f2\",\"attributes\":{\"stylesheets\":[\"\\n:host(.pn-loading.pn-arc):before, .pn-loading.pn-arc:before {\\n  background-image: url(\\\"data:image/svg+xml;base64,PHN2ZyB4bWxucz0iaHR0cDovL3d3dy53My5vcmcvMjAwMC9zdmciIHN0eWxlPSJtYXJnaW46IGF1dG87IGJhY2tncm91bmQ6IG5vbmU7IGRpc3BsYXk6IGJsb2NrOyBzaGFwZS1yZW5kZXJpbmc6IGF1dG87IiB2aWV3Qm94PSIwIDAgMTAwIDEwMCIgcHJlc2VydmVBc3BlY3RSYXRpbz0ieE1pZFlNaWQiPiAgPGNpcmNsZSBjeD0iNTAiIGN5PSI1MCIgZmlsbD0ibm9uZSIgc3Ryb2tlPSIjYzNjM2MzIiBzdHJva2Utd2lkdGg9IjEwIiByPSIzNSIgc3Ryb2tlLWRhc2hhcnJheT0iMTY0LjkzMzYxNDMxMzQ2NDE1IDU2Ljk3Nzg3MTQzNzgyMTM4Ij4gICAgPGFuaW1hdGVUcmFuc2Zvcm0gYXR0cmlidXRlTmFtZT0idHJhbnNmb3JtIiB0eXBlPSJyb3RhdGUiIHJlcGVhdENvdW50PSJpbmRlZmluaXRlIiBkdXI9IjFzIiB2YWx1ZXM9IjAgNTAgNTA7MzYwIDUwIDUwIiBrZXlUaW1lcz0iMDsxIj48L2FuaW1hdGVUcmFuc2Zvcm0+ICA8L2NpcmNsZT48L3N2Zz4=\\\");\\n  background-size: auto calc(min(50%, 400px));\\n}\",{\"type\":\"object\",\"name\":\"ImportedStyleSheet\",\"id\":\"bfa72417-34ec-418a-819e-1a86794319f6\",\"attributes\":{\"url\":\"https://cdn.holoviz.org/panel/1.2.1/dist/css/loading.css\"}},{\"type\":\"object\",\"name\":\"ImportedStyleSheet\",\"id\":\"cb786a4e-78a1-4338-9f6e-d8fd8bf1e981\",\"attributes\":{\"url\":\"https://cdn.holoviz.org/panel/1.2.1/dist/bundled/theme/default.css\"}},{\"type\":\"object\",\"name\":\"ImportedStyleSheet\",\"id\":\"5d50feee-82c0-4c2b-b20a-8e6e407c57ca\",\"attributes\":{\"url\":\"https://cdn.holoviz.org/panel/1.2.1/dist/bundled/theme/native.css\"}}],\"margin\":[5,10],\"sizing_mode\":\"stretch_width\",\"align\":\"start\",\"axes\":{\"type\":\"object\",\"name\":\"panel.models.vtk.VTKAxes\",\"id\":\"6b425fc5-682d-4482-a43b-6f5ffea42144\"},\"color_mappers\":[{\"type\":\"object\",\"name\":\"LinearColorMapper\",\"id\":\"d6752001-329b-4fa9-9798-758732435aff\",\"attributes\":{\"name\":\"u\",\"palette\":[\"#440154\",\"#440255\",\"#440357\",\"#450558\",\"#45065a\",\"#45085b\",\"#46095c\",\"#460b5e\",\"#460c5f\",\"#460e61\",\"#470f62\",\"#471163\",\"#471265\",\"#471466\",\"#471567\",\"#471669\",\"#47186a\",\"#48196b\",\"#481a6c\",\"#481c6e\",\"#481d6f\",\"#481e70\",\"#482071\",\"#482172\",\"#482273\",\"#482374\",\"#472575\",\"#472676\",\"#472777\",\"#472878\",\"#472a79\",\"#472b7a\",\"#472c7b\",\"#462d7c\",\"#462f7c\",\"#46307d\",\"#46317e\",\"#45327f\",\"#45347f\",\"#453580\",\"#453681\",\"#443781\",\"#443982\",\"#433a83\",\"#433b83\",\"#433c84\",\"#423d84\",\"#423e85\",\"#424085\",\"#414186\",\"#414286\",\"#404387\",\"#404487\",\"#3f4587\",\"#3f4788\",\"#3e4888\",\"#3e4989\",\"#3d4a89\",\"#3d4b89\",\"#3d4c89\",\"#3c4d8a\",\"#3c4e8a\",\"#3b508a\",\"#3b518a\",\"#3a528b\",\"#3a538b\",\"#39548b\",\"#39558b\",\"#38568b\",\"#38578c\",\"#37588c\",\"#37598c\",\"#365a8c\",\"#365b8c\",\"#355c8c\",\"#355d8c\",\"#345e8d\",\"#345f8d\",\"#33608d\",\"#33618d\",\"#32628d\",\"#32638d\",\"#31648d\",\"#31658d\",\"#31668d\",\"#30678d\",\"#30688d\",\"#2f698d\",\"#2f6a8d\",\"#2e6b8e\",\"#2e6c8e\",\"#2e6d8e\",\"#2d6e8e\",\"#2d6f8e\",\"#2c708e\",\"#2c718e\",\"#2c728e\",\"#2b738e\",\"#2b748e\",\"#2a758e\",\"#2a768e\",\"#2a778e\",\"#29788e\",\"#29798e\",\"#287a8e\",\"#287a8e\",\"#287b8e\",\"#277c8e\",\"#277d8e\",\"#277e8e\",\"#267f8e\",\"#26808e\",\"#26818e\",\"#25828e\",\"#25838d\",\"#24848d\",\"#24858d\",\"#24868d\",\"#23878d\",\"#23888d\",\"#23898d\",\"#22898d\",\"#228a8d\",\"#228b8d\",\"#218c8d\",\"#218d8c\",\"#218e8c\",\"#208f8c\",\"#20908c\",\"#20918c\",\"#1f928c\",\"#1f938b\",\"#1f948b\",\"#1f958b\",\"#1f968b\",\"#1e978a\",\"#1e988a\",\"#1e998a\",\"#1e998a\",\"#1e9a89\",\"#1e9b89\",\"#1e9c89\",\"#1e9d88\",\"#1e9e88\",\"#1e9f88\",\"#1ea087\",\"#1fa187\",\"#1fa286\",\"#1fa386\",\"#20a485\",\"#20a585\",\"#21a685\",\"#21a784\",\"#22a784\",\"#23a883\",\"#23a982\",\"#24aa82\",\"#25ab81\",\"#26ac81\",\"#27ad80\",\"#28ae7f\",\"#29af7f\",\"#2ab07e\",\"#2bb17d\",\"#2cb17d\",\"#2eb27c\",\"#2fb37b\",\"#30b47a\",\"#32b57a\",\"#33b679\",\"#35b778\",\"#36b877\",\"#38b976\",\"#39b976\",\"#3bba75\",\"#3dbb74\",\"#3ebc73\",\"#40bd72\",\"#42be71\",\"#44be70\",\"#45bf6f\",\"#47c06e\",\"#49c16d\",\"#4bc26c\",\"#4dc26b\",\"#4fc369\",\"#51c468\",\"#53c567\",\"#55c666\",\"#57c665\",\"#59c764\",\"#5bc862\",\"#5ec961\",\"#60c960\",\"#62ca5f\",\"#64cb5d\",\"#67cc5c\",\"#69cc5b\",\"#6bcd59\",\"#6dce58\",\"#70ce56\",\"#72cf55\",\"#74d054\",\"#77d052\",\"#79d151\",\"#7cd24f\",\"#7ed24e\",\"#81d34c\",\"#83d34b\",\"#86d449\",\"#88d547\",\"#8bd546\",\"#8dd644\",\"#90d643\",\"#92d741\",\"#95d73f\",\"#97d83e\",\"#9ad83c\",\"#9dd93a\",\"#9fd938\",\"#a2da37\",\"#a5da35\",\"#a7db33\",\"#aadb32\",\"#addc30\",\"#afdc2e\",\"#b2dd2c\",\"#b5dd2b\",\"#b7dd29\",\"#bade27\",\"#bdde26\",\"#bfdf24\",\"#c2df22\",\"#c5df21\",\"#c7e01f\",\"#cae01e\",\"#cde01d\",\"#cfe11c\",\"#d2e11b\",\"#d4e11a\",\"#d7e219\",\"#dae218\",\"#dce218\",\"#dfe318\",\"#e1e318\",\"#e4e318\",\"#e7e419\",\"#e9e419\",\"#ece41a\",\"#eee51b\",\"#f1e51c\",\"#f3e51e\",\"#f6e61f\",\"#f8e621\",\"#fae622\",\"#fde724\"],\"low\":1.0,\"high\":4.0}}],\"arrays\":{\"type\":\"map\",\"entries\":[[\"5290f5f5845eaa94c80b01695a5ecdba\",{\"type\":\"bytes\",\"data\":\"AAAAIwAAACMAAIA/AAAAIwAAAD4AAIQ/AAAAPgAAACMAAII/AAAAPgAAAD4AAIY/AAAAIwAAgD4AAJA/AAAAPgAAgD4AAJI/AACAPgAAACMAAIg/AACAPgAAAD4AAIw/AAAAIwAAwD4AAKQ/AAAAPgAAwD4AAKY/AACAPgAAgD4AAJg/AADAPgAAACMAAJI/AADAPgAAAD4AAJY/AAAAIwAAAD8AAMA/AAAAPgAAAD8AAMI/AACAPgAAwD4AAKw/AADAPgAAgD4AAKI/AAAAPwAAACMAAKA/AAAAPwAAAD4AAKQ/AAAAIwAAID8AAOQ/AAAAPgAAID8AAOY/AACAPgAAAD8AAMg/AADAPgAAwD4AALY/AAAAPwAAgD4AALA/AAAgPwAAACMAALI/AAAgPwAAAD4AALY/AAAAIwAAQD8AAAhAAAAAPgAAQD8AAAlAAACAPgAAID8AAOw/AADAPgAAAD8AANI/AAAAPwAAwD4AAMQ/AAAgPwAAgD4AAMI/AABAPwAAACMAAMg/AABAPwAAAD4AAMw/AAAAIwAAYD8AACJAAAAAPgAAYD8AACNAAACAPgAAQD8AAAxAAADAPgAAID8AAPY/AAAAPwAAAD8AAOA/AAAgPwAAwD4AANY/AABAPwAAgD4AANg/AABgPwAAACMAAOI/AABgPwAAAD4AAOY/AAAAowAAgD8AAEBAAAAAPgAAgD8AAEFAAACAPgAAYD8AACZAAADAPgAAQD8AABFAAAAAPwAAID8AAAJAAAAgPwAAAD8AAPI/AABAPwAAwD4AAOw/AABgPwAAgD4AAPI/AACAPwAAAKMAAABAAACAPwAAAD4AAAJAAACAPgAAgD8AAERAAADAPgAAYD8AACtAAAAAPwAAQD8AABhAAAAgPwAAID8AAAtAAABAPwAAAD8AAARAAABgPwAAwD4AAANAAACAPwAAgD4AAAhAAADAPgAAgD8AAElAAAAAPwAAYD8AADJAAAAgPwAAQD8AACFAAABAPwAAID8AABZAAABgPwAAAD8AABFAAACAPwAAwD4AABJAAAAAPwAAgD8AAFBAAAAgPwAAYD8AADtAAABAPwAAQD8AACxAAABgPwAAID8AACNAAACAPwAAAD8AACBAAAAgPwAAgD8AAFlAAABAPwAAYD8AAEZAAABgPwAAQD8AADlAAACAPwAAID8AADJAAABAPwAAgD8AAGRAAABgPwAAYD8AAFNAAACAPwAAQD8AAEhAAABgPwAAgD8AAHFAAACAPwAAYD8AAGJAAACAPwAAgD8AAIBA\"}],[\"6e1996ab456e3fd81a231d475bd9e9a2\",{\"type\":\"bytes\",\"data\":\"BAAAAAAAAAABAAAAAwAAAAIAAAAEAAAAAQAAAAQAAAAFAAAAAwAAAAQAAAACAAAAAwAAAAcAAAAGAAAABAAAAAQAAAAIAAAACQAAAAUAAAAEAAAAAwAAAAUAAAAKAAAABwAAAAQAAAAGAAAABwAAAAwAAAALAAAABAAAAAgAAAANAAAADgAAAAkAAAAEAAAABQAAAAkAAAAPAAAACgAAAAQAAAAHAAAACgAAABAAAAAMAAAABAAAAAsAAAAMAAAAEgAAABEAAAAEAAAADQAAABMAAAAUAAAADgAAAAQAAAAJAAAADgAAABUAAAAPAAAABAAAAAoAAAAPAAAAFgAAABAAAAAEAAAADAAAABAAAAAXAAAAEgAAAAQAAAARAAAAEgAAABkAAAAYAAAABAAAABMAAAAaAAAAGwAAABQAAAAEAAAADgAAABQAAAAcAAAAFQAAAAQAAAAPAAAAFQAAAB0AAAAWAAAABAAAABAAAAAWAAAAHgAAABcAAAAEAAAAEgAAABcAAAAfAAAAGQAAAAQAAAAYAAAAGQAAACEAAAAgAAAABAAAABoAAAAiAAAAIwAAABsAAAAEAAAAFAAAABsAAAAkAAAAHAAAAAQAAAAVAAAAHAAAACUAAAAdAAAABAAAABYAAAAdAAAAJgAAAB4AAAAEAAAAFwAAAB4AAAAnAAAAHwAAAAQAAAAZAAAAHwAAACgAAAAhAAAABAAAACAAAAAhAAAAKgAAACkAAAAEAAAAIgAAACsAAAAsAAAAIwAAAAQAAAAbAAAAIwAAAC0AAAAkAAAABAAAABwAAAAkAAAALgAAACUAAAAEAAAAHQAAACUAAAAvAAAAJgAAAAQAAAAeAAAAJgAAADAAAAAnAAAABAAAAB8AAAAnAAAAMQAAACgAAAAEAAAAIQAAACgAAAAyAAAAKgAAAAQAAAApAAAAKgAAADQAAAAzAAAABAAAACMAAAAsAAAANQAAAC0AAAAEAAAAJAAAAC0AAAA2AAAALgAAAAQAAAAlAAAALgAAADcAAAAvAAAABAAAACYAAAAvAAAAOAAAADAAAAAEAAAAJwAAADAAAAA5AAAAMQAAAAQAAAAoAAAAMQAAADoAAAAyAAAABAAAACoAAAAyAAAAOwAAADQAAAAEAAAALQAAADUAAAA8AAAANgAAAAQAAAAuAAAANgAAAD0AAAA3AAAABAAAAC8AAAA3AAAAPgAAADgAAAAEAAAAMAAAADgAAAA/AAAAOQAAAAQAAAAxAAAAOQAAAEAAAAA6AAAABAAAADIAAAA6AAAAQQAAADsAAAAEAAAANgAAADwAAABCAAAAPQAAAAQAAAA3AAAAPQAAAEMAAAA+AAAABAAAADgAAAA+AAAARAAAAD8AAAAEAAAAOQAAAD8AAABFAAAAQAAAAAQAAAA6AAAAQAAAAEYAAABBAAAABAAAAD0AAABCAAAARwAAAEMAAAAEAAAAPgAAAEMAAABIAAAARAAAAAQAAAA/AAAARAAAAEkAAABFAAAABAAAAEAAAABFAAAASgAAAEYAAAAEAAAAQwAAAEcAAABLAAAASAAAAAQAAABEAAAASAAAAEwAAABJAAAABAAAAEUAAABJAAAATQAAAEoAAAAEAAAASAAAAEsAAABOAAAATAAAAAQAAABJAAAATAAAAE8AAABNAAAABAAAAEwAAABOAAAAUAAAAE8AAAA=\"}],[\"522752588ec2495010ac7c649c66c0f0\",{\"type\":\"bytes\",\"data\":\"AAAAAAAA8D8AAAAAAIDwPwAAAAAAQPA///////+/8D8AAAAAAADyP/3/////P/I/AAAAAAAA8T/8/////3/xPwAAAAAAgPQ//P////+/9D/5///////yPwAAAAAAQPI/+/////+/8j8AAAAAAAD4P/7/////P/g/+P////9/9T/3/////z/0PwAAAAAAAPQ/+/////9/9D8AAAAAAID8P/7/////v/w/+P//////+D/4/////7/2P/b///////U/AAAAAABA9j/7/////7/2PwAAAAAAAAFAAQAAAAAgAUD8/////3/9P/b/////P/o/8/////9/+D/4/////z/4PwAAAAAAAPk//P////9/+T8AAAAAAEAEQAEAAAAAYARA/v////9/AUD1/////7/+P/P///////s/9f////+/+j/2///////6PwAAAAAAQPw//f////+//D8AAAAAAAAIQAAAAAAAIAhAAQAAAADABED9/////x8CQPf/////PwBA9P////8//j/1/////3/9P/3/////P/4/AAAAAAAAAEAAAAAAAEAAQAAAAAAAgAhA//////9fBUD6//////8CQPv/////XwFA+v////9/AED6/////18AQAAAAAAAAAFAAAAAAAAgCUD7/////z8GQPr/////HwRA+v////+/AkD9/////x8CQAAAAAAAQAJAAAAAAAAACkD9/////18HQP3/////fwVA/v////9fBEAAAAAAAAAEQAAAAAAAIAtA//////+/CED//////x8HQAAAAAAAQAZAAAAAAACADED//////18KQAAAAAAAAAlAAAAAAAAgDkAAAAAAAEAMQAAAAAAAABBA\"}],[\"ce52d598102e2756143cf4f27a0b5911\",{\"type\":\"bytes\",\"data\":\"RAFU/0QCVf9EA1f/RQVY/0UGWv9FCFv/Rglc/0YLXv9GDF//Rg5h/0cPYv9HEWP/RxJl/0cUZv9HFWf/RxZp/0cYav9IGWv/SBps/0gcbv9IHW//SB5w/0ggcf9IIXL/SCJz/0gjdP9HJXX/RyZ2/0cnd/9HKHj/Ryp5/0crev9HLHv/Ri18/0YvfP9GMH3/RjF+/0Uyf/9FNH//RTWA/0U2gf9EN4H/RDmC/0M6g/9DO4P/QzyE/0I9hP9CPoX/QkCF/0FBhv9BQob/QEOH/0BEh/8/RYf/P0eI/z5IiP8+SYn/PUqJ/z1Lif89TIn/PE2K/zxOiv87UIr/O1GK/zpSi/86U4v/OVSL/zlVi/84Vov/OFeM/zdYjP83WYz/NlqM/zZbjP81XIz/NV2M/zRejf80X43/M2CN/zNhjf8yYo3/MmON/zFkjf8xZY3/MWaN/zBnjf8waI3/L2mN/y9qjf8ua47/LmyO/y5tjv8tbo7/LW+O/yxwjv8scY7/LHKO/ytzjv8rdI7/KnWO/yp2jv8qd47/KXiO/yl5jv8oeo7/KHqO/yh7jv8nfI7/J32O/yd+jv8mf47/JoCO/yaBjv8lgo7/JYON/ySEjf8khY3/JIaN/yOHjf8jiI3/I4mN/yKJjf8iio3/IouN/yGMjf8hjYz/IY6M/yCPjP8gkIz/IJGM/x+SjP8fk4v/H5SL/x+Vi/8flov/HpeK/x6Yiv8emYr/HpmK/x6aif8em4n/HpyJ/x6diP8enoj/Hp+I/x6gh/8foYf/H6KG/x+jhv8gpIX/IKWF/yGmhf8hp4T/IqeE/yOog/8jqYL/JKqC/yWrgf8mrIH/J62A/yiuf/8pr3//KrB+/yuxff8ssX3/LrJ8/y+ze/8wtHr/MrV6/zO2ef81t3j/Nrh3/zi5dv85uXb/O7p1/z27dP8+vHP/QL1y/0K+cf9EvnD/Rb9v/0fAbv9JwW3/S8Js/03Ca/9Pw2n/UcRo/1PFZ/9Vxmb/V8Zl/1nHZP9byGL/Xslh/2DJYP9iyl//ZMtd/2fMXP9pzFv/a81Z/23OWP9wzlb/cs9V/3TQVP930FL/edFR/3zST/9+0k7/gdNM/4PTS/+G1En/iNVH/4vVRv+N1kT/kNZD/5LXQf+V1z//l9g+/5rYPP+d2Tr/n9k4/6LaN/+l2jX/p9sz/6rbMv+t3DD/r9wu/7LdLP+13Sv/t90p/7reJ/+93ib/v98k/8LfIv/F3yH/x+Af/8rgHv/N4B3/z+Ec/9LhG//U4Rr/1+IZ/9riGP/c4hj/3+MY/+HjGP/k4xj/5+QZ/+nkGf/s5Br/7uUb//HlHP/z5R7/9uYf//jmIf/65iL//eck/w==\"}]]},\"scene\":{\"type\":\"map\",\"entries\":[[\"parent\",\"6c5e44fb-eb39-4239-b269-a69016f1afbb0x0\"],[\"id\",\"6c5e44fb-eb39-4239-b269-a69016f1afbb0000557b3c08b720\"],[\"type\",\"vtkXOpenGLRenderWindow\"],[\"properties\",{\"type\":\"map\",\"entries\":[[\"numberOfLayers\",2]]}],[\"dependencies\",[{\"type\":\"map\",\"entries\":[[\"parent\",\"6c5e44fb-eb39-4239-b269-a69016f1afbb0000557b3c08b720\"],[\"id\",\"6c5e44fb-eb39-4239-b269-a69016f1afbb0000557b3c129040\"],[\"type\",\"vtkOpenGLRenderer\"],[\"properties\",{\"type\":\"map\",\"entries\":[[\"background\",[1.0,1.0,1.0]],[\"background2\",[0.2,0.2,0.2]],[\"viewport\",[0.0,0.0,1.0,1.0]],[\"twoSidedLighting\",1],[\"lightFollowCamera\",1],[\"layer\",0],[\"preserveColorBuffer\",0],[\"preserveDepthBuffer\",0],[\"nearClippingPlaneTolerance\",0.001],[\"clippingRangeExpansion\",0.5],[\"useShadows\",0],[\"useDepthPeeling\",0],[\"occlusionRatio\",0.0],[\"maximumNumberOfPeels\",4],[\"interactive\",1]]}],[\"dependencies\",[{\"type\":\"map\",\"entries\":[[\"parent\",\"6c5e44fb-eb39-4239-b269-a69016f1afbb0000557b3c129040\"],[\"id\",\"0000557b3c03e6f0\"],[\"type\",\"vtkOpenGLCamera\"],[\"properties\",{\"type\":\"map\",\"entries\":[[\"focalPoint\",[0.5,0.5,2.5]],[\"position\",[4.199214280684376,4.199214280684376,6.199214280684376]],[\"viewUp\",[0.0,0.0,1.0]],[\"clippingRange\",[3.470837222189011,10.118991549263171]]]}]]},{\"type\":\"map\",\"entries\":[[\"parent\",\"6c5e44fb-eb39-4239-b269-a69016f1afbb0000557b3c129040\"],[\"id\",\"6c5e44fb-eb39-4239-b269-a69016f1afbb0000557b3c10e2b0\"],[\"type\",\"vtkOpenGLActor\"],[\"properties\",{\"type\":\"map\",\"entries\":[[\"visibility\",1],[\"pickable\",1],[\"dragable\",1],[\"useBounds\",true],[\"origin\",[0.0,0.0,0.0]],[\"position\",[0.0,0.0,0.0]],[\"scale\",[1.0,1.0,1.0]],[\"orientation\",[0.0,-0.0,0.0]],[\"forceOpaque\",false],[\"forceTranslucent\",false]]}],[\"calls\",[[\"setMapper\",[\"instance:${6c5e44fb-eb39-4239-b269-a69016f1afbb0000557b3a2a5f70}\"]],[\"setProperty\",[\"instance:${6c5e44fb-eb39-4239-b269-a69016f1afbb0000557b3c097160}\"]]]],[\"dependencies\",[{\"type\":\"map\",\"entries\":[[\"parent\",\"6c5e44fb-eb39-4239-b269-a69016f1afbb0000557b3c10e2b0\"],[\"id\",\"6c5e44fb-eb39-4239-b269-a69016f1afbb0000557b3a2a5f70\"],[\"properties\",{\"type\":\"map\",\"entries\":[[\"resolveCoincidentTopology\",0],[\"renderTime\",0.0],[\"arrayAccessMode\",1],[\"scalarRange\",[1.0,4.0]],[\"useLookupTableScalarRange\",0],[\"scalarVisibility\",1],[\"colorByArrayName\",null],[\"colorMode\",1],[\"scalarMode\",1],[\"interpolateScalarsBeforeMapping\",1]]}],[\"calls\",[[\"setInputData\",[\"instance:${6c5e44fb-eb39-4239-b269-a69016f1afbb0000557b3a2a5f70-dataset-0}\",0]],[\"setLookupTable\",[\"instance:${6c5e44fb-eb39-4239-b269-a69016f1afbb0000557b3c051b00}\"]]]],[\"dependencies\",[{\"type\":\"map\",\"entries\":[[\"parent\",\"6c5e44fb-eb39-4239-b269-a69016f1afbb0000557b3a2a5f70\"],[\"id\",\"6c5e44fb-eb39-4239-b269-a69016f1afbb0000557b3a2a5f70-dataset-0\"],[\"type\",\"vtkPolyData\"],[\"properties\",{\"type\":\"map\",\"entries\":[[\"points\",{\"type\":\"map\",\"entries\":[[\"hash\",\"5290f5f5845eaa94c80b01695a5ecdba\"],[\"vtkClass\",\"vtkPoints\"],[\"name\",\"Points\"],[\"dataType\",\"Float32Array\"],[\"numberOfComponents\",3],[\"size\",243],[\"ranges\",[{\"type\":\"map\",\"entries\":[[\"min\",-6.938893903907228e-18],[\"max\",1.0],[\"component\",null]]},{\"type\":\"map\",\"entries\":[[\"min\",-6.938893903907228e-18],[\"max\",1.0],[\"component\",null]]},{\"type\":\"map\",\"entries\":[[\"min\",1.0],[\"max\",4.0],[\"component\",null]]},{\"type\":\"map\",\"entries\":[[\"min\",1.0],[\"max\",4.242640687119285],[\"component\",null]]}]]]}],[\"polys\",{\"type\":\"map\",\"entries\":[[\"hash\",\"6e1996ab456e3fd81a231d475bd9e9a2\"],[\"vtkClass\",\"vtkCellArray\"],[\"name\",null],[\"dataType\",\"Uint32Array\"],[\"numberOfComponents\",1],[\"size\",320],[\"ranges\",[{\"type\":\"map\",\"entries\":[[\"min\",0.0],[\"max\",80.0],[\"component\",null]]}]]]}],[\"fields\",[{\"type\":\"map\",\"entries\":[[\"hash\",\"522752588ec2495010ac7c649c66c0f0\"],[\"vtkClass\",\"vtkDataArray\"],[\"name\",\"u\"],[\"dataType\",\"Float64Array\"],[\"numberOfComponents\",1],[\"size\",81],[\"ranges\",[{\"type\":\"map\",\"entries\":[[\"min\",1.0],[\"max\",4.0],[\"component\",null]]}]],[\"location\",\"pointData\"],[\"registration\",\"setScalars\"]]}]]]}]]},{\"type\":\"map\",\"entries\":[[\"parent\",\"6c5e44fb-eb39-4239-b269-a69016f1afbb0000557b3a2a5f70\"],[\"id\",\"6c5e44fb-eb39-4239-b269-a69016f1afbb0000557b3c051b00\"],[\"type\",\"vtkLookupTable\"],[\"properties\",{\"type\":\"map\",\"entries\":[[\"numberOfColors\",256],[\"valueRange\",[1.0,4.0]],[\"range\",[1.0,4.0]],[\"hueRange\",[0.5,0]],[\"saturationRange\",[1.0,1.0]],[\"nanColor\",[0.6627450980392157,0.6627450980392157,0.6627450980392157,1.0]],[\"belowRangeColor\",[0.0,0.0,0.0,1.0]],[\"aboveRangeColor\",[1.0,1.0,1.0,1.0]],[\"useAboveRangeColor\",false],[\"useBelowRangeColor\",false],[\"alpha\",1.0],[\"vectorSize\",-1],[\"vectorComponent\",0],[\"vectorMode\",1],[\"indexedLookup\",0]]}],[\"arrays\",[{\"type\":\"map\",\"entries\":[[\"hash\",\"ce52d598102e2756143cf4f27a0b5911\"],[\"vtkClass\",\"vtkDataArray\"],[\"name\",null],[\"dataType\",\"Uint8Array\"],[\"numberOfComponents\",4],[\"size\",1024],[\"ranges\",[{\"type\":\"map\",\"entries\":[[\"min\",30.0],[\"max\",253.0],[\"component\",null]]},{\"type\":\"map\",\"entries\":[[\"min\",1.0],[\"max\",231.0],[\"component\",null]]},{\"type\":\"map\",\"entries\":[[\"min\",24.0],[\"max\",142.0],[\"component\",null]]},{\"type\":\"map\",\"entries\":[[\"min\",255.0],[\"max\",255.0],[\"component\",null]]},{\"type\":\"map\",\"entries\":[[\"min\",276.95848064285735],[\"max\",428.5918804643877],[\"component\",null]]}]],[\"registration\",\"setTable\"]]}]]]}]],[\"type\",\"vtkDataSetMapper\"]]},{\"type\":\"map\",\"entries\":[[\"parent\",\"6c5e44fb-eb39-4239-b269-a69016f1afbb0000557b3c10e2b0\"],[\"id\",\"6c5e44fb-eb39-4239-b269-a69016f1afbb0000557b3c097160\"],[\"type\",\"vtkOpenGLProperty\"],[\"properties\",{\"type\":\"map\",\"entries\":[[\"representation\",2],[\"diffuseColor\",[0.6784313725490196,0.8470588235294118,0.9019607843137255]],[\"color\",[0.6784313725490196,0.8470588235294118,0.9019607843137255]],[\"ambientColor\",[0.6784313725490196,0.8470588235294118,0.9019607843137255]],[\"specularColor\",[0.6784313725490196,0.8470588235294118,0.9019607843137255]],[\"edgeColor\",[0.0,0.0,0.0]],[\"ambient\",0.0],[\"diffuse\",1.0],[\"specular\",0.0],[\"specularPower\",100.0],[\"opacity\",1.0],[\"interpolation\",0],[\"edgeVisibility\",1],[\"backfaceCulling\",0],[\"frontfaceCulling\",0],[\"pointSize\",5.0],[\"lineWidth\",1.0],[\"lighting\",1]]}]]}]]]}]],[\"calls\",[[\"setActiveCamera\",[\"instance:${0000557b3c03e6f0}\"]],[\"addViewProp\",[\"instance:${6c5e44fb-eb39-4239-b269-a69016f1afbb0000557b3c10e2b0}\"]]]]]},{\"type\":\"map\",\"entries\":[[\"parent\",\"6c5e44fb-eb39-4239-b269-a69016f1afbb0000557b3c08b720\"],[\"id\",\"6c5e44fb-eb39-4239-b269-a69016f1afbb0000557b3c129630\"],[\"type\",\"vtkOpenGLRenderer\"],[\"properties\",{\"type\":\"map\",\"entries\":[[\"background\",[1.0,1.0,1.0]],[\"background2\",[0.2,0.2,0.2]],[\"viewport\",[0.0,0.0,1.0,1.0]],[\"twoSidedLighting\",1],[\"lightFollowCamera\",1],[\"layer\",1],[\"preserveColorBuffer\",1],[\"preserveDepthBuffer\",0],[\"nearClippingPlaneTolerance\",0.0],[\"clippingRangeExpansion\",0.5],[\"useShadows\",0],[\"useDepthPeeling\",0],[\"occlusionRatio\",0.0],[\"maximumNumberOfPeels\",4],[\"interactive\",0]]}],[\"dependencies\",[{\"type\":\"map\",\"entries\":[[\"parent\",\"6c5e44fb-eb39-4239-b269-a69016f1afbb0000557b3c129630\"],[\"id\",\"0000557b3c0b8cf0\"],[\"type\",\"vtkOpenGLCamera\"],[\"properties\",{\"type\":\"map\",\"entries\":[[\"focalPoint\",[0.0,0.0,0.0]],[\"position\",[0.0,0.0,1.0]],[\"viewUp\",[0.0,1.0,0.0]],[\"clippingRange\",[0.01,1000.01]]]}]]}]],[\"calls\",[[\"setActiveCamera\",[\"instance:${0000557b3c0b8cf0}\"]]]]]}]],[\"calls\",[[\"addRenderer\",[\"instance:${6c5e44fb-eb39-4239-b269-a69016f1afbb0000557b3c129040}\"]],[\"addRenderer\",[\"instance:${6c5e44fb-eb39-4239-b269-a69016f1afbb0000557b3c129630}\"]]]],[\"mtime\",21499]]}}},{\"type\":\"object\",\"name\":\"panel.models.comm_manager.CommManager\",\"id\":\"4f57fcd2-48e4-49a6-b8b3-24009029f7c2\",\"attributes\":{\"plot_id\":\"70f45786-9d4c-4c7c-b52a-3248466f45f2\",\"comm_id\":\"2c0f8bd5cd27417f876408a0674c821e\",\"client_comm_id\":\"d51c0be265974043a96900076ecbe096\"}}],\"defs\":[{\"type\":\"model\",\"name\":\"ReactiveHTML1\"},{\"type\":\"model\",\"name\":\"FlexBox1\",\"properties\":[{\"name\":\"align_content\",\"kind\":\"Any\",\"default\":\"flex-start\"},{\"name\":\"align_items\",\"kind\":\"Any\",\"default\":\"flex-start\"},{\"name\":\"flex_direction\",\"kind\":\"Any\",\"default\":\"row\"},{\"name\":\"flex_wrap\",\"kind\":\"Any\",\"default\":\"wrap\"},{\"name\":\"justify_content\",\"kind\":\"Any\",\"default\":\"flex-start\"}]},{\"type\":\"model\",\"name\":\"FloatPanel1\",\"properties\":[{\"name\":\"config\",\"kind\":\"Any\",\"default\":{\"type\":\"map\"}},{\"name\":\"contained\",\"kind\":\"Any\",\"default\":true},{\"name\":\"position\",\"kind\":\"Any\",\"default\":\"right-top\"},{\"name\":\"offsetx\",\"kind\":\"Any\",\"default\":null},{\"name\":\"offsety\",\"kind\":\"Any\",\"default\":null},{\"name\":\"theme\",\"kind\":\"Any\",\"default\":\"primary\"},{\"name\":\"status\",\"kind\":\"Any\",\"default\":\"normalized\"}]},{\"type\":\"model\",\"name\":\"GridStack1\",\"properties\":[{\"name\":\"mode\",\"kind\":\"Any\",\"default\":\"warn\"},{\"name\":\"ncols\",\"kind\":\"Any\",\"default\":null},{\"name\":\"nrows\",\"kind\":\"Any\",\"default\":null},{\"name\":\"allow_resize\",\"kind\":\"Any\",\"default\":true},{\"name\":\"allow_drag\",\"kind\":\"Any\",\"default\":true},{\"name\":\"state\",\"kind\":\"Any\",\"default\":[]}]},{\"type\":\"model\",\"name\":\"drag1\",\"properties\":[{\"name\":\"slider_width\",\"kind\":\"Any\",\"default\":5},{\"name\":\"slider_color\",\"kind\":\"Any\",\"default\":\"black\"},{\"name\":\"value\",\"kind\":\"Any\",\"default\":50}]},{\"type\":\"model\",\"name\":\"click1\",\"properties\":[{\"name\":\"terminal_output\",\"kind\":\"Any\",\"default\":\"\"},{\"name\":\"debug_name\",\"kind\":\"Any\",\"default\":\"\"},{\"name\":\"clears\",\"kind\":\"Any\",\"default\":0}]},{\"type\":\"model\",\"name\":\"FastWrapper1\",\"properties\":[{\"name\":\"object\",\"kind\":\"Any\",\"default\":null},{\"name\":\"style\",\"kind\":\"Any\",\"default\":null}]},{\"type\":\"model\",\"name\":\"NotificationAreaBase1\",\"properties\":[{\"name\":\"js_events\",\"kind\":\"Any\",\"default\":{\"type\":\"map\"}},{\"name\":\"position\",\"kind\":\"Any\",\"default\":\"bottom-right\"},{\"name\":\"_clear\",\"kind\":\"Any\",\"default\":0}]},{\"type\":\"model\",\"name\":\"NotificationArea1\",\"properties\":[{\"name\":\"js_events\",\"kind\":\"Any\",\"default\":{\"type\":\"map\"}},{\"name\":\"notifications\",\"kind\":\"Any\",\"default\":[]},{\"name\":\"position\",\"kind\":\"Any\",\"default\":\"bottom-right\"},{\"name\":\"_clear\",\"kind\":\"Any\",\"default\":0},{\"name\":\"types\",\"kind\":\"Any\",\"default\":[{\"type\":\"map\",\"entries\":[[\"type\",\"warning\"],[\"background\",\"#ffc107\"],[\"icon\",{\"type\":\"map\",\"entries\":[[\"className\",\"fas fa-exclamation-triangle\"],[\"tagName\",\"i\"],[\"color\",\"white\"]]}]]},{\"type\":\"map\",\"entries\":[[\"type\",\"info\"],[\"background\",\"#007bff\"],[\"icon\",{\"type\":\"map\",\"entries\":[[\"className\",\"fas fa-info-circle\"],[\"tagName\",\"i\"],[\"color\",\"white\"]]}]]}]}]},{\"type\":\"model\",\"name\":\"Notification\",\"properties\":[{\"name\":\"background\",\"kind\":\"Any\",\"default\":null},{\"name\":\"duration\",\"kind\":\"Any\",\"default\":3000},{\"name\":\"icon\",\"kind\":\"Any\",\"default\":null},{\"name\":\"message\",\"kind\":\"Any\",\"default\":\"\"},{\"name\":\"notification_type\",\"kind\":\"Any\",\"default\":null},{\"name\":\"_destroyed\",\"kind\":\"Any\",\"default\":false}]},{\"type\":\"model\",\"name\":\"TemplateActions1\",\"properties\":[{\"name\":\"open_modal\",\"kind\":\"Any\",\"default\":0},{\"name\":\"close_modal\",\"kind\":\"Any\",\"default\":0}]},{\"type\":\"model\",\"name\":\"BootstrapTemplateActions1\",\"properties\":[{\"name\":\"open_modal\",\"kind\":\"Any\",\"default\":0},{\"name\":\"close_modal\",\"kind\":\"Any\",\"default\":0}]},{\"type\":\"model\",\"name\":\"MaterialTemplateActions1\",\"properties\":[{\"name\":\"open_modal\",\"kind\":\"Any\",\"default\":0},{\"name\":\"close_modal\",\"kind\":\"Any\",\"default\":0}]}]}};\n",
       "  var render_items = [{\"docid\":\"8b7e72af-c9e5-4e47-8879-eb8a216a2833\",\"roots\":{\"70f45786-9d4c-4c7c-b52a-3248466f45f2\":\"af9cc345-ef78-404f-9eed-c964e18cadbf\"},\"root_ids\":[\"70f45786-9d4c-4c7c-b52a-3248466f45f2\"]}];\n",
       "  var docs = Object.values(docs_json)\n",
       "  if (!docs) {\n",
       "    return\n",
       "  }\n",
       "  const py_version = docs[0].version.replace('rc', '-rc.').replace('.dev', '-dev.')\n",
       "  const is_dev = py_version.indexOf(\"+\") !== -1 || py_version.indexOf(\"-\") !== -1\n",
       "  function embed_document(root) {\n",
       "    var Bokeh = get_bokeh(root)\n",
       "    Bokeh.embed.embed_items_notebook(docs_json, render_items);\n",
       "    for (const render_item of render_items) {\n",
       "      for (const root_id of render_item.root_ids) {\n",
       "\tconst id_el = document.getElementById(root_id)\n",
       "\tif (id_el.children.length && (id_el.children[0].className === 'bk-root')) {\n",
       "\t  const root_el = id_el.children[0]\n",
       "\t  root_el.id = root_el.id + '-rendered'\n",
       "\t}\n",
       "      }\n",
       "    }\n",
       "  }\n",
       "  function get_bokeh(root) {\n",
       "    if (root.Bokeh === undefined) {\n",
       "      return null\n",
       "    } else if (root.Bokeh.version !== py_version && !is_dev) {\n",
       "      if (root.Bokeh.versions === undefined || !root.Bokeh.versions.has(py_version)) {\n",
       "\treturn null\n",
       "      }\n",
       "      return root.Bokeh.versions.get(py_version);\n",
       "    } else if (root.Bokeh.version === py_version) {\n",
       "      return root.Bokeh\n",
       "    }\n",
       "    return null\n",
       "  }\n",
       "  function is_loaded(root) {\n",
       "    var Bokeh = get_bokeh(root)\n",
       "    return (Bokeh != null && Bokeh.Panel !== undefined && ( root['vtk'] !== undefined) && ( root['vtk'] !== undefined))\n",
       "  }\n",
       "  if (is_loaded(root)) {\n",
       "    embed_document(root);\n",
       "  } else {\n",
       "    var attempts = 0;\n",
       "    var timer = setInterval(function(root) {\n",
       "      if (is_loaded(root)) {\n",
       "        clearInterval(timer);\n",
       "        embed_document(root);\n",
       "      } else if (document.readyState == \"complete\") {\n",
       "        attempts++;\n",
       "        if (attempts > 200) {\n",
       "          clearInterval(timer);\n",
       "\t  var Bokeh = get_bokeh(root)\n",
       "\t  if (Bokeh == null || Bokeh.Panel == null) {\n",
       "            console.warn(\"Panel: ERROR: Unable to run Panel code because Bokeh or Panel library is missing\");\n",
       "\t  } else {\n",
       "\t    console.warn(\"Panel: WARNING: Attempting to render but not all required libraries could be resolved.\")\n",
       "\t    embed_document(root)\n",
       "\t  }\n",
       "        }\n",
       "      }\n",
       "    }, 25, root)\n",
       "  }\n",
       "})(window);</script>"
      ],
      "text/plain": [
       "VTKRenderWindowSynchronized(vtkXOpenGLRenderWindow, color_mappers=[LinearColorMapper(id='d67...], sizing_mode='stretch_width')"
      ]
     },
     "metadata": {
      "application/vnd.holoviews_exec.v0+json": {
       "id": "70f45786-9d4c-4c7c-b52a-3248466f45f2"
      }
     },
     "output_type": "display_data"
    }
   ],
   "source": [
    "warped = u_grid.warp_by_scalar()\n",
    "plotter2 = pyvista.Plotter()\n",
    "plotter2.add_mesh(warped, show_edges=True, show_scalar_bar=True)\n",
    "if not pyvista.OFF_SCREEN:\n",
    "    plotter2.show()"
   ]
  },
  {
   "cell_type": "markdown",
   "id": "d0fa5de7",
   "metadata": {},
   "source": [
    "## External post-processing\n",
    "For post-processing outside the python code, it is suggested to save the solution to file using either `dolfinx.io.VTXWriter` or `dolfinx.io.XDMFFile` and using [Paraview](https://www.paraview.org/). This is especially suggested for 3D visualization."
   ]
  },
  {
   "cell_type": "code",
   "execution_count": 19,
   "id": "bd23a189",
   "metadata": {
    "vscode": {
     "languageId": "python"
    }
   },
   "outputs": [],
   "source": [
    "from dolfinx import io\n",
    "from pathlib import Path\n",
    "results_folder = Path(\"results\")\n",
    "results_folder.mkdir(exist_ok=True, parents=True)\n",
    "filename = results_folder / \"fundamentals\"\n",
    "with io.VTXWriter(domain.comm, filename.with_suffix(\".bp\"), [uh]) as vtx:\n",
    "    vtx.write(0.0)\n",
    "with io.XDMFFile(domain.comm, filename.with_suffix(\".xdmf\"), \"w\") as xdmf:\n",
    "    xdmf.write_mesh(domain)\n",
    "    xdmf.write_function(uh)"
   ]
  },
  {
   "cell_type": "markdown",
   "id": "a12d8e28",
   "metadata": {},
   "source": [
    "```{bibliography}\n",
    "   :filter: cited and ({\"chapter1/fundamentals_code\"} >= docnames)\n",
    "```"
   ]
  }
 ],
 "metadata": {
  "jupytext": {
   "formats": "ipynb,py"
  },
  "kernelspec": {
   "display_name": "Python 3 (ipykernel)",
   "language": "python",
   "name": "python3"
  },
  "language_info": {
   "codemirror_mode": {
    "name": "ipython",
    "version": 3
   },
   "file_extension": ".py",
   "mimetype": "text/x-python",
   "name": "python",
   "nbconvert_exporter": "python",
   "pygments_lexer": "ipython3",
   "version": "3.10.6"
  },
  "vscode": {
   "interpreter": {
    "hash": "31f2aee4e71d21fbe5cf8b01ff0e069b9275f58929596ceb00d14d90e3e16cd6"
   }
  }
 },
 "nbformat": 4,
 "nbformat_minor": 5
}
